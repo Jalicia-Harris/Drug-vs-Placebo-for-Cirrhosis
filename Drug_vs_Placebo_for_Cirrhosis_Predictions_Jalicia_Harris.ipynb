{
  "nbformat": 4,
  "nbformat_minor": 0,
  "metadata": {
    "colab": {
      "provenance": [],
      "collapsed_sections": [
        "H8ATcM-XCU01",
        "AoFxGXtZAnXQ",
        "Q2-qLzo3t7ml",
        "YVkJcPeaVdtW",
        "j1c-dk3mXjjI",
        "Do386BqAYOg9",
        "ZFC_6nKvYoeD"
      ],
      "mount_file_id": "1cTYUj7-ebt_EZhlppVCU_sMqt1fUlSHW",
      "authorship_tag": "ABX9TyOn323O2XJxSPCcIQXCfDCz",
      "include_colab_link": true
    },
    "kernelspec": {
      "name": "python3",
      "display_name": "Python 3"
    },
    "language_info": {
      "name": "python"
    }
  },
  "cells": [
    {
      "cell_type": "markdown",
      "metadata": {
        "id": "view-in-github",
        "colab_type": "text"
      },
      "source": [
        "<a href=\"https://colab.research.google.com/github/Jalicia-Harris/Drug-vs-Placebo-for-Cirrhosis/blob/main/Drug_vs_Placebo_for_Cirrhosis_Predictions_Jalicia_Harris.ipynb\" target=\"_parent\"><img src=\"https://colab.research.google.com/assets/colab-badge.svg\" alt=\"Open In Colab\"/></a>"
      ]
    },
    {
      "cell_type": "markdown",
      "source": [
        "# Drug vs Placebo for Cirrhosis Predictions\n",
        "\n",
        "##### Jalicia Harris\n",
        "\n",
        "###Data Dictionary:\n",
        "\n",
        "1. ID: unique identifier\n",
        "2. N_Days: number of days between registration and the earlier of death, transplantation, or study analysis time in July 1986\n",
        "3. Status: status of the patient C (censored), CL (censored due to liver tx), or D (death)\n",
        "4. Drug: type of drug D-penicillamine or placebo\n",
        "5. Age: age in [days]\n",
        "6. Sex: M (male) or F (female)\n",
        "7. Ascites: presence of ascites N (No) or Y (Yes)\n",
        "8. Hepatomegaly: presence of hepatomegaly N (No) or Y (Yes)\n",
        "9. Spiders: presence of spiders N (No) or Y (Yes)\n",
        "10. Edema: presence of edema N (no edema and no diuretic therapy for edema), S (edema present without diuretics, or edema resolved by diuretics), or Y (edema despite diuretic therapy)\n",
        "11. Bilirubin: serum bilirubin in [mg/dl]\n",
        "12. Cholesterol: serum cholesterol in [mg/dl]\n",
        "13. Albumin: albumin in [gm/dl]\n",
        "14. Copper: urine copper in [ug/day]\n",
        "15. Alk_Phos: alkaline phosphatase in [U/liter]\n",
        "16. SGOT: SGOT in [U/ml]\n",
        "17. Triglycerides: triglicerides in [mg/dl]\n",
        "18. Platelets: platelets per cubic [ml/1000]\n",
        "19. Prothrombin: prothrombin time in seconds [s]\n",
        "20. Stage: histologic stage of disease (1, 2, 3, or 4)"
      ],
      "metadata": {
        "id": "-l7Eij0E_lT5"
      }
    },
    {
      "cell_type": "markdown",
      "source": [
        "## Import Libraries and Packages"
      ],
      "metadata": {
        "id": "_YYPxxpFArNe"
      }
    },
    {
      "cell_type": "code",
      "metadata": {
        "id": "pBoKFWqKgNIy"
      },
      "source": [
        "# Import Libraries\n",
        "import pandas as pd\n",
        "import numpy as np\n",
        "import matplotlib.pyplot as plt\n",
        "import seaborn as sns\n",
        "# Suppress  All Warnings\n",
        "import warnings\n",
        "warnings.filterwarnings('ignore')\n",
        "\n",
        "# Preprocessing packages\n",
        "from sklearn.model_selection import train_test_split, GridSearchCV\n",
        "from sklearn.compose import make_column_selector, make_column_transformer\n",
        "from sklearn.preprocessing import StandardScaler, OneHotEncoder\n",
        "from sklearn.pipeline import make_pipeline\n",
        "from sklearn.decomposition import PCA\n",
        "\n",
        "# Models\n",
        "from sklearn.neighbors import KNeighborsClassifier\n",
        "from sklearn.tree import DecisionTreeClassifier\n",
        "from sklearn.linear_model import LogisticRegression\n",
        "\n",
        "# Classification Metrics\n",
        "from sklearn.metrics import (ConfusionMatrixDisplay, classification_report)\n"
      ],
      "execution_count": 1,
      "outputs": []
    },
    {
      "cell_type": "markdown",
      "source": [
        "## Load and Inspect Data"
      ],
      "metadata": {
        "id": "jPPjHyw1ALpJ"
      }
    },
    {
      "cell_type": "code",
      "execution_count": 2,
      "metadata": {
        "colab": {
          "base_uri": "https://localhost:8080/",
          "height": 206
        },
        "id": "ThDv8Qd19XgT",
        "outputId": "2c28ef94-2bff-4115-92ac-247aca48c5c4"
      },
      "outputs": [
        {
          "output_type": "execute_result",
          "data": {
            "text/plain": [
              "   ID  N_Days Status             Drug    Age Sex Ascites Hepatomegaly Spiders  \\\n",
              "0   1     400      D  D-penicillamine  21464   F       Y            Y       Y   \n",
              "1   2    4500      C  D-penicillamine  20617   F       N            Y       Y   \n",
              "2   3    1012      D  D-penicillamine  25594   M       N            N       N   \n",
              "3   4    1925      D  D-penicillamine  19994   F       N            Y       Y   \n",
              "4   5    1504     CL          Placebo  13918   F       N            Y       Y   \n",
              "\n",
              "  Edema  Bilirubin  Cholesterol  Albumin  Copper  Alk_Phos    SGOT  \\\n",
              "0     Y       14.5        261.0     2.60   156.0    1718.0  137.95   \n",
              "1     N        1.1        302.0     4.14    54.0    7394.8  113.52   \n",
              "2     S        1.4        176.0     3.48   210.0     516.0   96.10   \n",
              "3     S        1.8        244.0     2.54    64.0    6121.8   60.63   \n",
              "4     N        3.4        279.0     3.53   143.0     671.0  113.15   \n",
              "\n",
              "   Tryglicerides  Platelets  Prothrombin  Stage  \n",
              "0          172.0      190.0         12.2    4.0  \n",
              "1           88.0      221.0         10.6    3.0  \n",
              "2           55.0      151.0         12.0    4.0  \n",
              "3           92.0      183.0         10.3    4.0  \n",
              "4           72.0      136.0         10.9    3.0  "
            ],
            "text/html": [
              "\n",
              "  <div id=\"df-8a9b9d89-6290-4079-b081-8ec1a929b534\">\n",
              "    <div class=\"colab-df-container\">\n",
              "      <div>\n",
              "<style scoped>\n",
              "    .dataframe tbody tr th:only-of-type {\n",
              "        vertical-align: middle;\n",
              "    }\n",
              "\n",
              "    .dataframe tbody tr th {\n",
              "        vertical-align: top;\n",
              "    }\n",
              "\n",
              "    .dataframe thead th {\n",
              "        text-align: right;\n",
              "    }\n",
              "</style>\n",
              "<table border=\"1\" class=\"dataframe\">\n",
              "  <thead>\n",
              "    <tr style=\"text-align: right;\">\n",
              "      <th></th>\n",
              "      <th>ID</th>\n",
              "      <th>N_Days</th>\n",
              "      <th>Status</th>\n",
              "      <th>Drug</th>\n",
              "      <th>Age</th>\n",
              "      <th>Sex</th>\n",
              "      <th>Ascites</th>\n",
              "      <th>Hepatomegaly</th>\n",
              "      <th>Spiders</th>\n",
              "      <th>Edema</th>\n",
              "      <th>Bilirubin</th>\n",
              "      <th>Cholesterol</th>\n",
              "      <th>Albumin</th>\n",
              "      <th>Copper</th>\n",
              "      <th>Alk_Phos</th>\n",
              "      <th>SGOT</th>\n",
              "      <th>Tryglicerides</th>\n",
              "      <th>Platelets</th>\n",
              "      <th>Prothrombin</th>\n",
              "      <th>Stage</th>\n",
              "    </tr>\n",
              "  </thead>\n",
              "  <tbody>\n",
              "    <tr>\n",
              "      <th>0</th>\n",
              "      <td>1</td>\n",
              "      <td>400</td>\n",
              "      <td>D</td>\n",
              "      <td>D-penicillamine</td>\n",
              "      <td>21464</td>\n",
              "      <td>F</td>\n",
              "      <td>Y</td>\n",
              "      <td>Y</td>\n",
              "      <td>Y</td>\n",
              "      <td>Y</td>\n",
              "      <td>14.5</td>\n",
              "      <td>261.0</td>\n",
              "      <td>2.60</td>\n",
              "      <td>156.0</td>\n",
              "      <td>1718.0</td>\n",
              "      <td>137.95</td>\n",
              "      <td>172.0</td>\n",
              "      <td>190.0</td>\n",
              "      <td>12.2</td>\n",
              "      <td>4.0</td>\n",
              "    </tr>\n",
              "    <tr>\n",
              "      <th>1</th>\n",
              "      <td>2</td>\n",
              "      <td>4500</td>\n",
              "      <td>C</td>\n",
              "      <td>D-penicillamine</td>\n",
              "      <td>20617</td>\n",
              "      <td>F</td>\n",
              "      <td>N</td>\n",
              "      <td>Y</td>\n",
              "      <td>Y</td>\n",
              "      <td>N</td>\n",
              "      <td>1.1</td>\n",
              "      <td>302.0</td>\n",
              "      <td>4.14</td>\n",
              "      <td>54.0</td>\n",
              "      <td>7394.8</td>\n",
              "      <td>113.52</td>\n",
              "      <td>88.0</td>\n",
              "      <td>221.0</td>\n",
              "      <td>10.6</td>\n",
              "      <td>3.0</td>\n",
              "    </tr>\n",
              "    <tr>\n",
              "      <th>2</th>\n",
              "      <td>3</td>\n",
              "      <td>1012</td>\n",
              "      <td>D</td>\n",
              "      <td>D-penicillamine</td>\n",
              "      <td>25594</td>\n",
              "      <td>M</td>\n",
              "      <td>N</td>\n",
              "      <td>N</td>\n",
              "      <td>N</td>\n",
              "      <td>S</td>\n",
              "      <td>1.4</td>\n",
              "      <td>176.0</td>\n",
              "      <td>3.48</td>\n",
              "      <td>210.0</td>\n",
              "      <td>516.0</td>\n",
              "      <td>96.10</td>\n",
              "      <td>55.0</td>\n",
              "      <td>151.0</td>\n",
              "      <td>12.0</td>\n",
              "      <td>4.0</td>\n",
              "    </tr>\n",
              "    <tr>\n",
              "      <th>3</th>\n",
              "      <td>4</td>\n",
              "      <td>1925</td>\n",
              "      <td>D</td>\n",
              "      <td>D-penicillamine</td>\n",
              "      <td>19994</td>\n",
              "      <td>F</td>\n",
              "      <td>N</td>\n",
              "      <td>Y</td>\n",
              "      <td>Y</td>\n",
              "      <td>S</td>\n",
              "      <td>1.8</td>\n",
              "      <td>244.0</td>\n",
              "      <td>2.54</td>\n",
              "      <td>64.0</td>\n",
              "      <td>6121.8</td>\n",
              "      <td>60.63</td>\n",
              "      <td>92.0</td>\n",
              "      <td>183.0</td>\n",
              "      <td>10.3</td>\n",
              "      <td>4.0</td>\n",
              "    </tr>\n",
              "    <tr>\n",
              "      <th>4</th>\n",
              "      <td>5</td>\n",
              "      <td>1504</td>\n",
              "      <td>CL</td>\n",
              "      <td>Placebo</td>\n",
              "      <td>13918</td>\n",
              "      <td>F</td>\n",
              "      <td>N</td>\n",
              "      <td>Y</td>\n",
              "      <td>Y</td>\n",
              "      <td>N</td>\n",
              "      <td>3.4</td>\n",
              "      <td>279.0</td>\n",
              "      <td>3.53</td>\n",
              "      <td>143.0</td>\n",
              "      <td>671.0</td>\n",
              "      <td>113.15</td>\n",
              "      <td>72.0</td>\n",
              "      <td>136.0</td>\n",
              "      <td>10.9</td>\n",
              "      <td>3.0</td>\n",
              "    </tr>\n",
              "  </tbody>\n",
              "</table>\n",
              "</div>\n",
              "      <button class=\"colab-df-convert\" onclick=\"convertToInteractive('df-8a9b9d89-6290-4079-b081-8ec1a929b534')\"\n",
              "              title=\"Convert this dataframe to an interactive table.\"\n",
              "              style=\"display:none;\">\n",
              "        \n",
              "  <svg xmlns=\"http://www.w3.org/2000/svg\" height=\"24px\"viewBox=\"0 0 24 24\"\n",
              "       width=\"24px\">\n",
              "    <path d=\"M0 0h24v24H0V0z\" fill=\"none\"/>\n",
              "    <path d=\"M18.56 5.44l.94 2.06.94-2.06 2.06-.94-2.06-.94-.94-2.06-.94 2.06-2.06.94zm-11 1L8.5 8.5l.94-2.06 2.06-.94-2.06-.94L8.5 2.5l-.94 2.06-2.06.94zm10 10l.94 2.06.94-2.06 2.06-.94-2.06-.94-.94-2.06-.94 2.06-2.06.94z\"/><path d=\"M17.41 7.96l-1.37-1.37c-.4-.4-.92-.59-1.43-.59-.52 0-1.04.2-1.43.59L10.3 9.45l-7.72 7.72c-.78.78-.78 2.05 0 2.83L4 21.41c.39.39.9.59 1.41.59.51 0 1.02-.2 1.41-.59l7.78-7.78 2.81-2.81c.8-.78.8-2.07 0-2.86zM5.41 20L4 18.59l7.72-7.72 1.47 1.35L5.41 20z\"/>\n",
              "  </svg>\n",
              "      </button>\n",
              "      \n",
              "  <style>\n",
              "    .colab-df-container {\n",
              "      display:flex;\n",
              "      flex-wrap:wrap;\n",
              "      gap: 12px;\n",
              "    }\n",
              "\n",
              "    .colab-df-convert {\n",
              "      background-color: #E8F0FE;\n",
              "      border: none;\n",
              "      border-radius: 50%;\n",
              "      cursor: pointer;\n",
              "      display: none;\n",
              "      fill: #1967D2;\n",
              "      height: 32px;\n",
              "      padding: 0 0 0 0;\n",
              "      width: 32px;\n",
              "    }\n",
              "\n",
              "    .colab-df-convert:hover {\n",
              "      background-color: #E2EBFA;\n",
              "      box-shadow: 0px 1px 2px rgba(60, 64, 67, 0.3), 0px 1px 3px 1px rgba(60, 64, 67, 0.15);\n",
              "      fill: #174EA6;\n",
              "    }\n",
              "\n",
              "    [theme=dark] .colab-df-convert {\n",
              "      background-color: #3B4455;\n",
              "      fill: #D2E3FC;\n",
              "    }\n",
              "\n",
              "    [theme=dark] .colab-df-convert:hover {\n",
              "      background-color: #434B5C;\n",
              "      box-shadow: 0px 1px 3px 1px rgba(0, 0, 0, 0.15);\n",
              "      filter: drop-shadow(0px 1px 2px rgba(0, 0, 0, 0.3));\n",
              "      fill: #FFFFFF;\n",
              "    }\n",
              "  </style>\n",
              "\n",
              "      <script>\n",
              "        const buttonEl =\n",
              "          document.querySelector('#df-8a9b9d89-6290-4079-b081-8ec1a929b534 button.colab-df-convert');\n",
              "        buttonEl.style.display =\n",
              "          google.colab.kernel.accessAllowed ? 'block' : 'none';\n",
              "\n",
              "        async function convertToInteractive(key) {\n",
              "          const element = document.querySelector('#df-8a9b9d89-6290-4079-b081-8ec1a929b534');\n",
              "          const dataTable =\n",
              "            await google.colab.kernel.invokeFunction('convertToInteractive',\n",
              "                                                     [key], {});\n",
              "          if (!dataTable) return;\n",
              "\n",
              "          const docLinkHtml = 'Like what you see? Visit the ' +\n",
              "            '<a target=\"_blank\" href=https://colab.research.google.com/notebooks/data_table.ipynb>data table notebook</a>'\n",
              "            + ' to learn more about interactive tables.';\n",
              "          element.innerHTML = '';\n",
              "          dataTable['output_type'] = 'display_data';\n",
              "          await google.colab.output.renderOutput(dataTable, element);\n",
              "          const docLink = document.createElement('div');\n",
              "          docLink.innerHTML = docLinkHtml;\n",
              "          element.appendChild(docLink);\n",
              "        }\n",
              "      </script>\n",
              "    </div>\n",
              "  </div>\n",
              "  "
            ]
          },
          "metadata": {},
          "execution_count": 2
        }
      ],
      "source": [
        "# Load and Display Data\n",
        "df = pd.read_csv('/content/drive/MyDrive/Data/cirrhosis.csv')\n",
        "df.head()"
      ]
    },
    {
      "cell_type": "code",
      "source": [
        "# Display column info and datatypes\n",
        "df.info()"
      ],
      "metadata": {
        "colab": {
          "base_uri": "https://localhost:8080/"
        },
        "id": "RZ_qMVC7B6jm",
        "outputId": "52285382-9a1e-4c6e-9164-e29ff094aca3"
      },
      "execution_count": 3,
      "outputs": [
        {
          "output_type": "stream",
          "name": "stdout",
          "text": [
            "<class 'pandas.core.frame.DataFrame'>\n",
            "RangeIndex: 418 entries, 0 to 417\n",
            "Data columns (total 20 columns):\n",
            " #   Column         Non-Null Count  Dtype  \n",
            "---  ------         --------------  -----  \n",
            " 0   ID             418 non-null    int64  \n",
            " 1   N_Days         418 non-null    int64  \n",
            " 2   Status         418 non-null    object \n",
            " 3   Drug           312 non-null    object \n",
            " 4   Age            418 non-null    int64  \n",
            " 5   Sex            418 non-null    object \n",
            " 6   Ascites        312 non-null    object \n",
            " 7   Hepatomegaly   312 non-null    object \n",
            " 8   Spiders        312 non-null    object \n",
            " 9   Edema          418 non-null    object \n",
            " 10  Bilirubin      418 non-null    float64\n",
            " 11  Cholesterol    284 non-null    float64\n",
            " 12  Albumin        418 non-null    float64\n",
            " 13  Copper         310 non-null    float64\n",
            " 14  Alk_Phos       312 non-null    float64\n",
            " 15  SGOT           312 non-null    float64\n",
            " 16  Tryglicerides  282 non-null    float64\n",
            " 17  Platelets      407 non-null    float64\n",
            " 18  Prothrombin    416 non-null    float64\n",
            " 19  Stage          412 non-null    float64\n",
            "dtypes: float64(10), int64(3), object(7)\n",
            "memory usage: 65.4+ KB\n"
          ]
        }
      ]
    },
    {
      "cell_type": "markdown",
      "source": [
        "### Display Number of Rows and Columns"
      ],
      "metadata": {
        "id": "H8ATcM-XCU01"
      }
    },
    {
      "cell_type": "code",
      "source": [
        "df.shape\n",
        "print(f'There are {df.shape[0]} rows and {df.shape[1]} columns')"
      ],
      "metadata": {
        "colab": {
          "base_uri": "https://localhost:8080/"
        },
        "id": "3c2Qp344CL9e",
        "outputId": "addf7538-5482-4abd-df34-581bdbb6f66a"
      },
      "execution_count": 4,
      "outputs": [
        {
          "output_type": "stream",
          "name": "stdout",
          "text": [
            "There are 418 rows and 20 columns\n"
          ]
        }
      ]
    },
    {
      "cell_type": "markdown",
      "source": [
        "## Clean the Dataset"
      ],
      "metadata": {
        "id": "AoFxGXtZAnXQ"
      }
    },
    {
      "cell_type": "markdown",
      "source": [
        "### Remove Unnecessary Columns"
      ],
      "metadata": {
        "id": "Hfwd__CSFXln"
      }
    },
    {
      "cell_type": "markdown",
      "source": [
        "- The 'ID' column will not be useful for making predictions, so the column will be dropped.\n",
        "- The 'Age' column contains way too many impossible values, so this will also be dropped."
      ],
      "metadata": {
        "id": "DM-34NhJFhNb"
      }
    },
    {
      "cell_type": "code",
      "source": [
        "# Remove unnecessary columns\n",
        "df.drop(columns=['ID', 'Age'], inplace=True)\n",
        "# Display columns to confirm change\n",
        "df.columns"
      ],
      "metadata": {
        "colab": {
          "base_uri": "https://localhost:8080/"
        },
        "id": "721YM3-WGZic",
        "outputId": "54a63e0a-1375-4256-e389-d37c9af85ae5"
      },
      "execution_count": 5,
      "outputs": [
        {
          "output_type": "execute_result",
          "data": {
            "text/plain": [
              "Index(['N_Days', 'Status', 'Drug', 'Sex', 'Ascites', 'Hepatomegaly', 'Spiders',\n",
              "       'Edema', 'Bilirubin', 'Cholesterol', 'Albumin', 'Copper', 'Alk_Phos',\n",
              "       'SGOT', 'Tryglicerides', 'Platelets', 'Prothrombin', 'Stage'],\n",
              "      dtype='object')"
            ]
          },
          "metadata": {},
          "execution_count": 5
        }
      ]
    },
    {
      "cell_type": "markdown",
      "source": [
        "### Remove Unnecessary Rows"
      ],
      "metadata": {
        "id": "0IpZcTPrG4eD"
      }
    },
    {
      "cell_type": "markdown",
      "source": [
        "#### Identify Any Duplicates"
      ],
      "metadata": {
        "id": "ELWik7cJHDdR"
      }
    },
    {
      "cell_type": "code",
      "source": [
        "# Display number of duplicates\n",
        "print(f'There are {df.duplicated().sum()} duplicate rows.')"
      ],
      "metadata": {
        "colab": {
          "base_uri": "https://localhost:8080/"
        },
        "id": "WqEm8dHuHCYc",
        "outputId": "5e41a7a7-bf3a-48aa-8bb1-5b747203ab79"
      },
      "execution_count": 6,
      "outputs": [
        {
          "output_type": "stream",
          "name": "stdout",
          "text": [
            "There are 0 duplicate rows.\n"
          ]
        }
      ]
    },
    {
      "cell_type": "markdown",
      "source": [
        "#### Identify Any Missing Values"
      ],
      "metadata": {
        "id": "TMTdxiVyHLoU"
      }
    },
    {
      "cell_type": "code",
      "source": [
        "# Display total number of missing values\n",
        "print(f'There are {df.isna().sum().sum()} missing values')"
      ],
      "metadata": {
        "colab": {
          "base_uri": "https://localhost:8080/"
        },
        "id": "2lDq0L5wHRGr",
        "outputId": "e18e444e-8e52-44df-c170-7d7a027e929f"
      },
      "execution_count": 7,
      "outputs": [
        {
          "output_type": "stream",
          "name": "stdout",
          "text": [
            "There are 1033 missing values\n"
          ]
        }
      ]
    },
    {
      "cell_type": "code",
      "source": [
        "df.info()"
      ],
      "metadata": {
        "colab": {
          "base_uri": "https://localhost:8080/"
        },
        "id": "kdN0UPpBI7NN",
        "outputId": "9ed6bdaf-2312-40a0-ae4e-b4362159d54a"
      },
      "execution_count": 8,
      "outputs": [
        {
          "output_type": "stream",
          "name": "stdout",
          "text": [
            "<class 'pandas.core.frame.DataFrame'>\n",
            "RangeIndex: 418 entries, 0 to 417\n",
            "Data columns (total 18 columns):\n",
            " #   Column         Non-Null Count  Dtype  \n",
            "---  ------         --------------  -----  \n",
            " 0   N_Days         418 non-null    int64  \n",
            " 1   Status         418 non-null    object \n",
            " 2   Drug           312 non-null    object \n",
            " 3   Sex            418 non-null    object \n",
            " 4   Ascites        312 non-null    object \n",
            " 5   Hepatomegaly   312 non-null    object \n",
            " 6   Spiders        312 non-null    object \n",
            " 7   Edema          418 non-null    object \n",
            " 8   Bilirubin      418 non-null    float64\n",
            " 9   Cholesterol    284 non-null    float64\n",
            " 10  Albumin        418 non-null    float64\n",
            " 11  Copper         310 non-null    float64\n",
            " 12  Alk_Phos       312 non-null    float64\n",
            " 13  SGOT           312 non-null    float64\n",
            " 14  Tryglicerides  282 non-null    float64\n",
            " 15  Platelets      407 non-null    float64\n",
            " 16  Prothrombin    416 non-null    float64\n",
            " 17  Stage          412 non-null    float64\n",
            "dtypes: float64(10), int64(1), object(7)\n",
            "memory usage: 58.9+ KB\n"
          ]
        }
      ]
    },
    {
      "cell_type": "code",
      "source": [
        "# Check for missing values\n",
        "df.isna().sum()"
      ],
      "metadata": {
        "colab": {
          "base_uri": "https://localhost:8080/"
        },
        "id": "Ve9nRiwjIL1j",
        "outputId": "996bdbad-fa39-40b4-eda3-46bb17abea00"
      },
      "execution_count": 9,
      "outputs": [
        {
          "output_type": "execute_result",
          "data": {
            "text/plain": [
              "N_Days             0\n",
              "Status             0\n",
              "Drug             106\n",
              "Sex                0\n",
              "Ascites          106\n",
              "Hepatomegaly     106\n",
              "Spiders          106\n",
              "Edema              0\n",
              "Bilirubin          0\n",
              "Cholesterol      134\n",
              "Albumin            0\n",
              "Copper           108\n",
              "Alk_Phos         106\n",
              "SGOT             106\n",
              "Tryglicerides    136\n",
              "Platelets         11\n",
              "Prothrombin        2\n",
              "Stage              6\n",
              "dtype: int64"
            ]
          },
          "metadata": {},
          "execution_count": 9
        }
      ]
    },
    {
      "cell_type": "markdown",
      "source": [
        "- All missing values in categorical columns ('Drug', 'Ascites', 'Hepatomegaly', 'Spiders') will be filled in with 'Unknown' since there is no way of knowing what they are.\n",
        "- All missing values in numeric columns ('Cholesterol', 'Copper', 'Alk_Phos', 'SGOT', 'Tryglicerides', 'Platelets', 'Prothrombin', 'Stage') will be filled with the average of each column. Dropping these columns would cause a lot of useful data to be removed."
      ],
      "metadata": {
        "id": "Ot8w8BLUJhq6"
      }
    },
    {
      "cell_type": "markdown",
      "source": [
        "### Correct All Missing Values"
      ],
      "metadata": {
        "id": "Cb84_JPekzwA"
      }
    },
    {
      "cell_type": "markdown",
      "source": [
        "#### Categorical Columns"
      ],
      "metadata": {
        "id": "jnCgBLTlniEH"
      }
    },
    {
      "cell_type": "code",
      "source": [
        "# Replace missing categorical values with 'Unknown'\n",
        "df['Drug'].fillna('Non_Participant', inplace=True)\n",
        "df['Ascites'].fillna('Non_Participant', inplace=True)\n",
        "df['Hepatomegaly'].fillna('Non_Participant', inplace=True)\n",
        "df['Spiders'].fillna('Non_participant', inplace=True)"
      ],
      "metadata": {
        "id": "7qDHvkKAK3Q0"
      },
      "execution_count": 10,
      "outputs": []
    },
    {
      "cell_type": "markdown",
      "source": [
        "#### Numeric Columns"
      ],
      "metadata": {
        "id": "74TgklvVnmDB"
      }
    },
    {
      "cell_type": "code",
      "source": [
        "# Replace missing numeric missing values with the mean\n",
        "df['Cholesterol'].fillna(df['Cholesterol'].mean(), inplace=True)\n",
        "df['Copper'].fillna(df['Copper'].mean(), inplace=True)\n",
        "df['Alk_Phos'].fillna(df['Alk_Phos'].mean(), inplace=True)\n",
        "df['SGOT'].fillna(df['SGOT'].mean(), inplace=True)\n",
        "df['Tryglicerides'].fillna(df['Tryglicerides'].mean(), inplace=True)\n",
        "df['Platelets'].fillna(df['Platelets'].mean(), inplace=True)\n",
        "df['Prothrombin'].fillna(df['Prothrombin'].mean(), inplace=True)\n",
        "df['Stage'].fillna(df['Stage'].mean(), inplace=True)"
      ],
      "metadata": {
        "id": "MBBgy08KnpzZ"
      },
      "execution_count": 11,
      "outputs": []
    },
    {
      "cell_type": "code",
      "source": [
        "# Confirm Results\n",
        "df.isna().sum()"
      ],
      "metadata": {
        "colab": {
          "base_uri": "https://localhost:8080/"
        },
        "id": "vdXM_vm4pniA",
        "outputId": "c43f538c-983a-4bd1-e48b-7f5800eb798c"
      },
      "execution_count": 12,
      "outputs": [
        {
          "output_type": "execute_result",
          "data": {
            "text/plain": [
              "N_Days           0\n",
              "Status           0\n",
              "Drug             0\n",
              "Sex              0\n",
              "Ascites          0\n",
              "Hepatomegaly     0\n",
              "Spiders          0\n",
              "Edema            0\n",
              "Bilirubin        0\n",
              "Cholesterol      0\n",
              "Albumin          0\n",
              "Copper           0\n",
              "Alk_Phos         0\n",
              "SGOT             0\n",
              "Tryglicerides    0\n",
              "Platelets        0\n",
              "Prothrombin      0\n",
              "Stage            0\n",
              "dtype: int64"
            ]
          },
          "metadata": {},
          "execution_count": 12
        }
      ]
    },
    {
      "cell_type": "markdown",
      "source": [
        "### Identify Any Inconsistencies"
      ],
      "metadata": {
        "id": "8_-dWym-qLms"
      }
    },
    {
      "cell_type": "markdown",
      "source": [
        "#### Categorical Columns"
      ],
      "metadata": {
        "id": "vat1pRP4qxOl"
      }
    },
    {
      "cell_type": "code",
      "source": [
        "# Check and address any inconsistent values in categorical columns.\n",
        "df.describe(include='object')"
      ],
      "metadata": {
        "colab": {
          "base_uri": "https://localhost:8080/",
          "height": 0
        },
        "id": "w5d-cdVcqXs1",
        "outputId": "3c2fe348-ecef-4ecc-adac-2dd2342de553"
      },
      "execution_count": 13,
      "outputs": [
        {
          "output_type": "execute_result",
          "data": {
            "text/plain": [
              "       Status             Drug  Sex Ascites Hepatomegaly Spiders Edema\n",
              "count     418              418  418     418          418     418   418\n",
              "unique      3                3    2       3            3       3     3\n",
              "top         C  D-penicillamine    F       N            Y       N     N\n",
              "freq      232              158  374     288          160     222   354"
            ],
            "text/html": [
              "\n",
              "  <div id=\"df-44c9d99c-d528-4412-a4cb-65dd7f43bf26\">\n",
              "    <div class=\"colab-df-container\">\n",
              "      <div>\n",
              "<style scoped>\n",
              "    .dataframe tbody tr th:only-of-type {\n",
              "        vertical-align: middle;\n",
              "    }\n",
              "\n",
              "    .dataframe tbody tr th {\n",
              "        vertical-align: top;\n",
              "    }\n",
              "\n",
              "    .dataframe thead th {\n",
              "        text-align: right;\n",
              "    }\n",
              "</style>\n",
              "<table border=\"1\" class=\"dataframe\">\n",
              "  <thead>\n",
              "    <tr style=\"text-align: right;\">\n",
              "      <th></th>\n",
              "      <th>Status</th>\n",
              "      <th>Drug</th>\n",
              "      <th>Sex</th>\n",
              "      <th>Ascites</th>\n",
              "      <th>Hepatomegaly</th>\n",
              "      <th>Spiders</th>\n",
              "      <th>Edema</th>\n",
              "    </tr>\n",
              "  </thead>\n",
              "  <tbody>\n",
              "    <tr>\n",
              "      <th>count</th>\n",
              "      <td>418</td>\n",
              "      <td>418</td>\n",
              "      <td>418</td>\n",
              "      <td>418</td>\n",
              "      <td>418</td>\n",
              "      <td>418</td>\n",
              "      <td>418</td>\n",
              "    </tr>\n",
              "    <tr>\n",
              "      <th>unique</th>\n",
              "      <td>3</td>\n",
              "      <td>3</td>\n",
              "      <td>2</td>\n",
              "      <td>3</td>\n",
              "      <td>3</td>\n",
              "      <td>3</td>\n",
              "      <td>3</td>\n",
              "    </tr>\n",
              "    <tr>\n",
              "      <th>top</th>\n",
              "      <td>C</td>\n",
              "      <td>D-penicillamine</td>\n",
              "      <td>F</td>\n",
              "      <td>N</td>\n",
              "      <td>Y</td>\n",
              "      <td>N</td>\n",
              "      <td>N</td>\n",
              "    </tr>\n",
              "    <tr>\n",
              "      <th>freq</th>\n",
              "      <td>232</td>\n",
              "      <td>158</td>\n",
              "      <td>374</td>\n",
              "      <td>288</td>\n",
              "      <td>160</td>\n",
              "      <td>222</td>\n",
              "      <td>354</td>\n",
              "    </tr>\n",
              "  </tbody>\n",
              "</table>\n",
              "</div>\n",
              "      <button class=\"colab-df-convert\" onclick=\"convertToInteractive('df-44c9d99c-d528-4412-a4cb-65dd7f43bf26')\"\n",
              "              title=\"Convert this dataframe to an interactive table.\"\n",
              "              style=\"display:none;\">\n",
              "        \n",
              "  <svg xmlns=\"http://www.w3.org/2000/svg\" height=\"24px\"viewBox=\"0 0 24 24\"\n",
              "       width=\"24px\">\n",
              "    <path d=\"M0 0h24v24H0V0z\" fill=\"none\"/>\n",
              "    <path d=\"M18.56 5.44l.94 2.06.94-2.06 2.06-.94-2.06-.94-.94-2.06-.94 2.06-2.06.94zm-11 1L8.5 8.5l.94-2.06 2.06-.94-2.06-.94L8.5 2.5l-.94 2.06-2.06.94zm10 10l.94 2.06.94-2.06 2.06-.94-2.06-.94-.94-2.06-.94 2.06-2.06.94z\"/><path d=\"M17.41 7.96l-1.37-1.37c-.4-.4-.92-.59-1.43-.59-.52 0-1.04.2-1.43.59L10.3 9.45l-7.72 7.72c-.78.78-.78 2.05 0 2.83L4 21.41c.39.39.9.59 1.41.59.51 0 1.02-.2 1.41-.59l7.78-7.78 2.81-2.81c.8-.78.8-2.07 0-2.86zM5.41 20L4 18.59l7.72-7.72 1.47 1.35L5.41 20z\"/>\n",
              "  </svg>\n",
              "      </button>\n",
              "      \n",
              "  <style>\n",
              "    .colab-df-container {\n",
              "      display:flex;\n",
              "      flex-wrap:wrap;\n",
              "      gap: 12px;\n",
              "    }\n",
              "\n",
              "    .colab-df-convert {\n",
              "      background-color: #E8F0FE;\n",
              "      border: none;\n",
              "      border-radius: 50%;\n",
              "      cursor: pointer;\n",
              "      display: none;\n",
              "      fill: #1967D2;\n",
              "      height: 32px;\n",
              "      padding: 0 0 0 0;\n",
              "      width: 32px;\n",
              "    }\n",
              "\n",
              "    .colab-df-convert:hover {\n",
              "      background-color: #E2EBFA;\n",
              "      box-shadow: 0px 1px 2px rgba(60, 64, 67, 0.3), 0px 1px 3px 1px rgba(60, 64, 67, 0.15);\n",
              "      fill: #174EA6;\n",
              "    }\n",
              "\n",
              "    [theme=dark] .colab-df-convert {\n",
              "      background-color: #3B4455;\n",
              "      fill: #D2E3FC;\n",
              "    }\n",
              "\n",
              "    [theme=dark] .colab-df-convert:hover {\n",
              "      background-color: #434B5C;\n",
              "      box-shadow: 0px 1px 3px 1px rgba(0, 0, 0, 0.15);\n",
              "      filter: drop-shadow(0px 1px 2px rgba(0, 0, 0, 0.3));\n",
              "      fill: #FFFFFF;\n",
              "    }\n",
              "  </style>\n",
              "\n",
              "      <script>\n",
              "        const buttonEl =\n",
              "          document.querySelector('#df-44c9d99c-d528-4412-a4cb-65dd7f43bf26 button.colab-df-convert');\n",
              "        buttonEl.style.display =\n",
              "          google.colab.kernel.accessAllowed ? 'block' : 'none';\n",
              "\n",
              "        async function convertToInteractive(key) {\n",
              "          const element = document.querySelector('#df-44c9d99c-d528-4412-a4cb-65dd7f43bf26');\n",
              "          const dataTable =\n",
              "            await google.colab.kernel.invokeFunction('convertToInteractive',\n",
              "                                                     [key], {});\n",
              "          if (!dataTable) return;\n",
              "\n",
              "          const docLinkHtml = 'Like what you see? Visit the ' +\n",
              "            '<a target=\"_blank\" href=https://colab.research.google.com/notebooks/data_table.ipynb>data table notebook</a>'\n",
              "            + ' to learn more about interactive tables.';\n",
              "          element.innerHTML = '';\n",
              "          dataTable['output_type'] = 'display_data';\n",
              "          await google.colab.output.renderOutput(dataTable, element);\n",
              "          const docLink = document.createElement('div');\n",
              "          docLink.innerHTML = docLinkHtml;\n",
              "          element.appendChild(docLink);\n",
              "        }\n",
              "      </script>\n",
              "    </div>\n",
              "  </div>\n",
              "  "
            ]
          },
          "metadata": {},
          "execution_count": 13
        }
      ]
    },
    {
      "cell_type": "code",
      "source": [
        "df['Status'].value_counts()"
      ],
      "metadata": {
        "colab": {
          "base_uri": "https://localhost:8080/"
        },
        "id": "qHp1efGpvvsM",
        "outputId": "842ca89e-7252-4c7e-854e-30a87c89360f"
      },
      "execution_count": 14,
      "outputs": [
        {
          "output_type": "execute_result",
          "data": {
            "text/plain": [
              "C     232\n",
              "D     161\n",
              "CL     25\n",
              "Name: Status, dtype: int64"
            ]
          },
          "metadata": {},
          "execution_count": 14
        }
      ]
    },
    {
      "cell_type": "code",
      "source": [
        "df['Drug'].value_counts()"
      ],
      "metadata": {
        "colab": {
          "base_uri": "https://localhost:8080/"
        },
        "id": "nTNrSz0IrMil",
        "outputId": "5f5eb647-e964-4f10-dc69-662d779d3334"
      },
      "execution_count": 15,
      "outputs": [
        {
          "output_type": "execute_result",
          "data": {
            "text/plain": [
              "D-penicillamine    158\n",
              "Placebo            154\n",
              "Non_Participant    106\n",
              "Name: Drug, dtype: int64"
            ]
          },
          "metadata": {},
          "execution_count": 15
        }
      ]
    },
    {
      "cell_type": "code",
      "source": [
        "df['Ascites'].value_counts()"
      ],
      "metadata": {
        "colab": {
          "base_uri": "https://localhost:8080/"
        },
        "id": "6mzRs1mNrMfp",
        "outputId": "374595c3-3bc9-4a94-a8cb-d013cb014538"
      },
      "execution_count": 16,
      "outputs": [
        {
          "output_type": "execute_result",
          "data": {
            "text/plain": [
              "N                  288\n",
              "Non_Participant    106\n",
              "Y                   24\n",
              "Name: Ascites, dtype: int64"
            ]
          },
          "metadata": {},
          "execution_count": 16
        }
      ]
    },
    {
      "cell_type": "code",
      "source": [
        "df['Hepatomegaly'].value_counts()"
      ],
      "metadata": {
        "colab": {
          "base_uri": "https://localhost:8080/"
        },
        "id": "aXXgvytrrMcv",
        "outputId": "325ee809-4768-4e4f-be69-51ab93b84add"
      },
      "execution_count": 17,
      "outputs": [
        {
          "output_type": "execute_result",
          "data": {
            "text/plain": [
              "Y                  160\n",
              "N                  152\n",
              "Non_Participant    106\n",
              "Name: Hepatomegaly, dtype: int64"
            ]
          },
          "metadata": {},
          "execution_count": 17
        }
      ]
    },
    {
      "cell_type": "code",
      "source": [
        "df['Spiders'].value_counts()"
      ],
      "metadata": {
        "colab": {
          "base_uri": "https://localhost:8080/"
        },
        "id": "LyTyQx4qsjXb",
        "outputId": "a82f1fd1-1b38-4425-8f08-9164a3c875cb"
      },
      "execution_count": 18,
      "outputs": [
        {
          "output_type": "execute_result",
          "data": {
            "text/plain": [
              "N                  222\n",
              "Non_participant    106\n",
              "Y                   90\n",
              "Name: Spiders, dtype: int64"
            ]
          },
          "metadata": {},
          "execution_count": 18
        }
      ]
    },
    {
      "cell_type": "code",
      "source": [
        "df['Edema'].value_counts()"
      ],
      "metadata": {
        "colab": {
          "base_uri": "https://localhost:8080/"
        },
        "id": "9Pjjzd9ksi1h",
        "outputId": "156cf021-7a26-4b07-acd3-a4493ad06783"
      },
      "execution_count": 19,
      "outputs": [
        {
          "output_type": "execute_result",
          "data": {
            "text/plain": [
              "N    354\n",
              "S     44\n",
              "Y     20\n",
              "Name: Edema, dtype: int64"
            ]
          },
          "metadata": {},
          "execution_count": 19
        }
      ]
    },
    {
      "cell_type": "markdown",
      "source": [
        "- There are no inconsistencies in the categorical columns"
      ],
      "metadata": {
        "id": "PiWJ5JPhsdj4"
      }
    },
    {
      "cell_type": "markdown",
      "source": [
        "#### Numeric Columns"
      ],
      "metadata": {
        "id": "8uJGsUzBst54"
      }
    },
    {
      "cell_type": "code",
      "source": [
        "# Check and address any inconsistencies in the numeric columns\n",
        "df.describe(include='number').round(2)"
      ],
      "metadata": {
        "colab": {
          "base_uri": "https://localhost:8080/",
          "height": 0
        },
        "id": "Ui_TmgYpsw_y",
        "outputId": "bb94866d-e64b-41b5-984b-2f44b85a81a0"
      },
      "execution_count": 20,
      "outputs": [
        {
          "output_type": "execute_result",
          "data": {
            "text/plain": [
              "        N_Days  Bilirubin  Cholesterol  Albumin  Copper  Alk_Phos    SGOT  \\\n",
              "count   418.00     418.00       418.00   418.00  418.00    418.00  418.00   \n",
              "mean   1917.78       3.22       369.51     3.50   97.65   1982.66  122.56   \n",
              "std    1104.67       4.41       191.08     0.42   73.70   1848.44   48.97   \n",
              "min      41.00       0.30       120.00     1.96    4.00    289.00   26.35   \n",
              "25%    1092.75       0.80       273.00     3.24   51.25   1016.25   91.00   \n",
              "50%    1730.00       1.40       369.51     3.53   97.65   1717.00  122.56   \n",
              "75%    2613.50       3.40       369.51     3.77  100.75   1982.66  135.75   \n",
              "max    4795.00      28.00      1775.00     4.64  588.00  13862.40  457.25   \n",
              "\n",
              "       Tryglicerides  Platelets  Prothrombin   Stage  \n",
              "count         418.00     418.00       418.00  418.00  \n",
              "mean          124.70     257.02        10.73    3.02  \n",
              "std            53.48      97.02         1.02    0.88  \n",
              "min            33.00      62.00         9.00    1.00  \n",
              "25%            95.00     190.00        10.00    2.00  \n",
              "50%           124.70     253.00        10.60    3.00  \n",
              "75%           127.75     315.50        11.10    4.00  \n",
              "max           598.00     721.00        18.00    4.00  "
            ],
            "text/html": [
              "\n",
              "  <div id=\"df-9f0ba61f-2c85-4d3a-9d19-ae033b2322b7\">\n",
              "    <div class=\"colab-df-container\">\n",
              "      <div>\n",
              "<style scoped>\n",
              "    .dataframe tbody tr th:only-of-type {\n",
              "        vertical-align: middle;\n",
              "    }\n",
              "\n",
              "    .dataframe tbody tr th {\n",
              "        vertical-align: top;\n",
              "    }\n",
              "\n",
              "    .dataframe thead th {\n",
              "        text-align: right;\n",
              "    }\n",
              "</style>\n",
              "<table border=\"1\" class=\"dataframe\">\n",
              "  <thead>\n",
              "    <tr style=\"text-align: right;\">\n",
              "      <th></th>\n",
              "      <th>N_Days</th>\n",
              "      <th>Bilirubin</th>\n",
              "      <th>Cholesterol</th>\n",
              "      <th>Albumin</th>\n",
              "      <th>Copper</th>\n",
              "      <th>Alk_Phos</th>\n",
              "      <th>SGOT</th>\n",
              "      <th>Tryglicerides</th>\n",
              "      <th>Platelets</th>\n",
              "      <th>Prothrombin</th>\n",
              "      <th>Stage</th>\n",
              "    </tr>\n",
              "  </thead>\n",
              "  <tbody>\n",
              "    <tr>\n",
              "      <th>count</th>\n",
              "      <td>418.00</td>\n",
              "      <td>418.00</td>\n",
              "      <td>418.00</td>\n",
              "      <td>418.00</td>\n",
              "      <td>418.00</td>\n",
              "      <td>418.00</td>\n",
              "      <td>418.00</td>\n",
              "      <td>418.00</td>\n",
              "      <td>418.00</td>\n",
              "      <td>418.00</td>\n",
              "      <td>418.00</td>\n",
              "    </tr>\n",
              "    <tr>\n",
              "      <th>mean</th>\n",
              "      <td>1917.78</td>\n",
              "      <td>3.22</td>\n",
              "      <td>369.51</td>\n",
              "      <td>3.50</td>\n",
              "      <td>97.65</td>\n",
              "      <td>1982.66</td>\n",
              "      <td>122.56</td>\n",
              "      <td>124.70</td>\n",
              "      <td>257.02</td>\n",
              "      <td>10.73</td>\n",
              "      <td>3.02</td>\n",
              "    </tr>\n",
              "    <tr>\n",
              "      <th>std</th>\n",
              "      <td>1104.67</td>\n",
              "      <td>4.41</td>\n",
              "      <td>191.08</td>\n",
              "      <td>0.42</td>\n",
              "      <td>73.70</td>\n",
              "      <td>1848.44</td>\n",
              "      <td>48.97</td>\n",
              "      <td>53.48</td>\n",
              "      <td>97.02</td>\n",
              "      <td>1.02</td>\n",
              "      <td>0.88</td>\n",
              "    </tr>\n",
              "    <tr>\n",
              "      <th>min</th>\n",
              "      <td>41.00</td>\n",
              "      <td>0.30</td>\n",
              "      <td>120.00</td>\n",
              "      <td>1.96</td>\n",
              "      <td>4.00</td>\n",
              "      <td>289.00</td>\n",
              "      <td>26.35</td>\n",
              "      <td>33.00</td>\n",
              "      <td>62.00</td>\n",
              "      <td>9.00</td>\n",
              "      <td>1.00</td>\n",
              "    </tr>\n",
              "    <tr>\n",
              "      <th>25%</th>\n",
              "      <td>1092.75</td>\n",
              "      <td>0.80</td>\n",
              "      <td>273.00</td>\n",
              "      <td>3.24</td>\n",
              "      <td>51.25</td>\n",
              "      <td>1016.25</td>\n",
              "      <td>91.00</td>\n",
              "      <td>95.00</td>\n",
              "      <td>190.00</td>\n",
              "      <td>10.00</td>\n",
              "      <td>2.00</td>\n",
              "    </tr>\n",
              "    <tr>\n",
              "      <th>50%</th>\n",
              "      <td>1730.00</td>\n",
              "      <td>1.40</td>\n",
              "      <td>369.51</td>\n",
              "      <td>3.53</td>\n",
              "      <td>97.65</td>\n",
              "      <td>1717.00</td>\n",
              "      <td>122.56</td>\n",
              "      <td>124.70</td>\n",
              "      <td>253.00</td>\n",
              "      <td>10.60</td>\n",
              "      <td>3.00</td>\n",
              "    </tr>\n",
              "    <tr>\n",
              "      <th>75%</th>\n",
              "      <td>2613.50</td>\n",
              "      <td>3.40</td>\n",
              "      <td>369.51</td>\n",
              "      <td>3.77</td>\n",
              "      <td>100.75</td>\n",
              "      <td>1982.66</td>\n",
              "      <td>135.75</td>\n",
              "      <td>127.75</td>\n",
              "      <td>315.50</td>\n",
              "      <td>11.10</td>\n",
              "      <td>4.00</td>\n",
              "    </tr>\n",
              "    <tr>\n",
              "      <th>max</th>\n",
              "      <td>4795.00</td>\n",
              "      <td>28.00</td>\n",
              "      <td>1775.00</td>\n",
              "      <td>4.64</td>\n",
              "      <td>588.00</td>\n",
              "      <td>13862.40</td>\n",
              "      <td>457.25</td>\n",
              "      <td>598.00</td>\n",
              "      <td>721.00</td>\n",
              "      <td>18.00</td>\n",
              "      <td>4.00</td>\n",
              "    </tr>\n",
              "  </tbody>\n",
              "</table>\n",
              "</div>\n",
              "      <button class=\"colab-df-convert\" onclick=\"convertToInteractive('df-9f0ba61f-2c85-4d3a-9d19-ae033b2322b7')\"\n",
              "              title=\"Convert this dataframe to an interactive table.\"\n",
              "              style=\"display:none;\">\n",
              "        \n",
              "  <svg xmlns=\"http://www.w3.org/2000/svg\" height=\"24px\"viewBox=\"0 0 24 24\"\n",
              "       width=\"24px\">\n",
              "    <path d=\"M0 0h24v24H0V0z\" fill=\"none\"/>\n",
              "    <path d=\"M18.56 5.44l.94 2.06.94-2.06 2.06-.94-2.06-.94-.94-2.06-.94 2.06-2.06.94zm-11 1L8.5 8.5l.94-2.06 2.06-.94-2.06-.94L8.5 2.5l-.94 2.06-2.06.94zm10 10l.94 2.06.94-2.06 2.06-.94-2.06-.94-.94-2.06-.94 2.06-2.06.94z\"/><path d=\"M17.41 7.96l-1.37-1.37c-.4-.4-.92-.59-1.43-.59-.52 0-1.04.2-1.43.59L10.3 9.45l-7.72 7.72c-.78.78-.78 2.05 0 2.83L4 21.41c.39.39.9.59 1.41.59.51 0 1.02-.2 1.41-.59l7.78-7.78 2.81-2.81c.8-.78.8-2.07 0-2.86zM5.41 20L4 18.59l7.72-7.72 1.47 1.35L5.41 20z\"/>\n",
              "  </svg>\n",
              "      </button>\n",
              "      \n",
              "  <style>\n",
              "    .colab-df-container {\n",
              "      display:flex;\n",
              "      flex-wrap:wrap;\n",
              "      gap: 12px;\n",
              "    }\n",
              "\n",
              "    .colab-df-convert {\n",
              "      background-color: #E8F0FE;\n",
              "      border: none;\n",
              "      border-radius: 50%;\n",
              "      cursor: pointer;\n",
              "      display: none;\n",
              "      fill: #1967D2;\n",
              "      height: 32px;\n",
              "      padding: 0 0 0 0;\n",
              "      width: 32px;\n",
              "    }\n",
              "\n",
              "    .colab-df-convert:hover {\n",
              "      background-color: #E2EBFA;\n",
              "      box-shadow: 0px 1px 2px rgba(60, 64, 67, 0.3), 0px 1px 3px 1px rgba(60, 64, 67, 0.15);\n",
              "      fill: #174EA6;\n",
              "    }\n",
              "\n",
              "    [theme=dark] .colab-df-convert {\n",
              "      background-color: #3B4455;\n",
              "      fill: #D2E3FC;\n",
              "    }\n",
              "\n",
              "    [theme=dark] .colab-df-convert:hover {\n",
              "      background-color: #434B5C;\n",
              "      box-shadow: 0px 1px 3px 1px rgba(0, 0, 0, 0.15);\n",
              "      filter: drop-shadow(0px 1px 2px rgba(0, 0, 0, 0.3));\n",
              "      fill: #FFFFFF;\n",
              "    }\n",
              "  </style>\n",
              "\n",
              "      <script>\n",
              "        const buttonEl =\n",
              "          document.querySelector('#df-9f0ba61f-2c85-4d3a-9d19-ae033b2322b7 button.colab-df-convert');\n",
              "        buttonEl.style.display =\n",
              "          google.colab.kernel.accessAllowed ? 'block' : 'none';\n",
              "\n",
              "        async function convertToInteractive(key) {\n",
              "          const element = document.querySelector('#df-9f0ba61f-2c85-4d3a-9d19-ae033b2322b7');\n",
              "          const dataTable =\n",
              "            await google.colab.kernel.invokeFunction('convertToInteractive',\n",
              "                                                     [key], {});\n",
              "          if (!dataTable) return;\n",
              "\n",
              "          const docLinkHtml = 'Like what you see? Visit the ' +\n",
              "            '<a target=\"_blank\" href=https://colab.research.google.com/notebooks/data_table.ipynb>data table notebook</a>'\n",
              "            + ' to learn more about interactive tables.';\n",
              "          element.innerHTML = '';\n",
              "          dataTable['output_type'] = 'display_data';\n",
              "          await google.colab.output.renderOutput(dataTable, element);\n",
              "          const docLink = document.createElement('div');\n",
              "          docLink.innerHTML = docLinkHtml;\n",
              "          element.appendChild(docLink);\n",
              "        }\n",
              "      </script>\n",
              "    </div>\n",
              "  </div>\n",
              "  "
            ]
          },
          "metadata": {},
          "execution_count": 20
        }
      ]
    },
    {
      "cell_type": "markdown",
      "source": [
        "- There are impossible values found in the 'Stage' column.\n",
        "- The impossible values will be replaced with the number '3' and datatype will be corrected to an integer."
      ],
      "metadata": {
        "id": "jsqhlUGNtVM_"
      }
    },
    {
      "cell_type": "code",
      "source": [
        "df['Stage'].value_counts()"
      ],
      "metadata": {
        "colab": {
          "base_uri": "https://localhost:8080/"
        },
        "id": "Qw82SymBq_X0",
        "outputId": "e66e814e-0a0d-4405-d453-de79c7e371e0"
      },
      "execution_count": 21,
      "outputs": [
        {
          "output_type": "execute_result",
          "data": {
            "text/plain": [
              "3.000000    155\n",
              "4.000000    144\n",
              "2.000000     92\n",
              "1.000000     21\n",
              "3.024272      6\n",
              "Name: Stage, dtype: int64"
            ]
          },
          "metadata": {},
          "execution_count": 21
        }
      ]
    },
    {
      "cell_type": "code",
      "source": [
        "# Correct column by changing datatype to an integer\n",
        "df['Stage'] = df['Stage'].astype(int)\n",
        "# Confirm charges\n",
        "df['Stage'].value_counts()"
      ],
      "metadata": {
        "colab": {
          "base_uri": "https://localhost:8080/"
        },
        "id": "1C25rMPguG2p",
        "outputId": "ec6f852e-6851-44fc-b01e-524d1508a3e2"
      },
      "execution_count": 22,
      "outputs": [
        {
          "output_type": "execute_result",
          "data": {
            "text/plain": [
              "3    161\n",
              "4    144\n",
              "2     92\n",
              "1     21\n",
              "Name: Stage, dtype: int64"
            ]
          },
          "metadata": {},
          "execution_count": 22
        }
      ]
    },
    {
      "cell_type": "markdown",
      "source": [
        "## Explore Data Using Visualizations"
      ],
      "metadata": {
        "id": "Q2-qLzo3t7ml"
      }
    },
    {
      "cell_type": "markdown",
      "source": [
        "### Univariate Visualizations"
      ],
      "metadata": {
        "id": "j2CpKRl1yZ6f"
      }
    },
    {
      "cell_type": "code",
      "source": [
        "# Histogram to view the distributions of the 'Drug' column\n",
        "ax = df['N_Days'].hist(bins=40, edgecolor = 'black')\n",
        "ax.tick_params(axis='x', rotation=45)\n",
        "ax.set_title('Distribution of N_Days')\n",
        "ax.set_xlabel('Number of Days')\n",
        "ax.set_ylabel('Number of Patients');"
      ],
      "metadata": {
        "id": "e2ZefU1-ly-G",
        "colab": {
          "base_uri": "https://localhost:8080/",
          "height": 0
        },
        "outputId": "5bff34b3-77b9-4bbb-ace6-e3c281eae09a"
      },
      "execution_count": 23,
      "outputs": [
        {
          "output_type": "display_data",
          "data": {
            "text/plain": [
              "<Figure size 640x480 with 1 Axes>"
            ],
            "image/png": "[encoded data removed]"
          },
          "metadata": {}
        }
      ]
    },
    {
      "cell_type": "markdown",
      "source": [
        "- The histogram above displays the distribution of the number of days between registration and the earlier of death, transplantation, or study analysis time in July 1986."
      ],
      "metadata": {
        "id": "iu3VhCxtboyO"
      }
    },
    {
      "cell_type": "code",
      "source": [
        "# Create a Boxplot to view statistical summaries of various features in the dataset\n",
        "ax = sns.boxplot(x='Drug', y='Cholesterol', data=df)\n",
        "ax.set_title(\"Comparing Drug Prescribed Based on Cholesterol Levels\");"
      ],
      "metadata": {
        "colab": {
          "base_uri": "https://localhost:8080/",
          "height": 0
        },
        "id": "8e-_dp0oOm9i",
        "outputId": "419d867b-a82f-41f9-9df9-64cfc90af50c"
      },
      "execution_count": 24,
      "outputs": [
        {
          "output_type": "display_data",
          "data": {
            "text/plain": [
              "<Figure size 640x480 with 1 Axes>"
            ],
            "image/png": "[encoded data removed]"
          },
          "metadata": {}
        }
      ]
    },
    {
      "cell_type": "markdown",
      "source": [
        "## Multivariate Visualizations"
      ],
      "metadata": {
        "id": "aTiA8Ffzn49I"
      }
    },
    {
      "cell_type": "markdown",
      "source": [
        "### Heatmap"
      ],
      "metadata": {
        "id": "Qu0qZMcneLnF"
      }
    },
    {
      "cell_type": "code",
      "source": [
        "# Identify any strong or moderate correlations using heatmap\n",
        "corr = df.corr()\n",
        "sns.heatmap(corr, cmap = 'magma', annot=True);"
      ],
      "metadata": {
        "colab": {
          "base_uri": "https://localhost:8080/",
          "height": 509
        },
        "id": "ubNlR2OkfOUA",
        "outputId": "53d49ddf-e73f-46c9-8883-48505d3cb6f1"
      },
      "execution_count": 25,
      "outputs": [
        {
          "output_type": "display_data",
          "data": {
            "text/plain": [
              "<Figure size 640x480 with 2 Axes>"
            ],
            "image/png": "[encoded data removed]"
          },
          "metadata": {}
        }
      ]
    },
    {
      "cell_type": "markdown",
      "source": [
        "#### Based off the heatmap above:\n",
        "- Features with the strongest negative correlation are 'N_Days' and 'Bilirubin'. This makes sense considering bilirubin levels wouldn't really matter to the number of days a patient participated in the trial.\n",
        "\n",
        "- Features with the strongest positive correlation are 'N_Days' and 'Albumin'. The data above shows that the albumin levels of the participants increased or decreased based the number of days they remained. The more days the patient remained in the trial, the higher their albumin levels were.\n"
      ],
      "metadata": {
        "id": "W9sPIY0FiiFr"
      }
    },
    {
      "cell_type": "code",
      "source": [
        "# Create a scatter plot to further evaluate the strongest correlation columns\n",
        "ax = sns.scatterplot(data=df, x='N_Days', y='Albumin', hue='Sex')\n",
        "ax.set_title(\"Albumin Levels Based on N_Days\");"
      ],
      "metadata": {
        "colab": {
          "base_uri": "https://localhost:8080/",
          "height": 472
        },
        "id": "BMYsiLRDs4Du",
        "outputId": "cfdb5909-983a-463a-aa84-6d45b43de742"
      },
      "execution_count": 180,
      "outputs": [
        {
          "output_type": "display_data",
          "data": {
            "text/plain": [
              "<Figure size 640x480 with 1 Axes>"
            ],
            "image/png": "[encoded data removed]"
          },
          "metadata": {}
        }
      ]
    },
    {
      "cell_type": "code",
      "source": [
        "# Using seaborn to plot the means\n",
        "ax = sns.barplot(data=df, x='Drug', y='N_Days', hue='Sex');\n",
        "ax.set_title(\"Comparing Prescribed Drug Based on N_Days \");"
      ],
      "metadata": {
        "colab": {
          "base_uri": "https://localhost:8080/",
          "height": 472
        },
        "id": "maKk9O7zbo2Y",
        "outputId": "59ffb95b-6d1d-4e00-c397-843e15cc2858"
      },
      "execution_count": 175,
      "outputs": [
        {
          "output_type": "display_data",
          "data": {
            "text/plain": [
              "<Figure size 640x480 with 1 Axes>"
            ],
            "image/png": "[encoded data removed]"
          },
          "metadata": {}
        }
      ]
    },
    {
      "cell_type": "code",
      "source": [
        "# Multivariate boxplot\n",
        "ax = sns.boxplot(x = 'Drug', y = 'Copper', data=df, hue='Sex')\n",
        "ax.set_title(\"Comparing Copper Levels Based off Prescribed Drug\");"
      ],
      "metadata": {
        "colab": {
          "base_uri": "https://localhost:8080/",
          "height": 472
        },
        "id": "wjMQYPUWn36e",
        "outputId": "8fb6a15b-acf8-4936-caad-b4b140a31305"
      },
      "execution_count": 177,
      "outputs": [
        {
          "output_type": "display_data",
          "data": {
            "text/plain": [
              "<Figure size 640x480 with 1 Axes>"
            ],
            "image/png": "[encoded data removed]"
          },
          "metadata": {}
        }
      ]
    },
    {
      "cell_type": "markdown",
      "source": [
        "- Visualization Analysis:\n",
        "\n",
        " - Based off the box plot above, female patients that were prescribed D-penicilamine had, on average, the lowest copper levels but have the highest variety in numbers."
      ],
      "metadata": {
        "id": "EJWT2GS2tzm1"
      }
    },
    {
      "cell_type": "markdown",
      "source": [
        "##Machine Learning"
      ],
      "metadata": {
        "id": "YVkJcPeaVdtW"
      }
    },
    {
      "cell_type": "markdown",
      "source": [
        "### Reload and Prepare the Data for Modeling"
      ],
      "metadata": {
        "id": "j1c-dk3mXjjI"
      }
    },
    {
      "cell_type": "code",
      "source": [
        "df.head()"
      ],
      "metadata": {
        "id": "BOHTxNe7AYzc",
        "colab": {
          "base_uri": "https://localhost:8080/",
          "height": 0
        },
        "outputId": "3d03b248-e2d5-4388-d6e9-040cd8ec2f85"
      },
      "execution_count": 28,
      "outputs": [
        {
          "output_type": "execute_result",
          "data": {
            "text/plain": [
              "   N_Days Status             Drug Sex Ascites Hepatomegaly Spiders Edema  \\\n",
              "0     400      D  D-penicillamine   F       Y            Y       Y     Y   \n",
              "1    4500      C  D-penicillamine   F       N            Y       Y     N   \n",
              "2    1012      D  D-penicillamine   M       N            N       N     S   \n",
              "3    1925      D  D-penicillamine   F       N            Y       Y     S   \n",
              "4    1504     CL          Placebo   F       N            Y       Y     N   \n",
              "\n",
              "   Bilirubin  Cholesterol  Albumin  Copper  Alk_Phos    SGOT  Tryglicerides  \\\n",
              "0       14.5        261.0     2.60   156.0    1718.0  137.95          172.0   \n",
              "1        1.1        302.0     4.14    54.0    7394.8  113.52           88.0   \n",
              "2        1.4        176.0     3.48   210.0     516.0   96.10           55.0   \n",
              "3        1.8        244.0     2.54    64.0    6121.8   60.63           92.0   \n",
              "4        3.4        279.0     3.53   143.0     671.0  113.15           72.0   \n",
              "\n",
              "   Platelets  Prothrombin  Stage  \n",
              "0      190.0         12.2      4  \n",
              "1      221.0         10.6      3  \n",
              "2      151.0         12.0      4  \n",
              "3      183.0         10.3      4  \n",
              "4      136.0         10.9      3  "
            ],
            "text/html": [
              "\n",
              "  <div id=\"df-7d45ff21-fdc3-46c6-8d91-828280ab75f2\">\n",
              "    <div class=\"colab-df-container\">\n",
              "      <div>\n",
              "<style scoped>\n",
              "    .dataframe tbody tr th:only-of-type {\n",
              "        vertical-align: middle;\n",
              "    }\n",
              "\n",
              "    .dataframe tbody tr th {\n",
              "        vertical-align: top;\n",
              "    }\n",
              "\n",
              "    .dataframe thead th {\n",
              "        text-align: right;\n",
              "    }\n",
              "</style>\n",
              "<table border=\"1\" class=\"dataframe\">\n",
              "  <thead>\n",
              "    <tr style=\"text-align: right;\">\n",
              "      <th></th>\n",
              "      <th>N_Days</th>\n",
              "      <th>Status</th>\n",
              "      <th>Drug</th>\n",
              "      <th>Sex</th>\n",
              "      <th>Ascites</th>\n",
              "      <th>Hepatomegaly</th>\n",
              "      <th>Spiders</th>\n",
              "      <th>Edema</th>\n",
              "      <th>Bilirubin</th>\n",
              "      <th>Cholesterol</th>\n",
              "      <th>Albumin</th>\n",
              "      <th>Copper</th>\n",
              "      <th>Alk_Phos</th>\n",
              "      <th>SGOT</th>\n",
              "      <th>Tryglicerides</th>\n",
              "      <th>Platelets</th>\n",
              "      <th>Prothrombin</th>\n",
              "      <th>Stage</th>\n",
              "    </tr>\n",
              "  </thead>\n",
              "  <tbody>\n",
              "    <tr>\n",
              "      <th>0</th>\n",
              "      <td>400</td>\n",
              "      <td>D</td>\n",
              "      <td>D-penicillamine</td>\n",
              "      <td>F</td>\n",
              "      <td>Y</td>\n",
              "      <td>Y</td>\n",
              "      <td>Y</td>\n",
              "      <td>Y</td>\n",
              "      <td>14.5</td>\n",
              "      <td>261.0</td>\n",
              "      <td>2.60</td>\n",
              "      <td>156.0</td>\n",
              "      <td>1718.0</td>\n",
              "      <td>137.95</td>\n",
              "      <td>172.0</td>\n",
              "      <td>190.0</td>\n",
              "      <td>12.2</td>\n",
              "      <td>4</td>\n",
              "    </tr>\n",
              "    <tr>\n",
              "      <th>1</th>\n",
              "      <td>4500</td>\n",
              "      <td>C</td>\n",
              "      <td>D-penicillamine</td>\n",
              "      <td>F</td>\n",
              "      <td>N</td>\n",
              "      <td>Y</td>\n",
              "      <td>Y</td>\n",
              "      <td>N</td>\n",
              "      <td>1.1</td>\n",
              "      <td>302.0</td>\n",
              "      <td>4.14</td>\n",
              "      <td>54.0</td>\n",
              "      <td>7394.8</td>\n",
              "      <td>113.52</td>\n",
              "      <td>88.0</td>\n",
              "      <td>221.0</td>\n",
              "      <td>10.6</td>\n",
              "      <td>3</td>\n",
              "    </tr>\n",
              "    <tr>\n",
              "      <th>2</th>\n",
              "      <td>1012</td>\n",
              "      <td>D</td>\n",
              "      <td>D-penicillamine</td>\n",
              "      <td>M</td>\n",
              "      <td>N</td>\n",
              "      <td>N</td>\n",
              "      <td>N</td>\n",
              "      <td>S</td>\n",
              "      <td>1.4</td>\n",
              "      <td>176.0</td>\n",
              "      <td>3.48</td>\n",
              "      <td>210.0</td>\n",
              "      <td>516.0</td>\n",
              "      <td>96.10</td>\n",
              "      <td>55.0</td>\n",
              "      <td>151.0</td>\n",
              "      <td>12.0</td>\n",
              "      <td>4</td>\n",
              "    </tr>\n",
              "    <tr>\n",
              "      <th>3</th>\n",
              "      <td>1925</td>\n",
              "      <td>D</td>\n",
              "      <td>D-penicillamine</td>\n",
              "      <td>F</td>\n",
              "      <td>N</td>\n",
              "      <td>Y</td>\n",
              "      <td>Y</td>\n",
              "      <td>S</td>\n",
              "      <td>1.8</td>\n",
              "      <td>244.0</td>\n",
              "      <td>2.54</td>\n",
              "      <td>64.0</td>\n",
              "      <td>6121.8</td>\n",
              "      <td>60.63</td>\n",
              "      <td>92.0</td>\n",
              "      <td>183.0</td>\n",
              "      <td>10.3</td>\n",
              "      <td>4</td>\n",
              "    </tr>\n",
              "    <tr>\n",
              "      <th>4</th>\n",
              "      <td>1504</td>\n",
              "      <td>CL</td>\n",
              "      <td>Placebo</td>\n",
              "      <td>F</td>\n",
              "      <td>N</td>\n",
              "      <td>Y</td>\n",
              "      <td>Y</td>\n",
              "      <td>N</td>\n",
              "      <td>3.4</td>\n",
              "      <td>279.0</td>\n",
              "      <td>3.53</td>\n",
              "      <td>143.0</td>\n",
              "      <td>671.0</td>\n",
              "      <td>113.15</td>\n",
              "      <td>72.0</td>\n",
              "      <td>136.0</td>\n",
              "      <td>10.9</td>\n",
              "      <td>3</td>\n",
              "    </tr>\n",
              "  </tbody>\n",
              "</table>\n",
              "</div>\n",
              "      <button class=\"colab-df-convert\" onclick=\"convertToInteractive('df-7d45ff21-fdc3-46c6-8d91-828280ab75f2')\"\n",
              "              title=\"Convert this dataframe to an interactive table.\"\n",
              "              style=\"display:none;\">\n",
              "        \n",
              "  <svg xmlns=\"http://www.w3.org/2000/svg\" height=\"24px\"viewBox=\"0 0 24 24\"\n",
              "       width=\"24px\">\n",
              "    <path d=\"M0 0h24v24H0V0z\" fill=\"none\"/>\n",
              "    <path d=\"M18.56 5.44l.94 2.06.94-2.06 2.06-.94-2.06-.94-.94-2.06-.94 2.06-2.06.94zm-11 1L8.5 8.5l.94-2.06 2.06-.94-2.06-.94L8.5 2.5l-.94 2.06-2.06.94zm10 10l.94 2.06.94-2.06 2.06-.94-2.06-.94-.94-2.06-.94 2.06-2.06.94z\"/><path d=\"M17.41 7.96l-1.37-1.37c-.4-.4-.92-.59-1.43-.59-.52 0-1.04.2-1.43.59L10.3 9.45l-7.72 7.72c-.78.78-.78 2.05 0 2.83L4 21.41c.39.39.9.59 1.41.59.51 0 1.02-.2 1.41-.59l7.78-7.78 2.81-2.81c.8-.78.8-2.07 0-2.86zM5.41 20L4 18.59l7.72-7.72 1.47 1.35L5.41 20z\"/>\n",
              "  </svg>\n",
              "      </button>\n",
              "      \n",
              "  <style>\n",
              "    .colab-df-container {\n",
              "      display:flex;\n",
              "      flex-wrap:wrap;\n",
              "      gap: 12px;\n",
              "    }\n",
              "\n",
              "    .colab-df-convert {\n",
              "      background-color: #E8F0FE;\n",
              "      border: none;\n",
              "      border-radius: 50%;\n",
              "      cursor: pointer;\n",
              "      display: none;\n",
              "      fill: #1967D2;\n",
              "      height: 32px;\n",
              "      padding: 0 0 0 0;\n",
              "      width: 32px;\n",
              "    }\n",
              "\n",
              "    .colab-df-convert:hover {\n",
              "      background-color: #E2EBFA;\n",
              "      box-shadow: 0px 1px 2px rgba(60, 64, 67, 0.3), 0px 1px 3px 1px rgba(60, 64, 67, 0.15);\n",
              "      fill: #174EA6;\n",
              "    }\n",
              "\n",
              "    [theme=dark] .colab-df-convert {\n",
              "      background-color: #3B4455;\n",
              "      fill: #D2E3FC;\n",
              "    }\n",
              "\n",
              "    [theme=dark] .colab-df-convert:hover {\n",
              "      background-color: #434B5C;\n",
              "      box-shadow: 0px 1px 3px 1px rgba(0, 0, 0, 0.15);\n",
              "      filter: drop-shadow(0px 1px 2px rgba(0, 0, 0, 0.3));\n",
              "      fill: #FFFFFF;\n",
              "    }\n",
              "  </style>\n",
              "\n",
              "      <script>\n",
              "        const buttonEl =\n",
              "          document.querySelector('#df-7d45ff21-fdc3-46c6-8d91-828280ab75f2 button.colab-df-convert');\n",
              "        buttonEl.style.display =\n",
              "          google.colab.kernel.accessAllowed ? 'block' : 'none';\n",
              "\n",
              "        async function convertToInteractive(key) {\n",
              "          const element = document.querySelector('#df-7d45ff21-fdc3-46c6-8d91-828280ab75f2');\n",
              "          const dataTable =\n",
              "            await google.colab.kernel.invokeFunction('convertToInteractive',\n",
              "                                                     [key], {});\n",
              "          if (!dataTable) return;\n",
              "\n",
              "          const docLinkHtml = 'Like what you see? Visit the ' +\n",
              "            '<a target=\"_blank\" href=https://colab.research.google.com/notebooks/data_table.ipynb>data table notebook</a>'\n",
              "            + ' to learn more about interactive tables.';\n",
              "          element.innerHTML = '';\n",
              "          dataTable['output_type'] = 'display_data';\n",
              "          await google.colab.output.renderOutput(dataTable, element);\n",
              "          const docLink = document.createElement('div');\n",
              "          docLink.innerHTML = docLinkHtml;\n",
              "          element.appendChild(docLink);\n",
              "        }\n",
              "      </script>\n",
              "    </div>\n",
              "  </div>\n",
              "  "
            ]
          },
          "metadata": {},
          "execution_count": 28
        }
      ]
    },
    {
      "cell_type": "code",
      "source": [
        "df.info()"
      ],
      "metadata": {
        "colab": {
          "base_uri": "https://localhost:8080/"
        },
        "id": "0Av_hOzp3awg",
        "outputId": "b110a436-5b32-4957-ffd2-e25b61b93be5"
      },
      "execution_count": 29,
      "outputs": [
        {
          "output_type": "stream",
          "name": "stdout",
          "text": [
            "<class 'pandas.core.frame.DataFrame'>\n",
            "RangeIndex: 418 entries, 0 to 417\n",
            "Data columns (total 18 columns):\n",
            " #   Column         Non-Null Count  Dtype  \n",
            "---  ------         --------------  -----  \n",
            " 0   N_Days         418 non-null    int64  \n",
            " 1   Status         418 non-null    object \n",
            " 2   Drug           418 non-null    object \n",
            " 3   Sex            418 non-null    object \n",
            " 4   Ascites        418 non-null    object \n",
            " 5   Hepatomegaly   418 non-null    object \n",
            " 6   Spiders        418 non-null    object \n",
            " 7   Edema          418 non-null    object \n",
            " 8   Bilirubin      418 non-null    float64\n",
            " 9   Cholesterol    418 non-null    float64\n",
            " 10  Albumin        418 non-null    float64\n",
            " 11  Copper         418 non-null    float64\n",
            " 12  Alk_Phos       418 non-null    float64\n",
            " 13  SGOT           418 non-null    float64\n",
            " 14  Tryglicerides  418 non-null    float64\n",
            " 15  Platelets      418 non-null    float64\n",
            " 16  Prothrombin    418 non-null    float64\n",
            " 17  Stage          418 non-null    int64  \n",
            "dtypes: float64(9), int64(2), object(7)\n",
            "memory usage: 58.9+ KB\n"
          ]
        }
      ]
    },
    {
      "cell_type": "markdown",
      "source": [
        "## Preprocessing Steps:"
      ],
      "metadata": {
        "id": "Do386BqAYOg9"
      }
    },
    {
      "cell_type": "markdown",
      "source": [
        "- The 'Status' and 'Edema' columns will be dropped as they do not serve a purpose in making predictions for the clinical trial."
      ],
      "metadata": {
        "id": "e66d59hZg1M_"
      }
    },
    {
      "cell_type": "markdown",
      "source": [
        "#### Assign Features(X) and Target(y)"
      ],
      "metadata": {
        "id": "ZZOaVyXfbBmj"
      }
    },
    {
      "cell_type": "code",
      "source": [
        "# Define features (X) and target(y)\n",
        "X = df.drop(columns= ['Drug', 'Status', 'Edema', 'Ascites'])\n",
        "y = df['Drug']"
      ],
      "metadata": {
        "id": "E1PmHc4p2S9F"
      },
      "execution_count": 30,
      "outputs": []
    },
    {
      "cell_type": "code",
      "source": [
        "# Train Test Split\n",
        "X_train, X_test, y_train, y_test = train_test_split(X, y, random_state=42)"
      ],
      "metadata": {
        "id": "ojTagHOl7Tc9"
      },
      "execution_count": 31,
      "outputs": []
    },
    {
      "cell_type": "markdown",
      "source": [
        "#### Check Class Balance"
      ],
      "metadata": {
        "id": "PiTe0U6rccIW"
      }
    },
    {
      "cell_type": "code",
      "source": [
        "# Check amount of samples\n",
        "y_train.value_counts(normalize=True)"
      ],
      "metadata": {
        "colab": {
          "base_uri": "https://localhost:8080/"
        },
        "id": "qki8aA832Si7",
        "outputId": "5773e4f0-050b-453d-95a4-ed5c3a7a80e1"
      },
      "execution_count": 32,
      "outputs": [
        {
          "output_type": "execute_result",
          "data": {
            "text/plain": [
              "D-penicillamine    0.405751\n",
              "Placebo            0.370607\n",
              "Non_Participant    0.223642\n",
              "Name: Drug, dtype: float64"
            ]
          },
          "metadata": {},
          "execution_count": 32
        }
      ]
    },
    {
      "cell_type": "code",
      "source": [
        "y_test.value_counts(normalize=True)"
      ],
      "metadata": {
        "colab": {
          "base_uri": "https://localhost:8080/"
        },
        "id": "rKt4dhk08HSp",
        "outputId": "b2eb8361-b3b7-48c2-c1a5-271a6aee7555"
      },
      "execution_count": 33,
      "outputs": [
        {
          "output_type": "execute_result",
          "data": {
            "text/plain": [
              "Placebo            0.361905\n",
              "Non_Participant    0.342857\n",
              "D-penicillamine    0.295238\n",
              "Name: Drug, dtype: float64"
            ]
          },
          "metadata": {},
          "execution_count": 33
        }
      ]
    },
    {
      "cell_type": "markdown",
      "source": [
        "### Column Transformers"
      ],
      "metadata": {
        "id": "g6OWXlyTez-l"
      }
    },
    {
      "cell_type": "code",
      "source": [
        "# Transformers\n",
        "scaler = StandardScaler()\n",
        "ohe = OneHotEncoder(handle_unknown='ignore', sparse=False)\n",
        "# Selectors\n",
        "select_num = make_column_selector(dtype_include='number')\n",
        "select_cat = make_column_selector(dtype_include='object')\n",
        "# Tuples\n",
        "num_tuple = (scaler, select_num)\n",
        "cat_tuple = (ohe, select_cat)"
      ],
      "metadata": {
        "id": "ZWCNWEpT2Tmh"
      },
      "execution_count": 34,
      "outputs": []
    },
    {
      "cell_type": "code",
      "source": [
        "# Instantiate the make column transformer\n",
        "preprocessor = make_column_transformer(num_tuple, cat_tuple, remainder='drop')"
      ],
      "metadata": {
        "id": "XtY_ovXUBsG7"
      },
      "execution_count": 35,
      "outputs": []
    },
    {
      "cell_type": "code",
      "source": [
        "# Create a transformer pipeline\n",
        "transformer = make_pipeline(preprocessor, PCA(n_components=.97))"
      ],
      "metadata": {
        "id": "U26pprl0iYHT"
      },
      "execution_count": 137,
      "outputs": []
    },
    {
      "cell_type": "markdown",
      "source": [
        "## Models:"
      ],
      "metadata": {
        "id": "ZFC_6nKvYoeD"
      }
    },
    {
      "cell_type": "markdown",
      "source": [
        "### KNN Model"
      ],
      "metadata": {
        "id": "7HH310rP2tB7"
      }
    },
    {
      "cell_type": "code",
      "source": [
        "# Create an instance of the model\n",
        "knn = KNeighborsClassifier()\n",
        "# Create a model pipeline\n",
        "knn_pipe = make_pipeline(transformer, knn)\n",
        "# Fit the model\n",
        "knn_pipe.fit(X_train, y_train)"
      ],
      "metadata": {
        "colab": {
          "base_uri": "https://localhost:8080/",
          "height": 252
        },
        "id": "z6KKelzaA86d",
        "outputId": "dc1d9160-c106-466b-8ad6-fc8886410229"
      },
      "execution_count": 138,
      "outputs": [
        {
          "output_type": "execute_result",
          "data": {
            "text/plain": [
              "Pipeline(steps=[('pipeline',\n",
              "                 Pipeline(steps=[('columntransformer',\n",
              "                                  ColumnTransformer(transformers=[('standardscaler',\n",
              "                                                                   StandardScaler(),\n",
              "                                                                   <sklearn.compose._column_transformer.make_column_selector object at 0x7fd2aeb02fe0>),\n",
              "                                                                  ('onehotencoder',\n",
              "                                                                   OneHotEncoder(handle_unknown='ignore',\n",
              "                                                                                 sparse=False),\n",
              "                                                                   <sklearn.compose._column_transformer.make_column_selector object at 0x7fd2aeb02830>)])),\n",
              "                                 ('pca', PCA(n_components=0.97))])),\n",
              "                ('kneighborsclassifier', KNeighborsClassifier())])"
            ],
            "text/html": [
              "<style>#sk-container-id-22 {color: black;background-color: white;}#sk-container-id-22 pre{padding: 0;}#sk-container-id-22 div.sk-toggleable {background-color: white;}#sk-container-id-22 label.sk-toggleable__label {cursor: pointer;display: block;width: 100%;margin-bottom: 0;padding: 0.3em;box-sizing: border-box;text-align: center;}#sk-container-id-22 label.sk-toggleable__label-arrow:before {content: \"▸\";float: left;margin-right: 0.25em;color: #696969;}#sk-container-id-22 label.sk-toggleable__label-arrow:hover:before {color: black;}#sk-container-id-22 div.sk-estimator:hover label.sk-toggleable__label-arrow:before {color: black;}#sk-container-id-22 div.sk-toggleable__content {max-height: 0;max-width: 0;overflow: hidden;text-align: left;background-color: #f0f8ff;}#sk-container-id-22 div.sk-toggleable__content pre {margin: 0.2em;color: black;border-radius: 0.25em;background-color: #f0f8ff;}#sk-container-id-22 input.sk-toggleable__control:checked~div.sk-toggleable__content {max-height: 200px;max-width: 100%;overflow: auto;}#sk-container-id-22 input.sk-toggleable__control:checked~label.sk-toggleable__label-arrow:before {content: \"▾\";}#sk-container-id-22 div.sk-estimator input.sk-toggleable__control:checked~label.sk-toggleable__label {background-color: #d4ebff;}#sk-container-id-22 div.sk-label input.sk-toggleable__control:checked~label.sk-toggleable__label {background-color: #d4ebff;}#sk-container-id-22 input.sk-hidden--visually {border: 0;clip: rect(1px 1px 1px 1px);clip: rect(1px, 1px, 1px, 1px);height: 1px;margin: -1px;overflow: hidden;padding: 0;position: absolute;width: 1px;}#sk-container-id-22 div.sk-estimator {font-family: monospace;background-color: #f0f8ff;border: 1px dotted black;border-radius: 0.25em;box-sizing: border-box;margin-bottom: 0.5em;}#sk-container-id-22 div.sk-estimator:hover {background-color: #d4ebff;}#sk-container-id-22 div.sk-parallel-item::after {content: \"\";width: 100%;border-bottom: 1px solid gray;flex-grow: 1;}#sk-container-id-22 div.sk-label:hover label.sk-toggleable__label {background-color: #d4ebff;}#sk-container-id-22 div.sk-serial::before {content: \"\";position: absolute;border-left: 1px solid gray;box-sizing: border-box;top: 0;bottom: 0;left: 50%;z-index: 0;}#sk-container-id-22 div.sk-serial {display: flex;flex-direction: column;align-items: center;background-color: white;padding-right: 0.2em;padding-left: 0.2em;position: relative;}#sk-container-id-22 div.sk-item {position: relative;z-index: 1;}#sk-container-id-22 div.sk-parallel {display: flex;align-items: stretch;justify-content: center;background-color: white;position: relative;}#sk-container-id-22 div.sk-item::before, #sk-container-id-22 div.sk-parallel-item::before {content: \"\";position: absolute;border-left: 1px solid gray;box-sizing: border-box;top: 0;bottom: 0;left: 50%;z-index: -1;}#sk-container-id-22 div.sk-parallel-item {display: flex;flex-direction: column;z-index: 1;position: relative;background-color: white;}#sk-container-id-22 div.sk-parallel-item:first-child::after {align-self: flex-end;width: 50%;}#sk-container-id-22 div.sk-parallel-item:last-child::after {align-self: flex-start;width: 50%;}#sk-container-id-22 div.sk-parallel-item:only-child::after {width: 0;}#sk-container-id-22 div.sk-dashed-wrapped {border: 1px dashed gray;margin: 0 0.4em 0.5em 0.4em;box-sizing: border-box;padding-bottom: 0.4em;background-color: white;}#sk-container-id-22 div.sk-label label {font-family: monospace;font-weight: bold;display: inline-block;line-height: 1.2em;}#sk-container-id-22 div.sk-label-container {text-align: center;}#sk-container-id-22 div.sk-container {/* jupyter's `normalize.less` sets `[hidden] { display: none; }` but bootstrap.min.css set `[hidden] { display: none !important; }` so we also need the `!important` here to be able to override the default hidden behavior on the sphinx rendered scikit-learn.org. See: https://github.com/scikit-learn/scikit-learn/issues/21755 */display: inline-block !important;position: relative;}#sk-container-id-22 div.sk-text-repr-fallback {display: none;}</style><div id=\"sk-container-id-22\" class=\"sk-top-container\"><div class=\"sk-text-repr-fallback\"><pre>Pipeline(steps=[(&#x27;pipeline&#x27;,\n",
              "                 Pipeline(steps=[(&#x27;columntransformer&#x27;,\n",
              "                                  ColumnTransformer(transformers=[(&#x27;standardscaler&#x27;,\n",
              "                                                                   StandardScaler(),\n",
              "                                                                   &lt;sklearn.compose._column_transformer.make_column_selector object at 0x7fd2aeb02fe0&gt;),\n",
              "                                                                  (&#x27;onehotencoder&#x27;,\n",
              "                                                                   OneHotEncoder(handle_unknown=&#x27;ignore&#x27;,\n",
              "                                                                                 sparse=False),\n",
              "                                                                   &lt;sklearn.compose._column_transformer.make_column_selector object at 0x7fd2aeb02830&gt;)])),\n",
              "                                 (&#x27;pca&#x27;, PCA(n_components=0.97))])),\n",
              "                (&#x27;kneighborsclassifier&#x27;, KNeighborsClassifier())])</pre><b>In a Jupyter environment, please rerun this cell to show the HTML representation or trust the notebook. <br />On GitHub, the HTML representation is unable to render, please try loading this page with nbviewer.org.</b></div><div class=\"sk-container\" hidden><div class=\"sk-item sk-dashed-wrapped\"><div class=\"sk-label-container\"><div class=\"sk-label sk-toggleable\"><input class=\"sk-toggleable__control sk-hidden--visually\" id=\"sk-estimator-id-189\" type=\"checkbox\" ><label for=\"sk-estimator-id-189\" class=\"sk-toggleable__label sk-toggleable__label-arrow\">Pipeline</label><div class=\"sk-toggleable__content\"><pre>Pipeline(steps=[(&#x27;pipeline&#x27;,\n",
              "                 Pipeline(steps=[(&#x27;columntransformer&#x27;,\n",
              "                                  ColumnTransformer(transformers=[(&#x27;standardscaler&#x27;,\n",
              "                                                                   StandardScaler(),\n",
              "                                                                   &lt;sklearn.compose._column_transformer.make_column_selector object at 0x7fd2aeb02fe0&gt;),\n",
              "                                                                  (&#x27;onehotencoder&#x27;,\n",
              "                                                                   OneHotEncoder(handle_unknown=&#x27;ignore&#x27;,\n",
              "                                                                                 sparse=False),\n",
              "                                                                   &lt;sklearn.compose._column_transformer.make_column_selector object at 0x7fd2aeb02830&gt;)])),\n",
              "                                 (&#x27;pca&#x27;, PCA(n_components=0.97))])),\n",
              "                (&#x27;kneighborsclassifier&#x27;, KNeighborsClassifier())])</pre></div></div></div><div class=\"sk-serial\"><div class=\"sk-item\"><div class=\"sk-label-container\"><div class=\"sk-label sk-toggleable\"><input class=\"sk-toggleable__control sk-hidden--visually\" id=\"sk-estimator-id-190\" type=\"checkbox\" ><label for=\"sk-estimator-id-190\" class=\"sk-toggleable__label sk-toggleable__label-arrow\">pipeline: Pipeline</label><div class=\"sk-toggleable__content\"><pre>Pipeline(steps=[(&#x27;columntransformer&#x27;,\n",
              "                 ColumnTransformer(transformers=[(&#x27;standardscaler&#x27;,\n",
              "                                                  StandardScaler(),\n",
              "                                                  &lt;sklearn.compose._column_transformer.make_column_selector object at 0x7fd2aeb02fe0&gt;),\n",
              "                                                 (&#x27;onehotencoder&#x27;,\n",
              "                                                  OneHotEncoder(handle_unknown=&#x27;ignore&#x27;,\n",
              "                                                                sparse=False),\n",
              "                                                  &lt;sklearn.compose._column_transformer.make_column_selector object at 0x7fd2aeb02830&gt;)])),\n",
              "                (&#x27;pca&#x27;, PCA(n_components=0.97))])</pre></div></div></div><div class=\"sk-serial\"><div class=\"sk-item sk-dashed-wrapped\"><div class=\"sk-label-container\"><div class=\"sk-label sk-toggleable\"><input class=\"sk-toggleable__control sk-hidden--visually\" id=\"sk-estimator-id-191\" type=\"checkbox\" ><label for=\"sk-estimator-id-191\" class=\"sk-toggleable__label sk-toggleable__label-arrow\">columntransformer: ColumnTransformer</label><div class=\"sk-toggleable__content\"><pre>ColumnTransformer(transformers=[(&#x27;standardscaler&#x27;, StandardScaler(),\n",
              "                                 &lt;sklearn.compose._column_transformer.make_column_selector object at 0x7fd2aeb02fe0&gt;),\n",
              "                                (&#x27;onehotencoder&#x27;,\n",
              "                                 OneHotEncoder(handle_unknown=&#x27;ignore&#x27;,\n",
              "                                               sparse=False),\n",
              "                                 &lt;sklearn.compose._column_transformer.make_column_selector object at 0x7fd2aeb02830&gt;)])</pre></div></div></div><div class=\"sk-parallel\"><div class=\"sk-parallel-item\"><div class=\"sk-item\"><div class=\"sk-label-container\"><div class=\"sk-label sk-toggleable\"><input class=\"sk-toggleable__control sk-hidden--visually\" id=\"sk-estimator-id-192\" type=\"checkbox\" ><label for=\"sk-estimator-id-192\" class=\"sk-toggleable__label sk-toggleable__label-arrow\">standardscaler</label><div class=\"sk-toggleable__content\"><pre>&lt;sklearn.compose._column_transformer.make_column_selector object at 0x7fd2aeb02fe0&gt;</pre></div></div></div><div class=\"sk-serial\"><div class=\"sk-item\"><div class=\"sk-estimator sk-toggleable\"><input class=\"sk-toggleable__control sk-hidden--visually\" id=\"sk-estimator-id-193\" type=\"checkbox\" ><label for=\"sk-estimator-id-193\" class=\"sk-toggleable__label sk-toggleable__label-arrow\">StandardScaler</label><div class=\"sk-toggleable__content\"><pre>StandardScaler()</pre></div></div></div></div></div></div><div class=\"sk-parallel-item\"><div class=\"sk-item\"><div class=\"sk-label-container\"><div class=\"sk-label sk-toggleable\"><input class=\"sk-toggleable__control sk-hidden--visually\" id=\"sk-estimator-id-194\" type=\"checkbox\" ><label for=\"sk-estimator-id-194\" class=\"sk-toggleable__label sk-toggleable__label-arrow\">onehotencoder</label><div class=\"sk-toggleable__content\"><pre>&lt;sklearn.compose._column_transformer.make_column_selector object at 0x7fd2aeb02830&gt;</pre></div></div></div><div class=\"sk-serial\"><div class=\"sk-item\"><div class=\"sk-estimator sk-toggleable\"><input class=\"sk-toggleable__control sk-hidden--visually\" id=\"sk-estimator-id-195\" type=\"checkbox\" ><label for=\"sk-estimator-id-195\" class=\"sk-toggleable__label sk-toggleable__label-arrow\">OneHotEncoder</label><div class=\"sk-toggleable__content\"><pre>OneHotEncoder(handle_unknown=&#x27;ignore&#x27;, sparse=False)</pre></div></div></div></div></div></div></div></div><div class=\"sk-item\"><div class=\"sk-estimator sk-toggleable\"><input class=\"sk-toggleable__control sk-hidden--visually\" id=\"sk-estimator-id-196\" type=\"checkbox\" ><label for=\"sk-estimator-id-196\" class=\"sk-toggleable__label sk-toggleable__label-arrow\">PCA</label><div class=\"sk-toggleable__content\"><pre>PCA(n_components=0.97)</pre></div></div></div></div></div><div class=\"sk-item\"><div class=\"sk-estimator sk-toggleable\"><input class=\"sk-toggleable__control sk-hidden--visually\" id=\"sk-estimator-id-197\" type=\"checkbox\" ><label for=\"sk-estimator-id-197\" class=\"sk-toggleable__label sk-toggleable__label-arrow\">KNeighborsClassifier</label><div class=\"sk-toggleable__content\"><pre>KNeighborsClassifier()</pre></div></div></div></div></div></div></div>"
            ]
          },
          "metadata": {},
          "execution_count": 138
        }
      ]
    },
    {
      "cell_type": "markdown",
      "source": [
        "#### Tuning KNN Model"
      ],
      "metadata": {
        "id": "UapmjCUyZQSO"
      }
    },
    {
      "cell_type": "code",
      "source": [
        "# Get parameters for KNN model\n",
        "knn_pipe.get_params()"
      ],
      "metadata": {
        "colab": {
          "base_uri": "https://localhost:8080/"
        },
        "id": "knzQD6x7ZhEE",
        "outputId": "fba6612b-b9e0-459d-9022-6e19ff06f0bc"
      },
      "execution_count": 139,
      "outputs": [
        {
          "output_type": "execute_result",
          "data": {
            "text/plain": [
              "{'memory': None,\n",
              " 'steps': [('pipeline', Pipeline(steps=[('columntransformer',\n",
              "                    ColumnTransformer(transformers=[('standardscaler',\n",
              "                                                     StandardScaler(),\n",
              "                                                     <sklearn.compose._column_transformer.make_column_selector object at 0x7fd2aeb02fe0>),\n",
              "                                                    ('onehotencoder',\n",
              "                                                     OneHotEncoder(handle_unknown='ignore',\n",
              "                                                                   sparse=False),\n",
              "                                                     <sklearn.compose._column_transformer.make_column_selector object at 0x7fd2aeb02830>)])),\n",
              "                   ('pca', PCA(n_components=0.97))])),\n",
              "  ('kneighborsclassifier', KNeighborsClassifier())],\n",
              " 'verbose': False,\n",
              " 'pipeline': Pipeline(steps=[('columntransformer',\n",
              "                  ColumnTransformer(transformers=[('standardscaler',\n",
              "                                                   StandardScaler(),\n",
              "                                                   <sklearn.compose._column_transformer.make_column_selector object at 0x7fd2aeb02fe0>),\n",
              "                                                  ('onehotencoder',\n",
              "                                                   OneHotEncoder(handle_unknown='ignore',\n",
              "                                                                 sparse=False),\n",
              "                                                   <sklearn.compose._column_transformer.make_column_selector object at 0x7fd2aeb02830>)])),\n",
              "                 ('pca', PCA(n_components=0.97))]),\n",
              " 'kneighborsclassifier': KNeighborsClassifier(),\n",
              " 'pipeline__memory': None,\n",
              " 'pipeline__steps': [('columntransformer',\n",
              "   ColumnTransformer(transformers=[('standardscaler', StandardScaler(),\n",
              "                                    <sklearn.compose._column_transformer.make_column_selector object at 0x7fd2aeb02fe0>),\n",
              "                                   ('onehotencoder',\n",
              "                                    OneHotEncoder(handle_unknown='ignore',\n",
              "                                                  sparse=False),\n",
              "                                    <sklearn.compose._column_transformer.make_column_selector object at 0x7fd2aeb02830>)])),\n",
              "  ('pca', PCA(n_components=0.97))],\n",
              " 'pipeline__verbose': False,\n",
              " 'pipeline__columntransformer': ColumnTransformer(transformers=[('standardscaler', StandardScaler(),\n",
              "                                  <sklearn.compose._column_transformer.make_column_selector object at 0x7fd2aeb02fe0>),\n",
              "                                 ('onehotencoder',\n",
              "                                  OneHotEncoder(handle_unknown='ignore',\n",
              "                                                sparse=False),\n",
              "                                  <sklearn.compose._column_transformer.make_column_selector object at 0x7fd2aeb02830>)]),\n",
              " 'pipeline__pca': PCA(n_components=0.97),\n",
              " 'pipeline__columntransformer__n_jobs': None,\n",
              " 'pipeline__columntransformer__remainder': 'drop',\n",
              " 'pipeline__columntransformer__sparse_threshold': 0.3,\n",
              " 'pipeline__columntransformer__transformer_weights': None,\n",
              " 'pipeline__columntransformer__transformers': [('standardscaler',\n",
              "   StandardScaler(),\n",
              "   <sklearn.compose._column_transformer.make_column_selector at 0x7fd2aeb02fe0>),\n",
              "  ('onehotencoder',\n",
              "   OneHotEncoder(handle_unknown='ignore', sparse=False),\n",
              "   <sklearn.compose._column_transformer.make_column_selector at 0x7fd2aeb02830>)],\n",
              " 'pipeline__columntransformer__verbose': False,\n",
              " 'pipeline__columntransformer__verbose_feature_names_out': True,\n",
              " 'pipeline__columntransformer__standardscaler': StandardScaler(),\n",
              " 'pipeline__columntransformer__onehotencoder': OneHotEncoder(handle_unknown='ignore', sparse=False),\n",
              " 'pipeline__columntransformer__standardscaler__copy': True,\n",
              " 'pipeline__columntransformer__standardscaler__with_mean': True,\n",
              " 'pipeline__columntransformer__standardscaler__with_std': True,\n",
              " 'pipeline__columntransformer__onehotencoder__categories': 'auto',\n",
              " 'pipeline__columntransformer__onehotencoder__drop': None,\n",
              " 'pipeline__columntransformer__onehotencoder__dtype': numpy.float64,\n",
              " 'pipeline__columntransformer__onehotencoder__handle_unknown': 'ignore',\n",
              " 'pipeline__columntransformer__onehotencoder__max_categories': None,\n",
              " 'pipeline__columntransformer__onehotencoder__min_frequency': None,\n",
              " 'pipeline__columntransformer__onehotencoder__sparse': False,\n",
              " 'pipeline__columntransformer__onehotencoder__sparse_output': True,\n",
              " 'pipeline__pca__copy': True,\n",
              " 'pipeline__pca__iterated_power': 'auto',\n",
              " 'pipeline__pca__n_components': 0.97,\n",
              " 'pipeline__pca__n_oversamples': 10,\n",
              " 'pipeline__pca__power_iteration_normalizer': 'auto',\n",
              " 'pipeline__pca__random_state': None,\n",
              " 'pipeline__pca__svd_solver': 'auto',\n",
              " 'pipeline__pca__tol': 0.0,\n",
              " 'pipeline__pca__whiten': False,\n",
              " 'kneighborsclassifier__algorithm': 'auto',\n",
              " 'kneighborsclassifier__leaf_size': 30,\n",
              " 'kneighborsclassifier__metric': 'minkowski',\n",
              " 'kneighborsclassifier__metric_params': None,\n",
              " 'kneighborsclassifier__n_jobs': None,\n",
              " 'kneighborsclassifier__n_neighbors': 5,\n",
              " 'kneighborsclassifier__p': 2,\n",
              " 'kneighborsclassifier__weights': 'uniform'}"
            ]
          },
          "metadata": {},
          "execution_count": 139
        }
      ]
    },
    {
      "cell_type": "code",
      "source": [
        "# Create a dictionary of parameters\n",
        "params = {'kneighborsclassifier__n_neighbors': range(1,10),\n",
        "          'kneighborsclassifier__weights': ['distance', 'uniform']}"
      ],
      "metadata": {
        "id": "_ADVoY6fZ-V0"
      },
      "execution_count": 140,
      "outputs": []
    },
    {
      "cell_type": "code",
      "source": [
        "# Tune hyperparameters with GridSearchCV\n",
        "knn_gs = GridSearchCV(knn_pipe, params)\n",
        "knn_gs.fit(X_train, y_train)"
      ],
      "metadata": {
        "colab": {
          "base_uri": "https://localhost:8080/",
          "height": 278
        },
        "id": "51JiiCJYZ-SH",
        "outputId": "4b1c6656-14a4-4142-bd02-4df448dfaefc"
      },
      "execution_count": 141,
      "outputs": [
        {
          "output_type": "execute_result",
          "data": {
            "text/plain": [
              "GridSearchCV(estimator=Pipeline(steps=[('pipeline',\n",
              "                                        Pipeline(steps=[('columntransformer',\n",
              "                                                         ColumnTransformer(transformers=[('standardscaler',\n",
              "                                                                                          StandardScaler(),\n",
              "                                                                                          <sklearn.compose._column_transformer.make_column_selector object at 0x7fd2aeb02fe0>),\n",
              "                                                                                         ('onehotencoder',\n",
              "                                                                                          OneHotEncoder(handle_unknown='ignore',\n",
              "                                                                                                        sparse=False),\n",
              "                                                                                          <sklearn.compose._column_transformer.make_column_selector object at 0x7fd2aeb02830>)])),\n",
              "                                                        ('pca',\n",
              "                                                         PCA(n_components=0.97))])),\n",
              "                                       ('kneighborsclassifier',\n",
              "                                        KNeighborsClassifier())]),\n",
              "             param_grid={'kneighborsclassifier__n_neighbors': range(1, 10),\n",
              "                         'kneighborsclassifier__weights': ['distance',\n",
              "                                                           'uniform']})"
            ],
            "text/html": [
              "<style>#sk-container-id-23 {color: black;background-color: white;}#sk-container-id-23 pre{padding: 0;}#sk-container-id-23 div.sk-toggleable {background-color: white;}#sk-container-id-23 label.sk-toggleable__label {cursor: pointer;display: block;width: 100%;margin-bottom: 0;padding: 0.3em;box-sizing: border-box;text-align: center;}#sk-container-id-23 label.sk-toggleable__label-arrow:before {content: \"▸\";float: left;margin-right: 0.25em;color: #696969;}#sk-container-id-23 label.sk-toggleable__label-arrow:hover:before {color: black;}#sk-container-id-23 div.sk-estimator:hover label.sk-toggleable__label-arrow:before {color: black;}#sk-container-id-23 div.sk-toggleable__content {max-height: 0;max-width: 0;overflow: hidden;text-align: left;background-color: #f0f8ff;}#sk-container-id-23 div.sk-toggleable__content pre {margin: 0.2em;color: black;border-radius: 0.25em;background-color: #f0f8ff;}#sk-container-id-23 input.sk-toggleable__control:checked~div.sk-toggleable__content {max-height: 200px;max-width: 100%;overflow: auto;}#sk-container-id-23 input.sk-toggleable__control:checked~label.sk-toggleable__label-arrow:before {content: \"▾\";}#sk-container-id-23 div.sk-estimator input.sk-toggleable__control:checked~label.sk-toggleable__label {background-color: #d4ebff;}#sk-container-id-23 div.sk-label input.sk-toggleable__control:checked~label.sk-toggleable__label {background-color: #d4ebff;}#sk-container-id-23 input.sk-hidden--visually {border: 0;clip: rect(1px 1px 1px 1px);clip: rect(1px, 1px, 1px, 1px);height: 1px;margin: -1px;overflow: hidden;padding: 0;position: absolute;width: 1px;}#sk-container-id-23 div.sk-estimator {font-family: monospace;background-color: #f0f8ff;border: 1px dotted black;border-radius: 0.25em;box-sizing: border-box;margin-bottom: 0.5em;}#sk-container-id-23 div.sk-estimator:hover {background-color: #d4ebff;}#sk-container-id-23 div.sk-parallel-item::after {content: \"\";width: 100%;border-bottom: 1px solid gray;flex-grow: 1;}#sk-container-id-23 div.sk-label:hover label.sk-toggleable__label {background-color: #d4ebff;}#sk-container-id-23 div.sk-serial::before {content: \"\";position: absolute;border-left: 1px solid gray;box-sizing: border-box;top: 0;bottom: 0;left: 50%;z-index: 0;}#sk-container-id-23 div.sk-serial {display: flex;flex-direction: column;align-items: center;background-color: white;padding-right: 0.2em;padding-left: 0.2em;position: relative;}#sk-container-id-23 div.sk-item {position: relative;z-index: 1;}#sk-container-id-23 div.sk-parallel {display: flex;align-items: stretch;justify-content: center;background-color: white;position: relative;}#sk-container-id-23 div.sk-item::before, #sk-container-id-23 div.sk-parallel-item::before {content: \"\";position: absolute;border-left: 1px solid gray;box-sizing: border-box;top: 0;bottom: 0;left: 50%;z-index: -1;}#sk-container-id-23 div.sk-parallel-item {display: flex;flex-direction: column;z-index: 1;position: relative;background-color: white;}#sk-container-id-23 div.sk-parallel-item:first-child::after {align-self: flex-end;width: 50%;}#sk-container-id-23 div.sk-parallel-item:last-child::after {align-self: flex-start;width: 50%;}#sk-container-id-23 div.sk-parallel-item:only-child::after {width: 0;}#sk-container-id-23 div.sk-dashed-wrapped {border: 1px dashed gray;margin: 0 0.4em 0.5em 0.4em;box-sizing: border-box;padding-bottom: 0.4em;background-color: white;}#sk-container-id-23 div.sk-label label {font-family: monospace;font-weight: bold;display: inline-block;line-height: 1.2em;}#sk-container-id-23 div.sk-label-container {text-align: center;}#sk-container-id-23 div.sk-container {/* jupyter's `normalize.less` sets `[hidden] { display: none; }` but bootstrap.min.css set `[hidden] { display: none !important; }` so we also need the `!important` here to be able to override the default hidden behavior on the sphinx rendered scikit-learn.org. See: https://github.com/scikit-learn/scikit-learn/issues/21755 */display: inline-block !important;position: relative;}#sk-container-id-23 div.sk-text-repr-fallback {display: none;}</style><div id=\"sk-container-id-23\" class=\"sk-top-container\"><div class=\"sk-text-repr-fallback\"><pre>GridSearchCV(estimator=Pipeline(steps=[(&#x27;pipeline&#x27;,\n",
              "                                        Pipeline(steps=[(&#x27;columntransformer&#x27;,\n",
              "                                                         ColumnTransformer(transformers=[(&#x27;standardscaler&#x27;,\n",
              "                                                                                          StandardScaler(),\n",
              "                                                                                          &lt;sklearn.compose._column_transformer.make_column_selector object at 0x7fd2aeb02fe0&gt;),\n",
              "                                                                                         (&#x27;onehotencoder&#x27;,\n",
              "                                                                                          OneHotEncoder(handle_unknown=&#x27;ignore&#x27;,\n",
              "                                                                                                        sparse=False),\n",
              "                                                                                          &lt;sklearn.compose._column_transformer.make_column_selector object at 0x7fd2aeb02830&gt;)])),\n",
              "                                                        (&#x27;pca&#x27;,\n",
              "                                                         PCA(n_components=0.97))])),\n",
              "                                       (&#x27;kneighborsclassifier&#x27;,\n",
              "                                        KNeighborsClassifier())]),\n",
              "             param_grid={&#x27;kneighborsclassifier__n_neighbors&#x27;: range(1, 10),\n",
              "                         &#x27;kneighborsclassifier__weights&#x27;: [&#x27;distance&#x27;,\n",
              "                                                           &#x27;uniform&#x27;]})</pre><b>In a Jupyter environment, please rerun this cell to show the HTML representation or trust the notebook. <br />On GitHub, the HTML representation is unable to render, please try loading this page with nbviewer.org.</b></div><div class=\"sk-container\" hidden><div class=\"sk-item sk-dashed-wrapped\"><div class=\"sk-label-container\"><div class=\"sk-label sk-toggleable\"><input class=\"sk-toggleable__control sk-hidden--visually\" id=\"sk-estimator-id-198\" type=\"checkbox\" ><label for=\"sk-estimator-id-198\" class=\"sk-toggleable__label sk-toggleable__label-arrow\">GridSearchCV</label><div class=\"sk-toggleable__content\"><pre>GridSearchCV(estimator=Pipeline(steps=[(&#x27;pipeline&#x27;,\n",
              "                                        Pipeline(steps=[(&#x27;columntransformer&#x27;,\n",
              "                                                         ColumnTransformer(transformers=[(&#x27;standardscaler&#x27;,\n",
              "                                                                                          StandardScaler(),\n",
              "                                                                                          &lt;sklearn.compose._column_transformer.make_column_selector object at 0x7fd2aeb02fe0&gt;),\n",
              "                                                                                         (&#x27;onehotencoder&#x27;,\n",
              "                                                                                          OneHotEncoder(handle_unknown=&#x27;ignore&#x27;,\n",
              "                                                                                                        sparse=False),\n",
              "                                                                                          &lt;sklearn.compose._column_transformer.make_column_selector object at 0x7fd2aeb02830&gt;)])),\n",
              "                                                        (&#x27;pca&#x27;,\n",
              "                                                         PCA(n_components=0.97))])),\n",
              "                                       (&#x27;kneighborsclassifier&#x27;,\n",
              "                                        KNeighborsClassifier())]),\n",
              "             param_grid={&#x27;kneighborsclassifier__n_neighbors&#x27;: range(1, 10),\n",
              "                         &#x27;kneighborsclassifier__weights&#x27;: [&#x27;distance&#x27;,\n",
              "                                                           &#x27;uniform&#x27;]})</pre></div></div></div><div class=\"sk-parallel\"><div class=\"sk-parallel-item\"><div class=\"sk-item\"><div class=\"sk-label-container\"><div class=\"sk-label sk-toggleable\"><input class=\"sk-toggleable__control sk-hidden--visually\" id=\"sk-estimator-id-199\" type=\"checkbox\" ><label for=\"sk-estimator-id-199\" class=\"sk-toggleable__label sk-toggleable__label-arrow\">estimator: Pipeline</label><div class=\"sk-toggleable__content\"><pre>Pipeline(steps=[(&#x27;pipeline&#x27;,\n",
              "                 Pipeline(steps=[(&#x27;columntransformer&#x27;,\n",
              "                                  ColumnTransformer(transformers=[(&#x27;standardscaler&#x27;,\n",
              "                                                                   StandardScaler(),\n",
              "                                                                   &lt;sklearn.compose._column_transformer.make_column_selector object at 0x7fd2aeb02fe0&gt;),\n",
              "                                                                  (&#x27;onehotencoder&#x27;,\n",
              "                                                                   OneHotEncoder(handle_unknown=&#x27;ignore&#x27;,\n",
              "                                                                                 sparse=False),\n",
              "                                                                   &lt;sklearn.compose._column_transformer.make_column_selector object at 0x7fd2aeb02830&gt;)])),\n",
              "                                 (&#x27;pca&#x27;, PCA(n_components=0.97))])),\n",
              "                (&#x27;kneighborsclassifier&#x27;, KNeighborsClassifier())])</pre></div></div></div><div class=\"sk-serial\"><div class=\"sk-item\"><div class=\"sk-serial\"><div class=\"sk-item\"><div class=\"sk-label-container\"><div class=\"sk-label sk-toggleable\"><input class=\"sk-toggleable__control sk-hidden--visually\" id=\"sk-estimator-id-200\" type=\"checkbox\" ><label for=\"sk-estimator-id-200\" class=\"sk-toggleable__label sk-toggleable__label-arrow\">pipeline: Pipeline</label><div class=\"sk-toggleable__content\"><pre>Pipeline(steps=[(&#x27;columntransformer&#x27;,\n",
              "                 ColumnTransformer(transformers=[(&#x27;standardscaler&#x27;,\n",
              "                                                  StandardScaler(),\n",
              "                                                  &lt;sklearn.compose._column_transformer.make_column_selector object at 0x7fd2aeb02fe0&gt;),\n",
              "                                                 (&#x27;onehotencoder&#x27;,\n",
              "                                                  OneHotEncoder(handle_unknown=&#x27;ignore&#x27;,\n",
              "                                                                sparse=False),\n",
              "                                                  &lt;sklearn.compose._column_transformer.make_column_selector object at 0x7fd2aeb02830&gt;)])),\n",
              "                (&#x27;pca&#x27;, PCA(n_components=0.97))])</pre></div></div></div><div class=\"sk-serial\"><div class=\"sk-item sk-dashed-wrapped\"><div class=\"sk-label-container\"><div class=\"sk-label sk-toggleable\"><input class=\"sk-toggleable__control sk-hidden--visually\" id=\"sk-estimator-id-201\" type=\"checkbox\" ><label for=\"sk-estimator-id-201\" class=\"sk-toggleable__label sk-toggleable__label-arrow\">columntransformer: ColumnTransformer</label><div class=\"sk-toggleable__content\"><pre>ColumnTransformer(transformers=[(&#x27;standardscaler&#x27;, StandardScaler(),\n",
              "                                 &lt;sklearn.compose._column_transformer.make_column_selector object at 0x7fd2aeb02fe0&gt;),\n",
              "                                (&#x27;onehotencoder&#x27;,\n",
              "                                 OneHotEncoder(handle_unknown=&#x27;ignore&#x27;,\n",
              "                                               sparse=False),\n",
              "                                 &lt;sklearn.compose._column_transformer.make_column_selector object at 0x7fd2aeb02830&gt;)])</pre></div></div></div><div class=\"sk-parallel\"><div class=\"sk-parallel-item\"><div class=\"sk-item\"><div class=\"sk-label-container\"><div class=\"sk-label sk-toggleable\"><input class=\"sk-toggleable__control sk-hidden--visually\" id=\"sk-estimator-id-202\" type=\"checkbox\" ><label for=\"sk-estimator-id-202\" class=\"sk-toggleable__label sk-toggleable__label-arrow\">standardscaler</label><div class=\"sk-toggleable__content\"><pre>&lt;sklearn.compose._column_transformer.make_column_selector object at 0x7fd2aeb02fe0&gt;</pre></div></div></div><div class=\"sk-serial\"><div class=\"sk-item\"><div class=\"sk-estimator sk-toggleable\"><input class=\"sk-toggleable__control sk-hidden--visually\" id=\"sk-estimator-id-203\" type=\"checkbox\" ><label for=\"sk-estimator-id-203\" class=\"sk-toggleable__label sk-toggleable__label-arrow\">StandardScaler</label><div class=\"sk-toggleable__content\"><pre>StandardScaler()</pre></div></div></div></div></div></div><div class=\"sk-parallel-item\"><div class=\"sk-item\"><div class=\"sk-label-container\"><div class=\"sk-label sk-toggleable\"><input class=\"sk-toggleable__control sk-hidden--visually\" id=\"sk-estimator-id-204\" type=\"checkbox\" ><label for=\"sk-estimator-id-204\" class=\"sk-toggleable__label sk-toggleable__label-arrow\">onehotencoder</label><div class=\"sk-toggleable__content\"><pre>&lt;sklearn.compose._column_transformer.make_column_selector object at 0x7fd2aeb02830&gt;</pre></div></div></div><div class=\"sk-serial\"><div class=\"sk-item\"><div class=\"sk-estimator sk-toggleable\"><input class=\"sk-toggleable__control sk-hidden--visually\" id=\"sk-estimator-id-205\" type=\"checkbox\" ><label for=\"sk-estimator-id-205\" class=\"sk-toggleable__label sk-toggleable__label-arrow\">OneHotEncoder</label><div class=\"sk-toggleable__content\"><pre>OneHotEncoder(handle_unknown=&#x27;ignore&#x27;, sparse=False)</pre></div></div></div></div></div></div></div></div><div class=\"sk-item\"><div class=\"sk-estimator sk-toggleable\"><input class=\"sk-toggleable__control sk-hidden--visually\" id=\"sk-estimator-id-206\" type=\"checkbox\" ><label for=\"sk-estimator-id-206\" class=\"sk-toggleable__label sk-toggleable__label-arrow\">PCA</label><div class=\"sk-toggleable__content\"><pre>PCA(n_components=0.97)</pre></div></div></div></div></div><div class=\"sk-item\"><div class=\"sk-estimator sk-toggleable\"><input class=\"sk-toggleable__control sk-hidden--visually\" id=\"sk-estimator-id-207\" type=\"checkbox\" ><label for=\"sk-estimator-id-207\" class=\"sk-toggleable__label sk-toggleable__label-arrow\">KNeighborsClassifier</label><div class=\"sk-toggleable__content\"><pre>KNeighborsClassifier()</pre></div></div></div></div></div></div></div></div></div></div></div></div>"
            ]
          },
          "metadata": {},
          "execution_count": 141
        }
      ]
    },
    {
      "cell_type": "code",
      "source": [
        "# Find the best parameters\n",
        "knn_gs.best_params_"
      ],
      "metadata": {
        "colab": {
          "base_uri": "https://localhost:8080/"
        },
        "id": "2GZlm70fZ-Nz",
        "outputId": "6569c737-c9f7-426e-dbce-d6617684e80d"
      },
      "execution_count": 142,
      "outputs": [
        {
          "output_type": "execute_result",
          "data": {
            "text/plain": [
              "{'kneighborsclassifier__n_neighbors': 6,\n",
              " 'kneighborsclassifier__weights': 'uniform'}"
            ]
          },
          "metadata": {},
          "execution_count": 142
        }
      ]
    },
    {
      "cell_type": "code",
      "source": [
        "# Print score of the best parameters\n",
        "knn_gs.best_score_"
      ],
      "metadata": {
        "colab": {
          "base_uri": "https://localhost:8080/"
        },
        "id": "--Jww5_ScCXJ",
        "outputId": "feaa77cb-adc3-44a9-8a3b-a0aa2feaaf7f"
      },
      "execution_count": 143,
      "outputs": [
        {
          "output_type": "execute_result",
          "data": {
            "text/plain": [
              "0.6484383000512033"
            ]
          },
          "metadata": {},
          "execution_count": 143
        }
      ]
    },
    {
      "cell_type": "code",
      "source": [
        "# Save best estimators to KNN model\n",
        "best_knn = knn_gs.best_estimator_"
      ],
      "metadata": {
        "id": "PdA9HGp3e-6V"
      },
      "execution_count": 144,
      "outputs": []
    },
    {
      "cell_type": "code",
      "source": [
        "# Instantiate and fit GridSearchCV\n",
        "train_preds = best_knn.predict(X_train)\n",
        "test_preds = best_knn.predict(X_test)"
      ],
      "metadata": {
        "id": "8f7DJmIEfo0z"
      },
      "execution_count": 145,
      "outputs": []
    },
    {
      "cell_type": "markdown",
      "source": [
        "### Model Evaluation:"
      ],
      "metadata": {
        "id": "MuqoJRXB-4sM"
      }
    },
    {
      "cell_type": "code",
      "source": [
        "# Print Classification Reports\n",
        "print('Train\\n', classification_report(y_train, train_preds))\n",
        "print('Test\\n', classification_report(y_test, test_preds))"
      ],
      "metadata": {
        "colab": {
          "base_uri": "https://localhost:8080/"
        },
        "id": "Pc1ty7Q3fZCJ",
        "outputId": "0ff470cb-b6d3-4c94-f234-fb39944412c3"
      },
      "execution_count": 146,
      "outputs": [
        {
          "output_type": "stream",
          "name": "stdout",
          "text": [
            "Train\n",
            "                  precision    recall  f1-score   support\n",
            "\n",
            "D-penicillamine       0.62      0.83      0.71       127\n",
            "Non_Participant       1.00      1.00      1.00        70\n",
            "        Placebo       0.70      0.44      0.54       116\n",
            "\n",
            "       accuracy                           0.72       313\n",
            "      macro avg       0.77      0.76      0.75       313\n",
            "   weighted avg       0.73      0.72      0.71       313\n",
            "\n",
            "Test\n",
            "                  precision    recall  f1-score   support\n",
            "\n",
            "D-penicillamine       0.49      0.77      0.60        31\n",
            "Non_Participant       0.97      1.00      0.99        36\n",
            "        Placebo       0.63      0.32      0.42        38\n",
            "\n",
            "       accuracy                           0.69       105\n",
            "      macro avg       0.70      0.70      0.67       105\n",
            "   weighted avg       0.71      0.69      0.67       105\n",
            "\n"
          ]
        }
      ]
    },
    {
      "cell_type": "code",
      "source": [
        "# Display the test and training Confusion Matrix\n",
        "fig, axes = plt.subplots(ncols=2, figsize=(17,6))\n",
        "\n",
        "ConfusionMatrixDisplay.from_predictions(y_train, train_preds,\n",
        "                                        ax=axes[0], cmap='Greens',normalize='true')\n",
        "\n",
        "axes[0].set_title('KNN Train CM')\n",
        "ConfusionMatrixDisplay.from_predictions(y_test, test_preds,\n",
        "                                        ax=axes[1], cmap='magma',normalize='true')\n",
        "\n",
        "axes[1].set_title('KNN Test CM');\n"
      ],
      "metadata": {
        "colab": {
          "base_uri": "https://localhost:8080/",
          "height": 564
        },
        "id": "9Xf0xngd0FQC",
        "outputId": "81b67c24-d758-45e6-b5f3-0844ece483b0"
      },
      "execution_count": 147,
      "outputs": [
        {
          "output_type": "display_data",
          "data": {
            "text/plain": [
              "<Figure size 1700x600 with 4 Axes>"
            ],
            "image/png": "[encoded data removed]"
          },
          "metadata": {}
        }
      ]
    },
    {
      "cell_type": "markdown",
      "source": [
        "### Decision Tree Clsssifier"
      ],
      "metadata": {
        "id": "MB7Nz6gri3uO"
      }
    },
    {
      "cell_type": "code",
      "source": [
        "# Create an instance of the model\n",
        "dec_tree = DecisionTreeClassifier()\n",
        "# Create a model pipeline\n",
        "dec_tree_pipe = make_pipeline(transformer, dec_tree)\n",
        "# Fit the Model\n",
        "dec_tree_pipe.fit(X_train, y_train)"
      ],
      "metadata": {
        "colab": {
          "base_uri": "https://localhost:8080/",
          "height": 252
        },
        "id": "759ZUV1Ti_dH",
        "outputId": "1b05be65-d12b-4f36-9b48-d4e2b4dbc691"
      },
      "execution_count": 148,
      "outputs": [
        {
          "output_type": "execute_result",
          "data": {
            "text/plain": [
              "Pipeline(steps=[('pipeline',\n",
              "                 Pipeline(steps=[('columntransformer',\n",
              "                                  ColumnTransformer(transformers=[('standardscaler',\n",
              "                                                                   StandardScaler(),\n",
              "                                                                   <sklearn.compose._column_transformer.make_column_selector object at 0x7fd2aeb02fe0>),\n",
              "                                                                  ('onehotencoder',\n",
              "                                                                   OneHotEncoder(handle_unknown='ignore',\n",
              "                                                                                 sparse=False),\n",
              "                                                                   <sklearn.compose._column_transformer.make_column_selector object at 0x7fd2aeb02830>)])),\n",
              "                                 ('pca', PCA(n_components=0.97))])),\n",
              "                ('decisiontreeclassifier', DecisionTreeClassifier())])"
            ],
            "text/html": [
              "<style>#sk-container-id-24 {color: black;background-color: white;}#sk-container-id-24 pre{padding: 0;}#sk-container-id-24 div.sk-toggleable {background-color: white;}#sk-container-id-24 label.sk-toggleable__label {cursor: pointer;display: block;width: 100%;margin-bottom: 0;padding: 0.3em;box-sizing: border-box;text-align: center;}#sk-container-id-24 label.sk-toggleable__label-arrow:before {content: \"▸\";float: left;margin-right: 0.25em;color: #696969;}#sk-container-id-24 label.sk-toggleable__label-arrow:hover:before {color: black;}#sk-container-id-24 div.sk-estimator:hover label.sk-toggleable__label-arrow:before {color: black;}#sk-container-id-24 div.sk-toggleable__content {max-height: 0;max-width: 0;overflow: hidden;text-align: left;background-color: #f0f8ff;}#sk-container-id-24 div.sk-toggleable__content pre {margin: 0.2em;color: black;border-radius: 0.25em;background-color: #f0f8ff;}#sk-container-id-24 input.sk-toggleable__control:checked~div.sk-toggleable__content {max-height: 200px;max-width: 100%;overflow: auto;}#sk-container-id-24 input.sk-toggleable__control:checked~label.sk-toggleable__label-arrow:before {content: \"▾\";}#sk-container-id-24 div.sk-estimator input.sk-toggleable__control:checked~label.sk-toggleable__label {background-color: #d4ebff;}#sk-container-id-24 div.sk-label input.sk-toggleable__control:checked~label.sk-toggleable__label {background-color: #d4ebff;}#sk-container-id-24 input.sk-hidden--visually {border: 0;clip: rect(1px 1px 1px 1px);clip: rect(1px, 1px, 1px, 1px);height: 1px;margin: -1px;overflow: hidden;padding: 0;position: absolute;width: 1px;}#sk-container-id-24 div.sk-estimator {font-family: monospace;background-color: #f0f8ff;border: 1px dotted black;border-radius: 0.25em;box-sizing: border-box;margin-bottom: 0.5em;}#sk-container-id-24 div.sk-estimator:hover {background-color: #d4ebff;}#sk-container-id-24 div.sk-parallel-item::after {content: \"\";width: 100%;border-bottom: 1px solid gray;flex-grow: 1;}#sk-container-id-24 div.sk-label:hover label.sk-toggleable__label {background-color: #d4ebff;}#sk-container-id-24 div.sk-serial::before {content: \"\";position: absolute;border-left: 1px solid gray;box-sizing: border-box;top: 0;bottom: 0;left: 50%;z-index: 0;}#sk-container-id-24 div.sk-serial {display: flex;flex-direction: column;align-items: center;background-color: white;padding-right: 0.2em;padding-left: 0.2em;position: relative;}#sk-container-id-24 div.sk-item {position: relative;z-index: 1;}#sk-container-id-24 div.sk-parallel {display: flex;align-items: stretch;justify-content: center;background-color: white;position: relative;}#sk-container-id-24 div.sk-item::before, #sk-container-id-24 div.sk-parallel-item::before {content: \"\";position: absolute;border-left: 1px solid gray;box-sizing: border-box;top: 0;bottom: 0;left: 50%;z-index: -1;}#sk-container-id-24 div.sk-parallel-item {display: flex;flex-direction: column;z-index: 1;position: relative;background-color: white;}#sk-container-id-24 div.sk-parallel-item:first-child::after {align-self: flex-end;width: 50%;}#sk-container-id-24 div.sk-parallel-item:last-child::after {align-self: flex-start;width: 50%;}#sk-container-id-24 div.sk-parallel-item:only-child::after {width: 0;}#sk-container-id-24 div.sk-dashed-wrapped {border: 1px dashed gray;margin: 0 0.4em 0.5em 0.4em;box-sizing: border-box;padding-bottom: 0.4em;background-color: white;}#sk-container-id-24 div.sk-label label {font-family: monospace;font-weight: bold;display: inline-block;line-height: 1.2em;}#sk-container-id-24 div.sk-label-container {text-align: center;}#sk-container-id-24 div.sk-container {/* jupyter's `normalize.less` sets `[hidden] { display: none; }` but bootstrap.min.css set `[hidden] { display: none !important; }` so we also need the `!important` here to be able to override the default hidden behavior on the sphinx rendered scikit-learn.org. See: https://github.com/scikit-learn/scikit-learn/issues/21755 */display: inline-block !important;position: relative;}#sk-container-id-24 div.sk-text-repr-fallback {display: none;}</style><div id=\"sk-container-id-24\" class=\"sk-top-container\"><div class=\"sk-text-repr-fallback\"><pre>Pipeline(steps=[(&#x27;pipeline&#x27;,\n",
              "                 Pipeline(steps=[(&#x27;columntransformer&#x27;,\n",
              "                                  ColumnTransformer(transformers=[(&#x27;standardscaler&#x27;,\n",
              "                                                                   StandardScaler(),\n",
              "                                                                   &lt;sklearn.compose._column_transformer.make_column_selector object at 0x7fd2aeb02fe0&gt;),\n",
              "                                                                  (&#x27;onehotencoder&#x27;,\n",
              "                                                                   OneHotEncoder(handle_unknown=&#x27;ignore&#x27;,\n",
              "                                                                                 sparse=False),\n",
              "                                                                   &lt;sklearn.compose._column_transformer.make_column_selector object at 0x7fd2aeb02830&gt;)])),\n",
              "                                 (&#x27;pca&#x27;, PCA(n_components=0.97))])),\n",
              "                (&#x27;decisiontreeclassifier&#x27;, DecisionTreeClassifier())])</pre><b>In a Jupyter environment, please rerun this cell to show the HTML representation or trust the notebook. <br />On GitHub, the HTML representation is unable to render, please try loading this page with nbviewer.org.</b></div><div class=\"sk-container\" hidden><div class=\"sk-item sk-dashed-wrapped\"><div class=\"sk-label-container\"><div class=\"sk-label sk-toggleable\"><input class=\"sk-toggleable__control sk-hidden--visually\" id=\"sk-estimator-id-208\" type=\"checkbox\" ><label for=\"sk-estimator-id-208\" class=\"sk-toggleable__label sk-toggleable__label-arrow\">Pipeline</label><div class=\"sk-toggleable__content\"><pre>Pipeline(steps=[(&#x27;pipeline&#x27;,\n",
              "                 Pipeline(steps=[(&#x27;columntransformer&#x27;,\n",
              "                                  ColumnTransformer(transformers=[(&#x27;standardscaler&#x27;,\n",
              "                                                                   StandardScaler(),\n",
              "                                                                   &lt;sklearn.compose._column_transformer.make_column_selector object at 0x7fd2aeb02fe0&gt;),\n",
              "                                                                  (&#x27;onehotencoder&#x27;,\n",
              "                                                                   OneHotEncoder(handle_unknown=&#x27;ignore&#x27;,\n",
              "                                                                                 sparse=False),\n",
              "                                                                   &lt;sklearn.compose._column_transformer.make_column_selector object at 0x7fd2aeb02830&gt;)])),\n",
              "                                 (&#x27;pca&#x27;, PCA(n_components=0.97))])),\n",
              "                (&#x27;decisiontreeclassifier&#x27;, DecisionTreeClassifier())])</pre></div></div></div><div class=\"sk-serial\"><div class=\"sk-item\"><div class=\"sk-label-container\"><div class=\"sk-label sk-toggleable\"><input class=\"sk-toggleable__control sk-hidden--visually\" id=\"sk-estimator-id-209\" type=\"checkbox\" ><label for=\"sk-estimator-id-209\" class=\"sk-toggleable__label sk-toggleable__label-arrow\">pipeline: Pipeline</label><div class=\"sk-toggleable__content\"><pre>Pipeline(steps=[(&#x27;columntransformer&#x27;,\n",
              "                 ColumnTransformer(transformers=[(&#x27;standardscaler&#x27;,\n",
              "                                                  StandardScaler(),\n",
              "                                                  &lt;sklearn.compose._column_transformer.make_column_selector object at 0x7fd2aeb02fe0&gt;),\n",
              "                                                 (&#x27;onehotencoder&#x27;,\n",
              "                                                  OneHotEncoder(handle_unknown=&#x27;ignore&#x27;,\n",
              "                                                                sparse=False),\n",
              "                                                  &lt;sklearn.compose._column_transformer.make_column_selector object at 0x7fd2aeb02830&gt;)])),\n",
              "                (&#x27;pca&#x27;, PCA(n_components=0.97))])</pre></div></div></div><div class=\"sk-serial\"><div class=\"sk-item sk-dashed-wrapped\"><div class=\"sk-label-container\"><div class=\"sk-label sk-toggleable\"><input class=\"sk-toggleable__control sk-hidden--visually\" id=\"sk-estimator-id-210\" type=\"checkbox\" ><label for=\"sk-estimator-id-210\" class=\"sk-toggleable__label sk-toggleable__label-arrow\">columntransformer: ColumnTransformer</label><div class=\"sk-toggleable__content\"><pre>ColumnTransformer(transformers=[(&#x27;standardscaler&#x27;, StandardScaler(),\n",
              "                                 &lt;sklearn.compose._column_transformer.make_column_selector object at 0x7fd2aeb02fe0&gt;),\n",
              "                                (&#x27;onehotencoder&#x27;,\n",
              "                                 OneHotEncoder(handle_unknown=&#x27;ignore&#x27;,\n",
              "                                               sparse=False),\n",
              "                                 &lt;sklearn.compose._column_transformer.make_column_selector object at 0x7fd2aeb02830&gt;)])</pre></div></div></div><div class=\"sk-parallel\"><div class=\"sk-parallel-item\"><div class=\"sk-item\"><div class=\"sk-label-container\"><div class=\"sk-label sk-toggleable\"><input class=\"sk-toggleable__control sk-hidden--visually\" id=\"sk-estimator-id-211\" type=\"checkbox\" ><label for=\"sk-estimator-id-211\" class=\"sk-toggleable__label sk-toggleable__label-arrow\">standardscaler</label><div class=\"sk-toggleable__content\"><pre>&lt;sklearn.compose._column_transformer.make_column_selector object at 0x7fd2aeb02fe0&gt;</pre></div></div></div><div class=\"sk-serial\"><div class=\"sk-item\"><div class=\"sk-estimator sk-toggleable\"><input class=\"sk-toggleable__control sk-hidden--visually\" id=\"sk-estimator-id-212\" type=\"checkbox\" ><label for=\"sk-estimator-id-212\" class=\"sk-toggleable__label sk-toggleable__label-arrow\">StandardScaler</label><div class=\"sk-toggleable__content\"><pre>StandardScaler()</pre></div></div></div></div></div></div><div class=\"sk-parallel-item\"><div class=\"sk-item\"><div class=\"sk-label-container\"><div class=\"sk-label sk-toggleable\"><input class=\"sk-toggleable__control sk-hidden--visually\" id=\"sk-estimator-id-213\" type=\"checkbox\" ><label for=\"sk-estimator-id-213\" class=\"sk-toggleable__label sk-toggleable__label-arrow\">onehotencoder</label><div class=\"sk-toggleable__content\"><pre>&lt;sklearn.compose._column_transformer.make_column_selector object at 0x7fd2aeb02830&gt;</pre></div></div></div><div class=\"sk-serial\"><div class=\"sk-item\"><div class=\"sk-estimator sk-toggleable\"><input class=\"sk-toggleable__control sk-hidden--visually\" id=\"sk-estimator-id-214\" type=\"checkbox\" ><label for=\"sk-estimator-id-214\" class=\"sk-toggleable__label sk-toggleable__label-arrow\">OneHotEncoder</label><div class=\"sk-toggleable__content\"><pre>OneHotEncoder(handle_unknown=&#x27;ignore&#x27;, sparse=False)</pre></div></div></div></div></div></div></div></div><div class=\"sk-item\"><div class=\"sk-estimator sk-toggleable\"><input class=\"sk-toggleable__control sk-hidden--visually\" id=\"sk-estimator-id-215\" type=\"checkbox\" ><label for=\"sk-estimator-id-215\" class=\"sk-toggleable__label sk-toggleable__label-arrow\">PCA</label><div class=\"sk-toggleable__content\"><pre>PCA(n_components=0.97)</pre></div></div></div></div></div><div class=\"sk-item\"><div class=\"sk-estimator sk-toggleable\"><input class=\"sk-toggleable__control sk-hidden--visually\" id=\"sk-estimator-id-216\" type=\"checkbox\" ><label for=\"sk-estimator-id-216\" class=\"sk-toggleable__label sk-toggleable__label-arrow\">DecisionTreeClassifier</label><div class=\"sk-toggleable__content\"><pre>DecisionTreeClassifier()</pre></div></div></div></div></div></div></div>"
            ]
          },
          "metadata": {},
          "execution_count": 148
        }
      ]
    },
    {
      "cell_type": "markdown",
      "source": [
        "#### Tune Model"
      ],
      "metadata": {
        "id": "9WK9M2FlvdmR"
      }
    },
    {
      "cell_type": "code",
      "source": [
        "# Display the hyperparameters\n",
        "dec_tree_pipe.get_params()"
      ],
      "metadata": {
        "colab": {
          "base_uri": "https://localhost:8080/"
        },
        "id": "cWkv6ejzvkrt",
        "outputId": "72e32099-1ac2-4f9e-8b91-208ac851cee1"
      },
      "execution_count": 149,
      "outputs": [
        {
          "output_type": "execute_result",
          "data": {
            "text/plain": [
              "{'memory': None,\n",
              " 'steps': [('pipeline', Pipeline(steps=[('columntransformer',\n",
              "                    ColumnTransformer(transformers=[('standardscaler',\n",
              "                                                     StandardScaler(),\n",
              "                                                     <sklearn.compose._column_transformer.make_column_selector object at 0x7fd2aeb02fe0>),\n",
              "                                                    ('onehotencoder',\n",
              "                                                     OneHotEncoder(handle_unknown='ignore',\n",
              "                                                                   sparse=False),\n",
              "                                                     <sklearn.compose._column_transformer.make_column_selector object at 0x7fd2aeb02830>)])),\n",
              "                   ('pca', PCA(n_components=0.97))])),\n",
              "  ('decisiontreeclassifier', DecisionTreeClassifier())],\n",
              " 'verbose': False,\n",
              " 'pipeline': Pipeline(steps=[('columntransformer',\n",
              "                  ColumnTransformer(transformers=[('standardscaler',\n",
              "                                                   StandardScaler(),\n",
              "                                                   <sklearn.compose._column_transformer.make_column_selector object at 0x7fd2aeb02fe0>),\n",
              "                                                  ('onehotencoder',\n",
              "                                                   OneHotEncoder(handle_unknown='ignore',\n",
              "                                                                 sparse=False),\n",
              "                                                   <sklearn.compose._column_transformer.make_column_selector object at 0x7fd2aeb02830>)])),\n",
              "                 ('pca', PCA(n_components=0.97))]),\n",
              " 'decisiontreeclassifier': DecisionTreeClassifier(),\n",
              " 'pipeline__memory': None,\n",
              " 'pipeline__steps': [('columntransformer',\n",
              "   ColumnTransformer(transformers=[('standardscaler', StandardScaler(),\n",
              "                                    <sklearn.compose._column_transformer.make_column_selector object at 0x7fd2aeb02fe0>),\n",
              "                                   ('onehotencoder',\n",
              "                                    OneHotEncoder(handle_unknown='ignore',\n",
              "                                                  sparse=False),\n",
              "                                    <sklearn.compose._column_transformer.make_column_selector object at 0x7fd2aeb02830>)])),\n",
              "  ('pca', PCA(n_components=0.97))],\n",
              " 'pipeline__verbose': False,\n",
              " 'pipeline__columntransformer': ColumnTransformer(transformers=[('standardscaler', StandardScaler(),\n",
              "                                  <sklearn.compose._column_transformer.make_column_selector object at 0x7fd2aeb02fe0>),\n",
              "                                 ('onehotencoder',\n",
              "                                  OneHotEncoder(handle_unknown='ignore',\n",
              "                                                sparse=False),\n",
              "                                  <sklearn.compose._column_transformer.make_column_selector object at 0x7fd2aeb02830>)]),\n",
              " 'pipeline__pca': PCA(n_components=0.97),\n",
              " 'pipeline__columntransformer__n_jobs': None,\n",
              " 'pipeline__columntransformer__remainder': 'drop',\n",
              " 'pipeline__columntransformer__sparse_threshold': 0.3,\n",
              " 'pipeline__columntransformer__transformer_weights': None,\n",
              " 'pipeline__columntransformer__transformers': [('standardscaler',\n",
              "   StandardScaler(),\n",
              "   <sklearn.compose._column_transformer.make_column_selector at 0x7fd2aeb02fe0>),\n",
              "  ('onehotencoder',\n",
              "   OneHotEncoder(handle_unknown='ignore', sparse=False),\n",
              "   <sklearn.compose._column_transformer.make_column_selector at 0x7fd2aeb02830>)],\n",
              " 'pipeline__columntransformer__verbose': False,\n",
              " 'pipeline__columntransformer__verbose_feature_names_out': True,\n",
              " 'pipeline__columntransformer__standardscaler': StandardScaler(),\n",
              " 'pipeline__columntransformer__onehotencoder': OneHotEncoder(handle_unknown='ignore', sparse=False),\n",
              " 'pipeline__columntransformer__standardscaler__copy': True,\n",
              " 'pipeline__columntransformer__standardscaler__with_mean': True,\n",
              " 'pipeline__columntransformer__standardscaler__with_std': True,\n",
              " 'pipeline__columntransformer__onehotencoder__categories': 'auto',\n",
              " 'pipeline__columntransformer__onehotencoder__drop': None,\n",
              " 'pipeline__columntransformer__onehotencoder__dtype': numpy.float64,\n",
              " 'pipeline__columntransformer__onehotencoder__handle_unknown': 'ignore',\n",
              " 'pipeline__columntransformer__onehotencoder__max_categories': None,\n",
              " 'pipeline__columntransformer__onehotencoder__min_frequency': None,\n",
              " 'pipeline__columntransformer__onehotencoder__sparse': False,\n",
              " 'pipeline__columntransformer__onehotencoder__sparse_output': True,\n",
              " 'pipeline__pca__copy': True,\n",
              " 'pipeline__pca__iterated_power': 'auto',\n",
              " 'pipeline__pca__n_components': 0.97,\n",
              " 'pipeline__pca__n_oversamples': 10,\n",
              " 'pipeline__pca__power_iteration_normalizer': 'auto',\n",
              " 'pipeline__pca__random_state': None,\n",
              " 'pipeline__pca__svd_solver': 'auto',\n",
              " 'pipeline__pca__tol': 0.0,\n",
              " 'pipeline__pca__whiten': False,\n",
              " 'decisiontreeclassifier__ccp_alpha': 0.0,\n",
              " 'decisiontreeclassifier__class_weight': None,\n",
              " 'decisiontreeclassifier__criterion': 'gini',\n",
              " 'decisiontreeclassifier__max_depth': None,\n",
              " 'decisiontreeclassifier__max_features': None,\n",
              " 'decisiontreeclassifier__max_leaf_nodes': None,\n",
              " 'decisiontreeclassifier__min_impurity_decrease': 0.0,\n",
              " 'decisiontreeclassifier__min_samples_leaf': 1,\n",
              " 'decisiontreeclassifier__min_samples_split': 2,\n",
              " 'decisiontreeclassifier__min_weight_fraction_leaf': 0.0,\n",
              " 'decisiontreeclassifier__random_state': None,\n",
              " 'decisiontreeclassifier__splitter': 'best'}"
            ]
          },
          "metadata": {},
          "execution_count": 149
        }
      ]
    },
    {
      "cell_type": "code",
      "source": [
        "# Create a dictionary of parameters\n",
        "params_dec = {'decisiontreeclassifier__max_depth': [1,2,3],\n",
        "              'decisiontreeclassifier__min_samples_leaf': [1,15,20],\n",
        "              'decisiontreeclassifier__min_samples_split': [2, 10, 100]}"
      ],
      "metadata": {
        "id": "-NwjFVP8xMTs"
      },
      "execution_count": 150,
      "outputs": []
    },
    {
      "cell_type": "code",
      "source": [
        "# Tune hyperparameters with GridSearchCV\n",
        "dec_grid = GridSearchCV(dec_tree_pipe, params_dec)\n",
        "dec_grid.fit(X_train, y_train)"
      ],
      "metadata": {
        "colab": {
          "base_uri": "https://localhost:8080/",
          "height": 278
        },
        "id": "dumU1P_UxMOr",
        "outputId": "95493976-5aed-4956-d049-53971dbb6ffb"
      },
      "execution_count": 151,
      "outputs": [
        {
          "output_type": "execute_result",
          "data": {
            "text/plain": [
              "GridSearchCV(estimator=Pipeline(steps=[('pipeline',\n",
              "                                        Pipeline(steps=[('columntransformer',\n",
              "                                                         ColumnTransformer(transformers=[('standardscaler',\n",
              "                                                                                          StandardScaler(),\n",
              "                                                                                          <sklearn.compose._column_transformer.make_column_selector object at 0x7fd2aeb02fe0>),\n",
              "                                                                                         ('onehotencoder',\n",
              "                                                                                          OneHotEncoder(handle_unknown='ignore',\n",
              "                                                                                                        sparse=False),\n",
              "                                                                                          <sklearn.compose._column_transformer.make_column_selector object at 0x7fd2aeb02830>)])),\n",
              "                                                        ('pca',\n",
              "                                                         PCA(n_components=0.97))])),\n",
              "                                       ('decisiontreeclassifier',\n",
              "                                        DecisionTreeClassifier())]),\n",
              "             param_grid={'decisiontreeclassifier__max_depth': [1, 2, 3],\n",
              "                         'decisiontreeclassifier__min_samples_leaf': [1, 15,\n",
              "                                                                      20],\n",
              "                         'decisiontreeclassifier__min_samples_split': [2, 10,\n",
              "                                                                       100]})"
            ],
            "text/html": [
              "<style>#sk-container-id-25 {color: black;background-color: white;}#sk-container-id-25 pre{padding: 0;}#sk-container-id-25 div.sk-toggleable {background-color: white;}#sk-container-id-25 label.sk-toggleable__label {cursor: pointer;display: block;width: 100%;margin-bottom: 0;padding: 0.3em;box-sizing: border-box;text-align: center;}#sk-container-id-25 label.sk-toggleable__label-arrow:before {content: \"▸\";float: left;margin-right: 0.25em;color: #696969;}#sk-container-id-25 label.sk-toggleable__label-arrow:hover:before {color: black;}#sk-container-id-25 div.sk-estimator:hover label.sk-toggleable__label-arrow:before {color: black;}#sk-container-id-25 div.sk-toggleable__content {max-height: 0;max-width: 0;overflow: hidden;text-align: left;background-color: #f0f8ff;}#sk-container-id-25 div.sk-toggleable__content pre {margin: 0.2em;color: black;border-radius: 0.25em;background-color: #f0f8ff;}#sk-container-id-25 input.sk-toggleable__control:checked~div.sk-toggleable__content {max-height: 200px;max-width: 100%;overflow: auto;}#sk-container-id-25 input.sk-toggleable__control:checked~label.sk-toggleable__label-arrow:before {content: \"▾\";}#sk-container-id-25 div.sk-estimator input.sk-toggleable__control:checked~label.sk-toggleable__label {background-color: #d4ebff;}#sk-container-id-25 div.sk-label input.sk-toggleable__control:checked~label.sk-toggleable__label {background-color: #d4ebff;}#sk-container-id-25 input.sk-hidden--visually {border: 0;clip: rect(1px 1px 1px 1px);clip: rect(1px, 1px, 1px, 1px);height: 1px;margin: -1px;overflow: hidden;padding: 0;position: absolute;width: 1px;}#sk-container-id-25 div.sk-estimator {font-family: monospace;background-color: #f0f8ff;border: 1px dotted black;border-radius: 0.25em;box-sizing: border-box;margin-bottom: 0.5em;}#sk-container-id-25 div.sk-estimator:hover {background-color: #d4ebff;}#sk-container-id-25 div.sk-parallel-item::after {content: \"\";width: 100%;border-bottom: 1px solid gray;flex-grow: 1;}#sk-container-id-25 div.sk-label:hover label.sk-toggleable__label {background-color: #d4ebff;}#sk-container-id-25 div.sk-serial::before {content: \"\";position: absolute;border-left: 1px solid gray;box-sizing: border-box;top: 0;bottom: 0;left: 50%;z-index: 0;}#sk-container-id-25 div.sk-serial {display: flex;flex-direction: column;align-items: center;background-color: white;padding-right: 0.2em;padding-left: 0.2em;position: relative;}#sk-container-id-25 div.sk-item {position: relative;z-index: 1;}#sk-container-id-25 div.sk-parallel {display: flex;align-items: stretch;justify-content: center;background-color: white;position: relative;}#sk-container-id-25 div.sk-item::before, #sk-container-id-25 div.sk-parallel-item::before {content: \"\";position: absolute;border-left: 1px solid gray;box-sizing: border-box;top: 0;bottom: 0;left: 50%;z-index: -1;}#sk-container-id-25 div.sk-parallel-item {display: flex;flex-direction: column;z-index: 1;position: relative;background-color: white;}#sk-container-id-25 div.sk-parallel-item:first-child::after {align-self: flex-end;width: 50%;}#sk-container-id-25 div.sk-parallel-item:last-child::after {align-self: flex-start;width: 50%;}#sk-container-id-25 div.sk-parallel-item:only-child::after {width: 0;}#sk-container-id-25 div.sk-dashed-wrapped {border: 1px dashed gray;margin: 0 0.4em 0.5em 0.4em;box-sizing: border-box;padding-bottom: 0.4em;background-color: white;}#sk-container-id-25 div.sk-label label {font-family: monospace;font-weight: bold;display: inline-block;line-height: 1.2em;}#sk-container-id-25 div.sk-label-container {text-align: center;}#sk-container-id-25 div.sk-container {/* jupyter's `normalize.less` sets `[hidden] { display: none; }` but bootstrap.min.css set `[hidden] { display: none !important; }` so we also need the `!important` here to be able to override the default hidden behavior on the sphinx rendered scikit-learn.org. See: https://github.com/scikit-learn/scikit-learn/issues/21755 */display: inline-block !important;position: relative;}#sk-container-id-25 div.sk-text-repr-fallback {display: none;}</style><div id=\"sk-container-id-25\" class=\"sk-top-container\"><div class=\"sk-text-repr-fallback\"><pre>GridSearchCV(estimator=Pipeline(steps=[(&#x27;pipeline&#x27;,\n",
              "                                        Pipeline(steps=[(&#x27;columntransformer&#x27;,\n",
              "                                                         ColumnTransformer(transformers=[(&#x27;standardscaler&#x27;,\n",
              "                                                                                          StandardScaler(),\n",
              "                                                                                          &lt;sklearn.compose._column_transformer.make_column_selector object at 0x7fd2aeb02fe0&gt;),\n",
              "                                                                                         (&#x27;onehotencoder&#x27;,\n",
              "                                                                                          OneHotEncoder(handle_unknown=&#x27;ignore&#x27;,\n",
              "                                                                                                        sparse=False),\n",
              "                                                                                          &lt;sklearn.compose._column_transformer.make_column_selector object at 0x7fd2aeb02830&gt;)])),\n",
              "                                                        (&#x27;pca&#x27;,\n",
              "                                                         PCA(n_components=0.97))])),\n",
              "                                       (&#x27;decisiontreeclassifier&#x27;,\n",
              "                                        DecisionTreeClassifier())]),\n",
              "             param_grid={&#x27;decisiontreeclassifier__max_depth&#x27;: [1, 2, 3],\n",
              "                         &#x27;decisiontreeclassifier__min_samples_leaf&#x27;: [1, 15,\n",
              "                                                                      20],\n",
              "                         &#x27;decisiontreeclassifier__min_samples_split&#x27;: [2, 10,\n",
              "                                                                       100]})</pre><b>In a Jupyter environment, please rerun this cell to show the HTML representation or trust the notebook. <br />On GitHub, the HTML representation is unable to render, please try loading this page with nbviewer.org.</b></div><div class=\"sk-container\" hidden><div class=\"sk-item sk-dashed-wrapped\"><div class=\"sk-label-container\"><div class=\"sk-label sk-toggleable\"><input class=\"sk-toggleable__control sk-hidden--visually\" id=\"sk-estimator-id-217\" type=\"checkbox\" ><label for=\"sk-estimator-id-217\" class=\"sk-toggleable__label sk-toggleable__label-arrow\">GridSearchCV</label><div class=\"sk-toggleable__content\"><pre>GridSearchCV(estimator=Pipeline(steps=[(&#x27;pipeline&#x27;,\n",
              "                                        Pipeline(steps=[(&#x27;columntransformer&#x27;,\n",
              "                                                         ColumnTransformer(transformers=[(&#x27;standardscaler&#x27;,\n",
              "                                                                                          StandardScaler(),\n",
              "                                                                                          &lt;sklearn.compose._column_transformer.make_column_selector object at 0x7fd2aeb02fe0&gt;),\n",
              "                                                                                         (&#x27;onehotencoder&#x27;,\n",
              "                                                                                          OneHotEncoder(handle_unknown=&#x27;ignore&#x27;,\n",
              "                                                                                                        sparse=False),\n",
              "                                                                                          &lt;sklearn.compose._column_transformer.make_column_selector object at 0x7fd2aeb02830&gt;)])),\n",
              "                                                        (&#x27;pca&#x27;,\n",
              "                                                         PCA(n_components=0.97))])),\n",
              "                                       (&#x27;decisiontreeclassifier&#x27;,\n",
              "                                        DecisionTreeClassifier())]),\n",
              "             param_grid={&#x27;decisiontreeclassifier__max_depth&#x27;: [1, 2, 3],\n",
              "                         &#x27;decisiontreeclassifier__min_samples_leaf&#x27;: [1, 15,\n",
              "                                                                      20],\n",
              "                         &#x27;decisiontreeclassifier__min_samples_split&#x27;: [2, 10,\n",
              "                                                                       100]})</pre></div></div></div><div class=\"sk-parallel\"><div class=\"sk-parallel-item\"><div class=\"sk-item\"><div class=\"sk-label-container\"><div class=\"sk-label sk-toggleable\"><input class=\"sk-toggleable__control sk-hidden--visually\" id=\"sk-estimator-id-218\" type=\"checkbox\" ><label for=\"sk-estimator-id-218\" class=\"sk-toggleable__label sk-toggleable__label-arrow\">estimator: Pipeline</label><div class=\"sk-toggleable__content\"><pre>Pipeline(steps=[(&#x27;pipeline&#x27;,\n",
              "                 Pipeline(steps=[(&#x27;columntransformer&#x27;,\n",
              "                                  ColumnTransformer(transformers=[(&#x27;standardscaler&#x27;,\n",
              "                                                                   StandardScaler(),\n",
              "                                                                   &lt;sklearn.compose._column_transformer.make_column_selector object at 0x7fd2aeb02fe0&gt;),\n",
              "                                                                  (&#x27;onehotencoder&#x27;,\n",
              "                                                                   OneHotEncoder(handle_unknown=&#x27;ignore&#x27;,\n",
              "                                                                                 sparse=False),\n",
              "                                                                   &lt;sklearn.compose._column_transformer.make_column_selector object at 0x7fd2aeb02830&gt;)])),\n",
              "                                 (&#x27;pca&#x27;, PCA(n_components=0.97))])),\n",
              "                (&#x27;decisiontreeclassifier&#x27;, DecisionTreeClassifier())])</pre></div></div></div><div class=\"sk-serial\"><div class=\"sk-item\"><div class=\"sk-serial\"><div class=\"sk-item\"><div class=\"sk-label-container\"><div class=\"sk-label sk-toggleable\"><input class=\"sk-toggleable__control sk-hidden--visually\" id=\"sk-estimator-id-219\" type=\"checkbox\" ><label for=\"sk-estimator-id-219\" class=\"sk-toggleable__label sk-toggleable__label-arrow\">pipeline: Pipeline</label><div class=\"sk-toggleable__content\"><pre>Pipeline(steps=[(&#x27;columntransformer&#x27;,\n",
              "                 ColumnTransformer(transformers=[(&#x27;standardscaler&#x27;,\n",
              "                                                  StandardScaler(),\n",
              "                                                  &lt;sklearn.compose._column_transformer.make_column_selector object at 0x7fd2aeb02fe0&gt;),\n",
              "                                                 (&#x27;onehotencoder&#x27;,\n",
              "                                                  OneHotEncoder(handle_unknown=&#x27;ignore&#x27;,\n",
              "                                                                sparse=False),\n",
              "                                                  &lt;sklearn.compose._column_transformer.make_column_selector object at 0x7fd2aeb02830&gt;)])),\n",
              "                (&#x27;pca&#x27;, PCA(n_components=0.97))])</pre></div></div></div><div class=\"sk-serial\"><div class=\"sk-item sk-dashed-wrapped\"><div class=\"sk-label-container\"><div class=\"sk-label sk-toggleable\"><input class=\"sk-toggleable__control sk-hidden--visually\" id=\"sk-estimator-id-220\" type=\"checkbox\" ><label for=\"sk-estimator-id-220\" class=\"sk-toggleable__label sk-toggleable__label-arrow\">columntransformer: ColumnTransformer</label><div class=\"sk-toggleable__content\"><pre>ColumnTransformer(transformers=[(&#x27;standardscaler&#x27;, StandardScaler(),\n",
              "                                 &lt;sklearn.compose._column_transformer.make_column_selector object at 0x7fd2aeb02fe0&gt;),\n",
              "                                (&#x27;onehotencoder&#x27;,\n",
              "                                 OneHotEncoder(handle_unknown=&#x27;ignore&#x27;,\n",
              "                                               sparse=False),\n",
              "                                 &lt;sklearn.compose._column_transformer.make_column_selector object at 0x7fd2aeb02830&gt;)])</pre></div></div></div><div class=\"sk-parallel\"><div class=\"sk-parallel-item\"><div class=\"sk-item\"><div class=\"sk-label-container\"><div class=\"sk-label sk-toggleable\"><input class=\"sk-toggleable__control sk-hidden--visually\" id=\"sk-estimator-id-221\" type=\"checkbox\" ><label for=\"sk-estimator-id-221\" class=\"sk-toggleable__label sk-toggleable__label-arrow\">standardscaler</label><div class=\"sk-toggleable__content\"><pre>&lt;sklearn.compose._column_transformer.make_column_selector object at 0x7fd2aeb02fe0&gt;</pre></div></div></div><div class=\"sk-serial\"><div class=\"sk-item\"><div class=\"sk-estimator sk-toggleable\"><input class=\"sk-toggleable__control sk-hidden--visually\" id=\"sk-estimator-id-222\" type=\"checkbox\" ><label for=\"sk-estimator-id-222\" class=\"sk-toggleable__label sk-toggleable__label-arrow\">StandardScaler</label><div class=\"sk-toggleable__content\"><pre>StandardScaler()</pre></div></div></div></div></div></div><div class=\"sk-parallel-item\"><div class=\"sk-item\"><div class=\"sk-label-container\"><div class=\"sk-label sk-toggleable\"><input class=\"sk-toggleable__control sk-hidden--visually\" id=\"sk-estimator-id-223\" type=\"checkbox\" ><label for=\"sk-estimator-id-223\" class=\"sk-toggleable__label sk-toggleable__label-arrow\">onehotencoder</label><div class=\"sk-toggleable__content\"><pre>&lt;sklearn.compose._column_transformer.make_column_selector object at 0x7fd2aeb02830&gt;</pre></div></div></div><div class=\"sk-serial\"><div class=\"sk-item\"><div class=\"sk-estimator sk-toggleable\"><input class=\"sk-toggleable__control sk-hidden--visually\" id=\"sk-estimator-id-224\" type=\"checkbox\" ><label for=\"sk-estimator-id-224\" class=\"sk-toggleable__label sk-toggleable__label-arrow\">OneHotEncoder</label><div class=\"sk-toggleable__content\"><pre>OneHotEncoder(handle_unknown=&#x27;ignore&#x27;, sparse=False)</pre></div></div></div></div></div></div></div></div><div class=\"sk-item\"><div class=\"sk-estimator sk-toggleable\"><input class=\"sk-toggleable__control sk-hidden--visually\" id=\"sk-estimator-id-225\" type=\"checkbox\" ><label for=\"sk-estimator-id-225\" class=\"sk-toggleable__label sk-toggleable__label-arrow\">PCA</label><div class=\"sk-toggleable__content\"><pre>PCA(n_components=0.97)</pre></div></div></div></div></div><div class=\"sk-item\"><div class=\"sk-estimator sk-toggleable\"><input class=\"sk-toggleable__control sk-hidden--visually\" id=\"sk-estimator-id-226\" type=\"checkbox\" ><label for=\"sk-estimator-id-226\" class=\"sk-toggleable__label sk-toggleable__label-arrow\">DecisionTreeClassifier</label><div class=\"sk-toggleable__content\"><pre>DecisionTreeClassifier()</pre></div></div></div></div></div></div></div></div></div></div></div></div>"
            ]
          },
          "metadata": {},
          "execution_count": 151
        }
      ]
    },
    {
      "cell_type": "code",
      "source": [
        "# Find the best parameters for Decision Tree\n",
        "dec_grid.best_params_"
      ],
      "metadata": {
        "colab": {
          "base_uri": "https://localhost:8080/"
        },
        "id": "GCIBK8lmxML8",
        "outputId": "62a0cadb-2209-44e9-c022-fe71bf3c42a2"
      },
      "execution_count": 152,
      "outputs": [
        {
          "output_type": "execute_result",
          "data": {
            "text/plain": [
              "{'decisiontreeclassifier__max_depth': 3,\n",
              " 'decisiontreeclassifier__min_samples_leaf': 1,\n",
              " 'decisiontreeclassifier__min_samples_split': 2}"
            ]
          },
          "metadata": {},
          "execution_count": 152
        }
      ]
    },
    {
      "cell_type": "code",
      "source": [
        "# Print score for best parameters\n",
        "dec_grid.best_score_"
      ],
      "metadata": {
        "colab": {
          "base_uri": "https://localhost:8080/"
        },
        "id": "AP8Wncx252Y3",
        "outputId": "0d763eb7-11df-48c3-8f0a-13a98e82651a"
      },
      "execution_count": 153,
      "outputs": [
        {
          "output_type": "execute_result",
          "data": {
            "text/plain": [
              "0.5784434203789043"
            ]
          },
          "metadata": {},
          "execution_count": 153
        }
      ]
    },
    {
      "cell_type": "code",
      "source": [
        "# Save best estimators to model\n",
        "best_dec = dec_grid.best_estimator_"
      ],
      "metadata": {
        "id": "rWV8nmpK6zQQ"
      },
      "execution_count": 154,
      "outputs": []
    },
    {
      "cell_type": "code",
      "source": [
        "# Instantiate and fit GridSearchCV\n",
        "dec_train_pred = best_dec.predict(X_train)\n",
        "dec_test_pred = best_dec.predict(X_test)"
      ],
      "metadata": {
        "id": "o74JJd4G6HwZ"
      },
      "execution_count": 155,
      "outputs": []
    },
    {
      "cell_type": "markdown",
      "source": [
        "### Model Evaluation:"
      ],
      "metadata": {
        "id": "5XjmLbNh_Dif"
      }
    },
    {
      "cell_type": "code",
      "source": [
        "# Print Classification Report\n",
        "print('Train\\n', classification_report(y_train, dec_train_pred))\n",
        "print('Test\\n', classification_report(y_test, dec_test_pred))"
      ],
      "metadata": {
        "colab": {
          "base_uri": "https://localhost:8080/"
        },
        "id": "mqVPjrgN7Zdo",
        "outputId": "2286f60e-bc49-476f-9a5f-a99b264356d3"
      },
      "execution_count": 156,
      "outputs": [
        {
          "output_type": "stream",
          "name": "stdout",
          "text": [
            "Train\n",
            "                  precision    recall  f1-score   support\n",
            "\n",
            "D-penicillamine       0.54      0.95      0.69       127\n",
            "Non_Participant       0.94      0.89      0.91        70\n",
            "        Placebo       0.87      0.17      0.29       116\n",
            "\n",
            "       accuracy                           0.65       313\n",
            "      macro avg       0.78      0.67      0.63       313\n",
            "   weighted avg       0.75      0.65      0.59       313\n",
            "\n",
            "Test\n",
            "                  precision    recall  f1-score   support\n",
            "\n",
            "D-penicillamine       0.40      0.87      0.55        31\n",
            "Non_Participant       1.00      0.81      0.89        36\n",
            "        Placebo       0.44      0.11      0.17        38\n",
            "\n",
            "       accuracy                           0.57       105\n",
            "      macro avg       0.62      0.59      0.54       105\n",
            "   weighted avg       0.62      0.57      0.53       105\n",
            "\n"
          ]
        }
      ]
    },
    {
      "cell_type": "code",
      "source": [
        "# Display the test and training Confusion Matrix\n",
        "fig, axes = plt.subplots(ncols=2, figsize=(17,6))\n",
        "\n",
        "ConfusionMatrixDisplay.from_predictions(y_train, train_preds,\n",
        "                                        ax=axes[0], cmap='Blues',normalize='true')\n",
        "\n",
        "axes[0].set_title('Decision Tree Train CM')\n",
        "ConfusionMatrixDisplay.from_predictions(y_test, test_preds,\n",
        "                                        ax=axes[1], cmap='flare',normalize='true')\n",
        "\n",
        "axes[1].set_title('Decision Tree Test CM');\n"
      ],
      "metadata": {
        "colab": {
          "base_uri": "https://localhost:8080/",
          "height": 564
        },
        "outputId": "0e1d2847-8697-4f99-8e86-5f929d254c67",
        "id": "6lK_f1e08pbO"
      },
      "execution_count": 157,
      "outputs": [
        {
          "output_type": "display_data",
          "data": {
            "text/plain": [
              "<Figure size 1700x600 with 4 Axes>"
            ],
            "image/png": "[encoded data removed]"
          },
          "metadata": {}
        }
      ]
    },
    {
      "cell_type": "markdown",
      "source": [
        "### Logistic Regression Model"
      ],
      "metadata": {
        "id": "Wmnnq58f_JW_"
      }
    },
    {
      "cell_type": "code",
      "source": [
        "# Create an instance ofthe model\n",
        "log_reg = LogisticRegression()\n",
        "# Create a model pipeline\n",
        "log_reg_pipe = make_pipeline(transformer, log_reg)\n",
        "# Fit the Model\n",
        "log_reg_pipe.fit(X_train, y_train)"
      ],
      "metadata": {
        "colab": {
          "base_uri": "https://localhost:8080/",
          "height": 252
        },
        "id": "8eO2jy0S_XtV",
        "outputId": "31d894e4-784a-4fdc-c801-464756f48206"
      },
      "execution_count": 158,
      "outputs": [
        {
          "output_type": "execute_result",
          "data": {
            "text/plain": [
              "Pipeline(steps=[('pipeline',\n",
              "                 Pipeline(steps=[('columntransformer',\n",
              "                                  ColumnTransformer(transformers=[('standardscaler',\n",
              "                                                                   StandardScaler(),\n",
              "                                                                   <sklearn.compose._column_transformer.make_column_selector object at 0x7fd2aeb02fe0>),\n",
              "                                                                  ('onehotencoder',\n",
              "                                                                   OneHotEncoder(handle_unknown='ignore',\n",
              "                                                                                 sparse=False),\n",
              "                                                                   <sklearn.compose._column_transformer.make_column_selector object at 0x7fd2aeb02830>)])),\n",
              "                                 ('pca', PCA(n_components=0.97))])),\n",
              "                ('logisticregression', LogisticRegression())])"
            ],
            "text/html": [
              "<style>#sk-container-id-26 {color: black;background-color: white;}#sk-container-id-26 pre{padding: 0;}#sk-container-id-26 div.sk-toggleable {background-color: white;}#sk-container-id-26 label.sk-toggleable__label {cursor: pointer;display: block;width: 100%;margin-bottom: 0;padding: 0.3em;box-sizing: border-box;text-align: center;}#sk-container-id-26 label.sk-toggleable__label-arrow:before {content: \"▸\";float: left;margin-right: 0.25em;color: #696969;}#sk-container-id-26 label.sk-toggleable__label-arrow:hover:before {color: black;}#sk-container-id-26 div.sk-estimator:hover label.sk-toggleable__label-arrow:before {color: black;}#sk-container-id-26 div.sk-toggleable__content {max-height: 0;max-width: 0;overflow: hidden;text-align: left;background-color: #f0f8ff;}#sk-container-id-26 div.sk-toggleable__content pre {margin: 0.2em;color: black;border-radius: 0.25em;background-color: #f0f8ff;}#sk-container-id-26 input.sk-toggleable__control:checked~div.sk-toggleable__content {max-height: 200px;max-width: 100%;overflow: auto;}#sk-container-id-26 input.sk-toggleable__control:checked~label.sk-toggleable__label-arrow:before {content: \"▾\";}#sk-container-id-26 div.sk-estimator input.sk-toggleable__control:checked~label.sk-toggleable__label {background-color: #d4ebff;}#sk-container-id-26 div.sk-label input.sk-toggleable__control:checked~label.sk-toggleable__label {background-color: #d4ebff;}#sk-container-id-26 input.sk-hidden--visually {border: 0;clip: rect(1px 1px 1px 1px);clip: rect(1px, 1px, 1px, 1px);height: 1px;margin: -1px;overflow: hidden;padding: 0;position: absolute;width: 1px;}#sk-container-id-26 div.sk-estimator {font-family: monospace;background-color: #f0f8ff;border: 1px dotted black;border-radius: 0.25em;box-sizing: border-box;margin-bottom: 0.5em;}#sk-container-id-26 div.sk-estimator:hover {background-color: #d4ebff;}#sk-container-id-26 div.sk-parallel-item::after {content: \"\";width: 100%;border-bottom: 1px solid gray;flex-grow: 1;}#sk-container-id-26 div.sk-label:hover label.sk-toggleable__label {background-color: #d4ebff;}#sk-container-id-26 div.sk-serial::before {content: \"\";position: absolute;border-left: 1px solid gray;box-sizing: border-box;top: 0;bottom: 0;left: 50%;z-index: 0;}#sk-container-id-26 div.sk-serial {display: flex;flex-direction: column;align-items: center;background-color: white;padding-right: 0.2em;padding-left: 0.2em;position: relative;}#sk-container-id-26 div.sk-item {position: relative;z-index: 1;}#sk-container-id-26 div.sk-parallel {display: flex;align-items: stretch;justify-content: center;background-color: white;position: relative;}#sk-container-id-26 div.sk-item::before, #sk-container-id-26 div.sk-parallel-item::before {content: \"\";position: absolute;border-left: 1px solid gray;box-sizing: border-box;top: 0;bottom: 0;left: 50%;z-index: -1;}#sk-container-id-26 div.sk-parallel-item {display: flex;flex-direction: column;z-index: 1;position: relative;background-color: white;}#sk-container-id-26 div.sk-parallel-item:first-child::after {align-self: flex-end;width: 50%;}#sk-container-id-26 div.sk-parallel-item:last-child::after {align-self: flex-start;width: 50%;}#sk-container-id-26 div.sk-parallel-item:only-child::after {width: 0;}#sk-container-id-26 div.sk-dashed-wrapped {border: 1px dashed gray;margin: 0 0.4em 0.5em 0.4em;box-sizing: border-box;padding-bottom: 0.4em;background-color: white;}#sk-container-id-26 div.sk-label label {font-family: monospace;font-weight: bold;display: inline-block;line-height: 1.2em;}#sk-container-id-26 div.sk-label-container {text-align: center;}#sk-container-id-26 div.sk-container {/* jupyter's `normalize.less` sets `[hidden] { display: none; }` but bootstrap.min.css set `[hidden] { display: none !important; }` so we also need the `!important` here to be able to override the default hidden behavior on the sphinx rendered scikit-learn.org. See: https://github.com/scikit-learn/scikit-learn/issues/21755 */display: inline-block !important;position: relative;}#sk-container-id-26 div.sk-text-repr-fallback {display: none;}</style><div id=\"sk-container-id-26\" class=\"sk-top-container\"><div class=\"sk-text-repr-fallback\"><pre>Pipeline(steps=[(&#x27;pipeline&#x27;,\n",
              "                 Pipeline(steps=[(&#x27;columntransformer&#x27;,\n",
              "                                  ColumnTransformer(transformers=[(&#x27;standardscaler&#x27;,\n",
              "                                                                   StandardScaler(),\n",
              "                                                                   &lt;sklearn.compose._column_transformer.make_column_selector object at 0x7fd2aeb02fe0&gt;),\n",
              "                                                                  (&#x27;onehotencoder&#x27;,\n",
              "                                                                   OneHotEncoder(handle_unknown=&#x27;ignore&#x27;,\n",
              "                                                                                 sparse=False),\n",
              "                                                                   &lt;sklearn.compose._column_transformer.make_column_selector object at 0x7fd2aeb02830&gt;)])),\n",
              "                                 (&#x27;pca&#x27;, PCA(n_components=0.97))])),\n",
              "                (&#x27;logisticregression&#x27;, LogisticRegression())])</pre><b>In a Jupyter environment, please rerun this cell to show the HTML representation or trust the notebook. <br />On GitHub, the HTML representation is unable to render, please try loading this page with nbviewer.org.</b></div><div class=\"sk-container\" hidden><div class=\"sk-item sk-dashed-wrapped\"><div class=\"sk-label-container\"><div class=\"sk-label sk-toggleable\"><input class=\"sk-toggleable__control sk-hidden--visually\" id=\"sk-estimator-id-227\" type=\"checkbox\" ><label for=\"sk-estimator-id-227\" class=\"sk-toggleable__label sk-toggleable__label-arrow\">Pipeline</label><div class=\"sk-toggleable__content\"><pre>Pipeline(steps=[(&#x27;pipeline&#x27;,\n",
              "                 Pipeline(steps=[(&#x27;columntransformer&#x27;,\n",
              "                                  ColumnTransformer(transformers=[(&#x27;standardscaler&#x27;,\n",
              "                                                                   StandardScaler(),\n",
              "                                                                   &lt;sklearn.compose._column_transformer.make_column_selector object at 0x7fd2aeb02fe0&gt;),\n",
              "                                                                  (&#x27;onehotencoder&#x27;,\n",
              "                                                                   OneHotEncoder(handle_unknown=&#x27;ignore&#x27;,\n",
              "                                                                                 sparse=False),\n",
              "                                                                   &lt;sklearn.compose._column_transformer.make_column_selector object at 0x7fd2aeb02830&gt;)])),\n",
              "                                 (&#x27;pca&#x27;, PCA(n_components=0.97))])),\n",
              "                (&#x27;logisticregression&#x27;, LogisticRegression())])</pre></div></div></div><div class=\"sk-serial\"><div class=\"sk-item\"><div class=\"sk-label-container\"><div class=\"sk-label sk-toggleable\"><input class=\"sk-toggleable__control sk-hidden--visually\" id=\"sk-estimator-id-228\" type=\"checkbox\" ><label for=\"sk-estimator-id-228\" class=\"sk-toggleable__label sk-toggleable__label-arrow\">pipeline: Pipeline</label><div class=\"sk-toggleable__content\"><pre>Pipeline(steps=[(&#x27;columntransformer&#x27;,\n",
              "                 ColumnTransformer(transformers=[(&#x27;standardscaler&#x27;,\n",
              "                                                  StandardScaler(),\n",
              "                                                  &lt;sklearn.compose._column_transformer.make_column_selector object at 0x7fd2aeb02fe0&gt;),\n",
              "                                                 (&#x27;onehotencoder&#x27;,\n",
              "                                                  OneHotEncoder(handle_unknown=&#x27;ignore&#x27;,\n",
              "                                                                sparse=False),\n",
              "                                                  &lt;sklearn.compose._column_transformer.make_column_selector object at 0x7fd2aeb02830&gt;)])),\n",
              "                (&#x27;pca&#x27;, PCA(n_components=0.97))])</pre></div></div></div><div class=\"sk-serial\"><div class=\"sk-item sk-dashed-wrapped\"><div class=\"sk-label-container\"><div class=\"sk-label sk-toggleable\"><input class=\"sk-toggleable__control sk-hidden--visually\" id=\"sk-estimator-id-229\" type=\"checkbox\" ><label for=\"sk-estimator-id-229\" class=\"sk-toggleable__label sk-toggleable__label-arrow\">columntransformer: ColumnTransformer</label><div class=\"sk-toggleable__content\"><pre>ColumnTransformer(transformers=[(&#x27;standardscaler&#x27;, StandardScaler(),\n",
              "                                 &lt;sklearn.compose._column_transformer.make_column_selector object at 0x7fd2aeb02fe0&gt;),\n",
              "                                (&#x27;onehotencoder&#x27;,\n",
              "                                 OneHotEncoder(handle_unknown=&#x27;ignore&#x27;,\n",
              "                                               sparse=False),\n",
              "                                 &lt;sklearn.compose._column_transformer.make_column_selector object at 0x7fd2aeb02830&gt;)])</pre></div></div></div><div class=\"sk-parallel\"><div class=\"sk-parallel-item\"><div class=\"sk-item\"><div class=\"sk-label-container\"><div class=\"sk-label sk-toggleable\"><input class=\"sk-toggleable__control sk-hidden--visually\" id=\"sk-estimator-id-230\" type=\"checkbox\" ><label for=\"sk-estimator-id-230\" class=\"sk-toggleable__label sk-toggleable__label-arrow\">standardscaler</label><div class=\"sk-toggleable__content\"><pre>&lt;sklearn.compose._column_transformer.make_column_selector object at 0x7fd2aeb02fe0&gt;</pre></div></div></div><div class=\"sk-serial\"><div class=\"sk-item\"><div class=\"sk-estimator sk-toggleable\"><input class=\"sk-toggleable__control sk-hidden--visually\" id=\"sk-estimator-id-231\" type=\"checkbox\" ><label for=\"sk-estimator-id-231\" class=\"sk-toggleable__label sk-toggleable__label-arrow\">StandardScaler</label><div class=\"sk-toggleable__content\"><pre>StandardScaler()</pre></div></div></div></div></div></div><div class=\"sk-parallel-item\"><div class=\"sk-item\"><div class=\"sk-label-container\"><div class=\"sk-label sk-toggleable\"><input class=\"sk-toggleable__control sk-hidden--visually\" id=\"sk-estimator-id-232\" type=\"checkbox\" ><label for=\"sk-estimator-id-232\" class=\"sk-toggleable__label sk-toggleable__label-arrow\">onehotencoder</label><div class=\"sk-toggleable__content\"><pre>&lt;sklearn.compose._column_transformer.make_column_selector object at 0x7fd2aeb02830&gt;</pre></div></div></div><div class=\"sk-serial\"><div class=\"sk-item\"><div class=\"sk-estimator sk-toggleable\"><input class=\"sk-toggleable__control sk-hidden--visually\" id=\"sk-estimator-id-233\" type=\"checkbox\" ><label for=\"sk-estimator-id-233\" class=\"sk-toggleable__label sk-toggleable__label-arrow\">OneHotEncoder</label><div class=\"sk-toggleable__content\"><pre>OneHotEncoder(handle_unknown=&#x27;ignore&#x27;, sparse=False)</pre></div></div></div></div></div></div></div></div><div class=\"sk-item\"><div class=\"sk-estimator sk-toggleable\"><input class=\"sk-toggleable__control sk-hidden--visually\" id=\"sk-estimator-id-234\" type=\"checkbox\" ><label for=\"sk-estimator-id-234\" class=\"sk-toggleable__label sk-toggleable__label-arrow\">PCA</label><div class=\"sk-toggleable__content\"><pre>PCA(n_components=0.97)</pre></div></div></div></div></div><div class=\"sk-item\"><div class=\"sk-estimator sk-toggleable\"><input class=\"sk-toggleable__control sk-hidden--visually\" id=\"sk-estimator-id-235\" type=\"checkbox\" ><label for=\"sk-estimator-id-235\" class=\"sk-toggleable__label sk-toggleable__label-arrow\">LogisticRegression</label><div class=\"sk-toggleable__content\"><pre>LogisticRegression()</pre></div></div></div></div></div></div></div>"
            ]
          },
          "metadata": {},
          "execution_count": 158
        }
      ]
    },
    {
      "cell_type": "code",
      "source": [
        "# Use functions to display the hyperparameters\n",
        "log_reg_pipe.get_params()"
      ],
      "metadata": {
        "colab": {
          "base_uri": "https://localhost:8080/"
        },
        "id": "C7sNqF0u_YKX",
        "outputId": "eea7cc3a-ff29-4e41-b90d-89b0e3b0c5a3"
      },
      "execution_count": 159,
      "outputs": [
        {
          "output_type": "execute_result",
          "data": {
            "text/plain": [
              "{'memory': None,\n",
              " 'steps': [('pipeline', Pipeline(steps=[('columntransformer',\n",
              "                    ColumnTransformer(transformers=[('standardscaler',\n",
              "                                                     StandardScaler(),\n",
              "                                                     <sklearn.compose._column_transformer.make_column_selector object at 0x7fd2aeb02fe0>),\n",
              "                                                    ('onehotencoder',\n",
              "                                                     OneHotEncoder(handle_unknown='ignore',\n",
              "                                                                   sparse=False),\n",
              "                                                     <sklearn.compose._column_transformer.make_column_selector object at 0x7fd2aeb02830>)])),\n",
              "                   ('pca', PCA(n_components=0.97))])),\n",
              "  ('logisticregression', LogisticRegression())],\n",
              " 'verbose': False,\n",
              " 'pipeline': Pipeline(steps=[('columntransformer',\n",
              "                  ColumnTransformer(transformers=[('standardscaler',\n",
              "                                                   StandardScaler(),\n",
              "                                                   <sklearn.compose._column_transformer.make_column_selector object at 0x7fd2aeb02fe0>),\n",
              "                                                  ('onehotencoder',\n",
              "                                                   OneHotEncoder(handle_unknown='ignore',\n",
              "                                                                 sparse=False),\n",
              "                                                   <sklearn.compose._column_transformer.make_column_selector object at 0x7fd2aeb02830>)])),\n",
              "                 ('pca', PCA(n_components=0.97))]),\n",
              " 'logisticregression': LogisticRegression(),\n",
              " 'pipeline__memory': None,\n",
              " 'pipeline__steps': [('columntransformer',\n",
              "   ColumnTransformer(transformers=[('standardscaler', StandardScaler(),\n",
              "                                    <sklearn.compose._column_transformer.make_column_selector object at 0x7fd2aeb02fe0>),\n",
              "                                   ('onehotencoder',\n",
              "                                    OneHotEncoder(handle_unknown='ignore',\n",
              "                                                  sparse=False),\n",
              "                                    <sklearn.compose._column_transformer.make_column_selector object at 0x7fd2aeb02830>)])),\n",
              "  ('pca', PCA(n_components=0.97))],\n",
              " 'pipeline__verbose': False,\n",
              " 'pipeline__columntransformer': ColumnTransformer(transformers=[('standardscaler', StandardScaler(),\n",
              "                                  <sklearn.compose._column_transformer.make_column_selector object at 0x7fd2aeb02fe0>),\n",
              "                                 ('onehotencoder',\n",
              "                                  OneHotEncoder(handle_unknown='ignore',\n",
              "                                                sparse=False),\n",
              "                                  <sklearn.compose._column_transformer.make_column_selector object at 0x7fd2aeb02830>)]),\n",
              " 'pipeline__pca': PCA(n_components=0.97),\n",
              " 'pipeline__columntransformer__n_jobs': None,\n",
              " 'pipeline__columntransformer__remainder': 'drop',\n",
              " 'pipeline__columntransformer__sparse_threshold': 0.3,\n",
              " 'pipeline__columntransformer__transformer_weights': None,\n",
              " 'pipeline__columntransformer__transformers': [('standardscaler',\n",
              "   StandardScaler(),\n",
              "   <sklearn.compose._column_transformer.make_column_selector at 0x7fd2aeb02fe0>),\n",
              "  ('onehotencoder',\n",
              "   OneHotEncoder(handle_unknown='ignore', sparse=False),\n",
              "   <sklearn.compose._column_transformer.make_column_selector at 0x7fd2aeb02830>)],\n",
              " 'pipeline__columntransformer__verbose': False,\n",
              " 'pipeline__columntransformer__verbose_feature_names_out': True,\n",
              " 'pipeline__columntransformer__standardscaler': StandardScaler(),\n",
              " 'pipeline__columntransformer__onehotencoder': OneHotEncoder(handle_unknown='ignore', sparse=False),\n",
              " 'pipeline__columntransformer__standardscaler__copy': True,\n",
              " 'pipeline__columntransformer__standardscaler__with_mean': True,\n",
              " 'pipeline__columntransformer__standardscaler__with_std': True,\n",
              " 'pipeline__columntransformer__onehotencoder__categories': 'auto',\n",
              " 'pipeline__columntransformer__onehotencoder__drop': None,\n",
              " 'pipeline__columntransformer__onehotencoder__dtype': numpy.float64,\n",
              " 'pipeline__columntransformer__onehotencoder__handle_unknown': 'ignore',\n",
              " 'pipeline__columntransformer__onehotencoder__max_categories': None,\n",
              " 'pipeline__columntransformer__onehotencoder__min_frequency': None,\n",
              " 'pipeline__columntransformer__onehotencoder__sparse': False,\n",
              " 'pipeline__columntransformer__onehotencoder__sparse_output': True,\n",
              " 'pipeline__pca__copy': True,\n",
              " 'pipeline__pca__iterated_power': 'auto',\n",
              " 'pipeline__pca__n_components': 0.97,\n",
              " 'pipeline__pca__n_oversamples': 10,\n",
              " 'pipeline__pca__power_iteration_normalizer': 'auto',\n",
              " 'pipeline__pca__random_state': None,\n",
              " 'pipeline__pca__svd_solver': 'auto',\n",
              " 'pipeline__pca__tol': 0.0,\n",
              " 'pipeline__pca__whiten': False,\n",
              " 'logisticregression__C': 1.0,\n",
              " 'logisticregression__class_weight': None,\n",
              " 'logisticregression__dual': False,\n",
              " 'logisticregression__fit_intercept': True,\n",
              " 'logisticregression__intercept_scaling': 1,\n",
              " 'logisticregression__l1_ratio': None,\n",
              " 'logisticregression__max_iter': 100,\n",
              " 'logisticregression__multi_class': 'auto',\n",
              " 'logisticregression__n_jobs': None,\n",
              " 'logisticregression__penalty': 'l2',\n",
              " 'logisticregression__random_state': None,\n",
              " 'logisticregression__solver': 'lbfgs',\n",
              " 'logisticregression__tol': 0.0001,\n",
              " 'logisticregression__verbose': 0,\n",
              " 'logisticregression__warm_start': False}"
            ]
          },
          "metadata": {},
          "execution_count": 159
        }
      ]
    },
    {
      "cell_type": "code",
      "source": [
        "# Find the best parameters\n",
        "params_log = {'logisticregression__penalty': ['l1','l2'],\n",
        "              'logisticregression__C': (-3,3,7),\n",
        "              'logisticregression__solver': ['newton-cg', 'lbfgs', 'liblinear']}"
      ],
      "metadata": {
        "id": "P54uO1Tm_YHG"
      },
      "execution_count": 160,
      "outputs": []
    },
    {
      "cell_type": "code",
      "source": [
        "# Tune hyperparameters with GridSearchCV\n",
        "log_grid = GridSearchCV(log_reg_pipe, params_log)\n",
        "log_grid.fit(X_train, y_train)"
      ],
      "metadata": {
        "colab": {
          "base_uri": "https://localhost:8080/",
          "height": 278
        },
        "id": "f53_2nX0M4rO",
        "outputId": "ea54d5fa-b3c9-4dba-98da-c0f6211b1a6a"
      },
      "execution_count": 161,
      "outputs": [
        {
          "output_type": "execute_result",
          "data": {
            "text/plain": [
              "GridSearchCV(estimator=Pipeline(steps=[('pipeline',\n",
              "                                        Pipeline(steps=[('columntransformer',\n",
              "                                                         ColumnTransformer(transformers=[('standardscaler',\n",
              "                                                                                          StandardScaler(),\n",
              "                                                                                          <sklearn.compose._column_transformer.make_column_selector object at 0x7fd2aeb02fe0>),\n",
              "                                                                                         ('onehotencoder',\n",
              "                                                                                          OneHotEncoder(handle_unknown='ignore',\n",
              "                                                                                                        sparse=False),\n",
              "                                                                                          <sklearn.compose._column_transformer.make_column_selector object at 0x7fd2aeb02830>)])),\n",
              "                                                        ('pca',\n",
              "                                                         PCA(n_components=0.97))])),\n",
              "                                       ('logisticregression',\n",
              "                                        LogisticRegression())]),\n",
              "             param_grid={'logisticregression__C': (-3, 3, 7),\n",
              "                         'logisticregression__penalty': ['l1', 'l2'],\n",
              "                         'logisticregression__solver': ['newton-cg', 'lbfgs',\n",
              "                                                        'liblinear']})"
            ],
            "text/html": [
              "<style>#sk-container-id-27 {color: black;background-color: white;}#sk-container-id-27 pre{padding: 0;}#sk-container-id-27 div.sk-toggleable {background-color: white;}#sk-container-id-27 label.sk-toggleable__label {cursor: pointer;display: block;width: 100%;margin-bottom: 0;padding: 0.3em;box-sizing: border-box;text-align: center;}#sk-container-id-27 label.sk-toggleable__label-arrow:before {content: \"▸\";float: left;margin-right: 0.25em;color: #696969;}#sk-container-id-27 label.sk-toggleable__label-arrow:hover:before {color: black;}#sk-container-id-27 div.sk-estimator:hover label.sk-toggleable__label-arrow:before {color: black;}#sk-container-id-27 div.sk-toggleable__content {max-height: 0;max-width: 0;overflow: hidden;text-align: left;background-color: #f0f8ff;}#sk-container-id-27 div.sk-toggleable__content pre {margin: 0.2em;color: black;border-radius: 0.25em;background-color: #f0f8ff;}#sk-container-id-27 input.sk-toggleable__control:checked~div.sk-toggleable__content {max-height: 200px;max-width: 100%;overflow: auto;}#sk-container-id-27 input.sk-toggleable__control:checked~label.sk-toggleable__label-arrow:before {content: \"▾\";}#sk-container-id-27 div.sk-estimator input.sk-toggleable__control:checked~label.sk-toggleable__label {background-color: #d4ebff;}#sk-container-id-27 div.sk-label input.sk-toggleable__control:checked~label.sk-toggleable__label {background-color: #d4ebff;}#sk-container-id-27 input.sk-hidden--visually {border: 0;clip: rect(1px 1px 1px 1px);clip: rect(1px, 1px, 1px, 1px);height: 1px;margin: -1px;overflow: hidden;padding: 0;position: absolute;width: 1px;}#sk-container-id-27 div.sk-estimator {font-family: monospace;background-color: #f0f8ff;border: 1px dotted black;border-radius: 0.25em;box-sizing: border-box;margin-bottom: 0.5em;}#sk-container-id-27 div.sk-estimator:hover {background-color: #d4ebff;}#sk-container-id-27 div.sk-parallel-item::after {content: \"\";width: 100%;border-bottom: 1px solid gray;flex-grow: 1;}#sk-container-id-27 div.sk-label:hover label.sk-toggleable__label {background-color: #d4ebff;}#sk-container-id-27 div.sk-serial::before {content: \"\";position: absolute;border-left: 1px solid gray;box-sizing: border-box;top: 0;bottom: 0;left: 50%;z-index: 0;}#sk-container-id-27 div.sk-serial {display: flex;flex-direction: column;align-items: center;background-color: white;padding-right: 0.2em;padding-left: 0.2em;position: relative;}#sk-container-id-27 div.sk-item {position: relative;z-index: 1;}#sk-container-id-27 div.sk-parallel {display: flex;align-items: stretch;justify-content: center;background-color: white;position: relative;}#sk-container-id-27 div.sk-item::before, #sk-container-id-27 div.sk-parallel-item::before {content: \"\";position: absolute;border-left: 1px solid gray;box-sizing: border-box;top: 0;bottom: 0;left: 50%;z-index: -1;}#sk-container-id-27 div.sk-parallel-item {display: flex;flex-direction: column;z-index: 1;position: relative;background-color: white;}#sk-container-id-27 div.sk-parallel-item:first-child::after {align-self: flex-end;width: 50%;}#sk-container-id-27 div.sk-parallel-item:last-child::after {align-self: flex-start;width: 50%;}#sk-container-id-27 div.sk-parallel-item:only-child::after {width: 0;}#sk-container-id-27 div.sk-dashed-wrapped {border: 1px dashed gray;margin: 0 0.4em 0.5em 0.4em;box-sizing: border-box;padding-bottom: 0.4em;background-color: white;}#sk-container-id-27 div.sk-label label {font-family: monospace;font-weight: bold;display: inline-block;line-height: 1.2em;}#sk-container-id-27 div.sk-label-container {text-align: center;}#sk-container-id-27 div.sk-container {/* jupyter's `normalize.less` sets `[hidden] { display: none; }` but bootstrap.min.css set `[hidden] { display: none !important; }` so we also need the `!important` here to be able to override the default hidden behavior on the sphinx rendered scikit-learn.org. See: https://github.com/scikit-learn/scikit-learn/issues/21755 */display: inline-block !important;position: relative;}#sk-container-id-27 div.sk-text-repr-fallback {display: none;}</style><div id=\"sk-container-id-27\" class=\"sk-top-container\"><div class=\"sk-text-repr-fallback\"><pre>GridSearchCV(estimator=Pipeline(steps=[(&#x27;pipeline&#x27;,\n",
              "                                        Pipeline(steps=[(&#x27;columntransformer&#x27;,\n",
              "                                                         ColumnTransformer(transformers=[(&#x27;standardscaler&#x27;,\n",
              "                                                                                          StandardScaler(),\n",
              "                                                                                          &lt;sklearn.compose._column_transformer.make_column_selector object at 0x7fd2aeb02fe0&gt;),\n",
              "                                                                                         (&#x27;onehotencoder&#x27;,\n",
              "                                                                                          OneHotEncoder(handle_unknown=&#x27;ignore&#x27;,\n",
              "                                                                                                        sparse=False),\n",
              "                                                                                          &lt;sklearn.compose._column_transformer.make_column_selector object at 0x7fd2aeb02830&gt;)])),\n",
              "                                                        (&#x27;pca&#x27;,\n",
              "                                                         PCA(n_components=0.97))])),\n",
              "                                       (&#x27;logisticregression&#x27;,\n",
              "                                        LogisticRegression())]),\n",
              "             param_grid={&#x27;logisticregression__C&#x27;: (-3, 3, 7),\n",
              "                         &#x27;logisticregression__penalty&#x27;: [&#x27;l1&#x27;, &#x27;l2&#x27;],\n",
              "                         &#x27;logisticregression__solver&#x27;: [&#x27;newton-cg&#x27;, &#x27;lbfgs&#x27;,\n",
              "                                                        &#x27;liblinear&#x27;]})</pre><b>In a Jupyter environment, please rerun this cell to show the HTML representation or trust the notebook. <br />On GitHub, the HTML representation is unable to render, please try loading this page with nbviewer.org.</b></div><div class=\"sk-container\" hidden><div class=\"sk-item sk-dashed-wrapped\"><div class=\"sk-label-container\"><div class=\"sk-label sk-toggleable\"><input class=\"sk-toggleable__control sk-hidden--visually\" id=\"sk-estimator-id-236\" type=\"checkbox\" ><label for=\"sk-estimator-id-236\" class=\"sk-toggleable__label sk-toggleable__label-arrow\">GridSearchCV</label><div class=\"sk-toggleable__content\"><pre>GridSearchCV(estimator=Pipeline(steps=[(&#x27;pipeline&#x27;,\n",
              "                                        Pipeline(steps=[(&#x27;columntransformer&#x27;,\n",
              "                                                         ColumnTransformer(transformers=[(&#x27;standardscaler&#x27;,\n",
              "                                                                                          StandardScaler(),\n",
              "                                                                                          &lt;sklearn.compose._column_transformer.make_column_selector object at 0x7fd2aeb02fe0&gt;),\n",
              "                                                                                         (&#x27;onehotencoder&#x27;,\n",
              "                                                                                          OneHotEncoder(handle_unknown=&#x27;ignore&#x27;,\n",
              "                                                                                                        sparse=False),\n",
              "                                                                                          &lt;sklearn.compose._column_transformer.make_column_selector object at 0x7fd2aeb02830&gt;)])),\n",
              "                                                        (&#x27;pca&#x27;,\n",
              "                                                         PCA(n_components=0.97))])),\n",
              "                                       (&#x27;logisticregression&#x27;,\n",
              "                                        LogisticRegression())]),\n",
              "             param_grid={&#x27;logisticregression__C&#x27;: (-3, 3, 7),\n",
              "                         &#x27;logisticregression__penalty&#x27;: [&#x27;l1&#x27;, &#x27;l2&#x27;],\n",
              "                         &#x27;logisticregression__solver&#x27;: [&#x27;newton-cg&#x27;, &#x27;lbfgs&#x27;,\n",
              "                                                        &#x27;liblinear&#x27;]})</pre></div></div></div><div class=\"sk-parallel\"><div class=\"sk-parallel-item\"><div class=\"sk-item\"><div class=\"sk-label-container\"><div class=\"sk-label sk-toggleable\"><input class=\"sk-toggleable__control sk-hidden--visually\" id=\"sk-estimator-id-237\" type=\"checkbox\" ><label for=\"sk-estimator-id-237\" class=\"sk-toggleable__label sk-toggleable__label-arrow\">estimator: Pipeline</label><div class=\"sk-toggleable__content\"><pre>Pipeline(steps=[(&#x27;pipeline&#x27;,\n",
              "                 Pipeline(steps=[(&#x27;columntransformer&#x27;,\n",
              "                                  ColumnTransformer(transformers=[(&#x27;standardscaler&#x27;,\n",
              "                                                                   StandardScaler(),\n",
              "                                                                   &lt;sklearn.compose._column_transformer.make_column_selector object at 0x7fd2aeb02fe0&gt;),\n",
              "                                                                  (&#x27;onehotencoder&#x27;,\n",
              "                                                                   OneHotEncoder(handle_unknown=&#x27;ignore&#x27;,\n",
              "                                                                                 sparse=False),\n",
              "                                                                   &lt;sklearn.compose._column_transformer.make_column_selector object at 0x7fd2aeb02830&gt;)])),\n",
              "                                 (&#x27;pca&#x27;, PCA(n_components=0.97))])),\n",
              "                (&#x27;logisticregression&#x27;, LogisticRegression())])</pre></div></div></div><div class=\"sk-serial\"><div class=\"sk-item\"><div class=\"sk-serial\"><div class=\"sk-item\"><div class=\"sk-label-container\"><div class=\"sk-label sk-toggleable\"><input class=\"sk-toggleable__control sk-hidden--visually\" id=\"sk-estimator-id-238\" type=\"checkbox\" ><label for=\"sk-estimator-id-238\" class=\"sk-toggleable__label sk-toggleable__label-arrow\">pipeline: Pipeline</label><div class=\"sk-toggleable__content\"><pre>Pipeline(steps=[(&#x27;columntransformer&#x27;,\n",
              "                 ColumnTransformer(transformers=[(&#x27;standardscaler&#x27;,\n",
              "                                                  StandardScaler(),\n",
              "                                                  &lt;sklearn.compose._column_transformer.make_column_selector object at 0x7fd2aeb02fe0&gt;),\n",
              "                                                 (&#x27;onehotencoder&#x27;,\n",
              "                                                  OneHotEncoder(handle_unknown=&#x27;ignore&#x27;,\n",
              "                                                                sparse=False),\n",
              "                                                  &lt;sklearn.compose._column_transformer.make_column_selector object at 0x7fd2aeb02830&gt;)])),\n",
              "                (&#x27;pca&#x27;, PCA(n_components=0.97))])</pre></div></div></div><div class=\"sk-serial\"><div class=\"sk-item sk-dashed-wrapped\"><div class=\"sk-label-container\"><div class=\"sk-label sk-toggleable\"><input class=\"sk-toggleable__control sk-hidden--visually\" id=\"sk-estimator-id-239\" type=\"checkbox\" ><label for=\"sk-estimator-id-239\" class=\"sk-toggleable__label sk-toggleable__label-arrow\">columntransformer: ColumnTransformer</label><div class=\"sk-toggleable__content\"><pre>ColumnTransformer(transformers=[(&#x27;standardscaler&#x27;, StandardScaler(),\n",
              "                                 &lt;sklearn.compose._column_transformer.make_column_selector object at 0x7fd2aeb02fe0&gt;),\n",
              "                                (&#x27;onehotencoder&#x27;,\n",
              "                                 OneHotEncoder(handle_unknown=&#x27;ignore&#x27;,\n",
              "                                               sparse=False),\n",
              "                                 &lt;sklearn.compose._column_transformer.make_column_selector object at 0x7fd2aeb02830&gt;)])</pre></div></div></div><div class=\"sk-parallel\"><div class=\"sk-parallel-item\"><div class=\"sk-item\"><div class=\"sk-label-container\"><div class=\"sk-label sk-toggleable\"><input class=\"sk-toggleable__control sk-hidden--visually\" id=\"sk-estimator-id-240\" type=\"checkbox\" ><label for=\"sk-estimator-id-240\" class=\"sk-toggleable__label sk-toggleable__label-arrow\">standardscaler</label><div class=\"sk-toggleable__content\"><pre>&lt;sklearn.compose._column_transformer.make_column_selector object at 0x7fd2aeb02fe0&gt;</pre></div></div></div><div class=\"sk-serial\"><div class=\"sk-item\"><div class=\"sk-estimator sk-toggleable\"><input class=\"sk-toggleable__control sk-hidden--visually\" id=\"sk-estimator-id-241\" type=\"checkbox\" ><label for=\"sk-estimator-id-241\" class=\"sk-toggleable__label sk-toggleable__label-arrow\">StandardScaler</label><div class=\"sk-toggleable__content\"><pre>StandardScaler()</pre></div></div></div></div></div></div><div class=\"sk-parallel-item\"><div class=\"sk-item\"><div class=\"sk-label-container\"><div class=\"sk-label sk-toggleable\"><input class=\"sk-toggleable__control sk-hidden--visually\" id=\"sk-estimator-id-242\" type=\"checkbox\" ><label for=\"sk-estimator-id-242\" class=\"sk-toggleable__label sk-toggleable__label-arrow\">onehotencoder</label><div class=\"sk-toggleable__content\"><pre>&lt;sklearn.compose._column_transformer.make_column_selector object at 0x7fd2aeb02830&gt;</pre></div></div></div><div class=\"sk-serial\"><div class=\"sk-item\"><div class=\"sk-estimator sk-toggleable\"><input class=\"sk-toggleable__control sk-hidden--visually\" id=\"sk-estimator-id-243\" type=\"checkbox\" ><label for=\"sk-estimator-id-243\" class=\"sk-toggleable__label sk-toggleable__label-arrow\">OneHotEncoder</label><div class=\"sk-toggleable__content\"><pre>OneHotEncoder(handle_unknown=&#x27;ignore&#x27;, sparse=False)</pre></div></div></div></div></div></div></div></div><div class=\"sk-item\"><div class=\"sk-estimator sk-toggleable\"><input class=\"sk-toggleable__control sk-hidden--visually\" id=\"sk-estimator-id-244\" type=\"checkbox\" ><label for=\"sk-estimator-id-244\" class=\"sk-toggleable__label sk-toggleable__label-arrow\">PCA</label><div class=\"sk-toggleable__content\"><pre>PCA(n_components=0.97)</pre></div></div></div></div></div><div class=\"sk-item\"><div class=\"sk-estimator sk-toggleable\"><input class=\"sk-toggleable__control sk-hidden--visually\" id=\"sk-estimator-id-245\" type=\"checkbox\" ><label for=\"sk-estimator-id-245\" class=\"sk-toggleable__label sk-toggleable__label-arrow\">LogisticRegression</label><div class=\"sk-toggleable__content\"><pre>LogisticRegression()</pre></div></div></div></div></div></div></div></div></div></div></div></div>"
            ]
          },
          "metadata": {},
          "execution_count": 161
        }
      ]
    },
    {
      "cell_type": "code",
      "source": [
        "# Find best parameters for the model\n",
        "log_grid.best_params_"
      ],
      "metadata": {
        "colab": {
          "base_uri": "https://localhost:8080/"
        },
        "id": "_cebXMETM4lZ",
        "outputId": "07cb879b-099a-4a5e-ee51-8d1f7f9f0fc4"
      },
      "execution_count": 162,
      "outputs": [
        {
          "output_type": "execute_result",
          "data": {
            "text/plain": [
              "{'logisticregression__C': 3,\n",
              " 'logisticregression__penalty': 'l1',\n",
              " 'logisticregression__solver': 'liblinear'}"
            ]
          },
          "metadata": {},
          "execution_count": 162
        }
      ]
    },
    {
      "cell_type": "code",
      "source": [
        "# Print score for the best hyperparameters\n",
        "log_grid.best_score_"
      ],
      "metadata": {
        "colab": {
          "base_uri": "https://localhost:8080/"
        },
        "id": "T-mdidKROFHl",
        "outputId": "43189c1a-5a64-496b-bea2-224ca5249db1"
      },
      "execution_count": 163,
      "outputs": [
        {
          "output_type": "execute_result",
          "data": {
            "text/plain": [
              "0.6104454685099846"
            ]
          },
          "metadata": {},
          "execution_count": 163
        }
      ]
    },
    {
      "cell_type": "code",
      "source": [
        "# Save model to best estimators\n",
        "best_log_reg = log_grid.best_estimator_"
      ],
      "metadata": {
        "id": "5mYsZzirOFE7"
      },
      "execution_count": 164,
      "outputs": []
    },
    {
      "cell_type": "code",
      "source": [
        "# Instantiate and fit GridSearchCV\n",
        "log_train_pred = best_log_reg.predict(X_train)\n",
        "log_test_pred = best_log_reg.predict(X_test)"
      ],
      "metadata": {
        "id": "KaUnmo29OwNY"
      },
      "execution_count": 165,
      "outputs": []
    },
    {
      "cell_type": "code",
      "source": [
        "print('Train\\n', classification_report(y_train, log_train_pred))\n",
        "print('Test\\n', classification_report(y_test, log_test_pred))"
      ],
      "metadata": {
        "colab": {
          "base_uri": "https://localhost:8080/"
        },
        "id": "1Pwv41elOwLh",
        "outputId": "6abeeced-aeab-4d03-add6-56f25131a316"
      },
      "execution_count": 166,
      "outputs": [
        {
          "output_type": "stream",
          "name": "stdout",
          "text": [
            "Train\n",
            "                  precision    recall  f1-score   support\n",
            "\n",
            "D-penicillamine       0.57      0.67      0.61       127\n",
            "Non_Participant       1.00      1.00      1.00        70\n",
            "        Placebo       0.55      0.44      0.49       116\n",
            "\n",
            "       accuracy                           0.66       313\n",
            "      macro avg       0.71      0.70      0.70       313\n",
            "   weighted avg       0.66      0.66      0.65       313\n",
            "\n",
            "Test\n",
            "                  precision    recall  f1-score   support\n",
            "\n",
            "D-penicillamine       0.40      0.45      0.42        31\n",
            "Non_Participant       1.00      1.00      1.00        36\n",
            "        Placebo       0.50      0.45      0.47        38\n",
            "\n",
            "       accuracy                           0.64       105\n",
            "      macro avg       0.63      0.63      0.63       105\n",
            "   weighted avg       0.64      0.64      0.64       105\n",
            "\n"
          ]
        }
      ]
    },
    {
      "cell_type": "code",
      "source": [
        "# Display the test and training Confusion Matrix\n",
        "fig, axes = plt.subplots(ncols=2, figsize=(17,6))\n",
        "\n",
        "ConfusionMatrixDisplay.from_predictions(y_train, train_preds,\n",
        "                                        ax=axes[0], cmap='Blues',normalize='true')\n",
        "\n",
        "axes[0].set_title('Logistic Regression Train CM')\n",
        "ConfusionMatrixDisplay.from_predictions(y_test, test_preds,\n",
        "                                        ax=axes[1], cmap='flare',normalize='true')\n",
        "\n",
        "axes[1].set_title('Logistic Regression Test CM');\n"
      ],
      "metadata": {
        "colab": {
          "base_uri": "https://localhost:8080/",
          "height": 564
        },
        "outputId": "b1d2350c-70f9-4897-c065-79153f0e329e",
        "id": "rozrf4zPY1o5"
      },
      "execution_count": 167,
      "outputs": [
        {
          "output_type": "display_data",
          "data": {
            "text/plain": [
              "<Figure size 1700x600 with 4 Axes>"
            ],
            "image/png": "[encoded data removed]"
          },
          "metadata": {}
        }
      ]
    },
    {
      "cell_type": "markdown",
      "source": [
        "## Analysis & Recommendations:\n",
        "\n",
        "- The KNN tuned model would be the best model for making predictions of whether a patient was prescribed D-penicillamine, a placebo, or didn't participate in the clinical trial but provided medical information. Although the test scores fall by 3% (displayed below), both train and test metrics are higher than any of the models."
      ],
      "metadata": {
        "id": "8eo-f9BMaJlU"
      }
    },
    {
      "cell_type": "code",
      "source": [
        "# Print Classification Reports\n",
        "print('Train\\n', classification_report(y_train, train_preds))\n",
        "print('Test\\n', classification_report(y_test, test_preds))"
      ],
      "metadata": {
        "colab": {
          "base_uri": "https://localhost:8080/"
        },
        "outputId": "3d28ffb7-1d1e-4427-bdf2-23e9e14dd2e6",
        "id": "WJJlShgGp-43"
      },
      "execution_count": 168,
      "outputs": [
        {
          "output_type": "stream",
          "name": "stdout",
          "text": [
            "Train\n",
            "                  precision    recall  f1-score   support\n",
            "\n",
            "D-penicillamine       0.62      0.83      0.71       127\n",
            "Non_Participant       1.00      1.00      1.00        70\n",
            "        Placebo       0.70      0.44      0.54       116\n",
            "\n",
            "       accuracy                           0.72       313\n",
            "      macro avg       0.77      0.76      0.75       313\n",
            "   weighted avg       0.73      0.72      0.71       313\n",
            "\n",
            "Test\n",
            "                  precision    recall  f1-score   support\n",
            "\n",
            "D-penicillamine       0.49      0.77      0.60        31\n",
            "Non_Participant       0.97      1.00      0.99        36\n",
            "        Placebo       0.63      0.32      0.42        38\n",
            "\n",
            "       accuracy                           0.69       105\n",
            "      macro avg       0.70      0.70      0.67       105\n",
            "   weighted avg       0.71      0.69      0.67       105\n",
            "\n"
          ]
        }
      ]
    }
  ]
}